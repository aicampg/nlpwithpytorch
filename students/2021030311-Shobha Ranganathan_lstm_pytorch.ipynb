{
  "nbformat": 4,
  "nbformat_minor": 0,
  "metadata": {
    "kernelspec": {
      "display_name": "Python 3",
      "language": "python",
      "name": "python3"
    },
    "language_info": {
      "codemirror_mode": {
        "name": "ipython",
        "version": 3
      },
      "file_extension": ".py",
      "mimetype": "text/x-python",
      "name": "python",
      "nbconvert_exporter": "python",
      "pygments_lexer": "ipython3",
      "version": "3.6.6"
    },
    "colab": {
      "name": "sentiment-analysis-using-lstm-pytorch_4.ipynb",
      "provenance": [],
      "collapsed_sections": [],
      "machine_shape": "hm"
    },
    "accelerator": "GPU"
  },
  "cells": [
    {
      "cell_type": "markdown",
      "metadata": {
        "id": "ZqsyfQJhEQji"
      },
      "source": [
        "In this kernel we will go through a sentiment analysis on Reddit dataset using LSTM. This notebook is been written by combing through Kaggle and many other websites that provide sample tutorials on how to do sentimental analysis.\n",
        "\n",
        "We focus only on the sentiment of body of the comment."
      ]
    },
    {
      "cell_type": "code",
      "metadata": {
        "_cell_guid": "b1076dfc-b9ad-4769-8c92-a6c4dae69d19",
        "_uuid": "8f2839f25d086af736a60e9eeb907d3b93b6e0e5",
        "colab": {
          "base_uri": "https://localhost:8080/"
        },
        "id": "PXl3USgsEQjj",
        "outputId": "e902a251-c995-4a50-88c2-712d16535508"
      },
      "source": [
        "import numpy as np # linear algebra\n",
        "import pandas as pd # data processing, CSV file I/O (e.g. pd.read_csv)\n",
        "import torch\n",
        "import torch.nn as nn\n",
        "\n",
        "import torch.nn.functional as F\n",
        "from nltk.corpus import stopwords \n",
        "from collections import Counter\n",
        "import string\n",
        "import re\n",
        "import seaborn as sns\n",
        "from tqdm import tqdm\n",
        "import matplotlib.pyplot as plt\n",
        "from torch.utils.data import TensorDataset, DataLoader\n",
        "from sklearn.model_selection import train_test_split\n",
        "\n",
        "import nltk\n",
        "nltk.download([\"names\",\"stopwords\",\"state_union\",\"twitter_samples\",\"movie_reviews\",\"averaged_perceptron_tagger\",\"vader_lexicon\",\"punkt\"])\n",
        "from nltk.sentiment import SentimentIntensityAnalyzer"
      ],
      "execution_count": 1,
      "outputs": [
        {
          "output_type": "stream",
          "text": [
            "[nltk_data] Downloading package names to /root/nltk_data...\n",
            "[nltk_data]   Package names is already up-to-date!\n",
            "[nltk_data] Downloading package stopwords to /root/nltk_data...\n",
            "[nltk_data]   Package stopwords is already up-to-date!\n",
            "[nltk_data] Downloading package state_union to /root/nltk_data...\n",
            "[nltk_data]   Package state_union is already up-to-date!\n",
            "[nltk_data] Downloading package twitter_samples to /root/nltk_data...\n",
            "[nltk_data]   Package twitter_samples is already up-to-date!\n",
            "[nltk_data] Downloading package movie_reviews to /root/nltk_data...\n",
            "[nltk_data]   Package movie_reviews is already up-to-date!\n",
            "[nltk_data] Downloading package averaged_perceptron_tagger to\n",
            "[nltk_data]     /root/nltk_data...\n",
            "[nltk_data]   Package averaged_perceptron_tagger is already up-to-\n",
            "[nltk_data]       date!\n",
            "[nltk_data] Downloading package vader_lexicon to /root/nltk_data...\n",
            "[nltk_data]   Package vader_lexicon is already up-to-date!\n",
            "[nltk_data] Downloading package punkt to /root/nltk_data...\n",
            "[nltk_data]   Package punkt is already up-to-date!\n"
          ],
          "name": "stdout"
        },
        {
          "output_type": "stream",
          "text": [
            "/usr/local/lib/python3.7/dist-packages/nltk/twitter/__init__.py:20: UserWarning: The twython library has not been installed. Some functionality from the twitter package will not be available.\n",
            "  warnings.warn(\"The twython library has not been installed. \"\n"
          ],
          "name": "stderr"
        }
      ]
    },
    {
      "cell_type": "code",
      "metadata": {
        "colab": {
          "base_uri": "https://localhost:8080/"
        },
        "id": "UYRzAkkpEQjk",
        "outputId": "f7741cc4-f14c-4447-c1dc-0eaeaeb97f8d"
      },
      "source": [
        "is_cuda = torch.cuda.is_available()\n",
        "\n",
        "# If we have a GPU available, we'll set our device to GPU. We'll use this device variable later in our code.\n",
        "if is_cuda:\n",
        "    device = torch.device(\"cuda\")\n",
        "    print(\"GPU is available\")\n",
        "else:\n",
        "    device = torch.device(\"cpu\")\n",
        "    print(\"GPU not available, CPU used\")"
      ],
      "execution_count": 2,
      "outputs": [
        {
          "output_type": "stream",
          "text": [
            "GPU is available\n"
          ],
          "name": "stdout"
        }
      ]
    },
    {
      "cell_type": "code",
      "metadata": {
        "_cell_guid": "79c7e3d0-c299-4dcb-8224-4455121ee9b0",
        "_uuid": "d629ff2d2480ee46fbb7e2d37f6b5fab8052498a",
        "colab": {
          "base_uri": "https://localhost:8080/",
          "height": 204
        },
        "id": "jFcdQvhnEQjk",
        "outputId": "cb640a13-ab6d-4519-fe86-be1f78b716f3"
      },
      "source": [
        "base_csv = '/content/reddit_wsb.csv'\n",
        "df = pd.read_csv(base_csv)\n",
        "df.drop(columns=['id', 'url', 'created','score','comms_num'], inplace=True)\n",
        "df.head()"
      ],
      "execution_count": 3,
      "outputs": [
        {
          "output_type": "execute_result",
          "data": {
            "text/html": [
              "<div>\n",
              "<style scoped>\n",
              "    .dataframe tbody tr th:only-of-type {\n",
              "        vertical-align: middle;\n",
              "    }\n",
              "\n",
              "    .dataframe tbody tr th {\n",
              "        vertical-align: top;\n",
              "    }\n",
              "\n",
              "    .dataframe thead th {\n",
              "        text-align: right;\n",
              "    }\n",
              "</style>\n",
              "<table border=\"1\" class=\"dataframe\">\n",
              "  <thead>\n",
              "    <tr style=\"text-align: right;\">\n",
              "      <th></th>\n",
              "      <th>title</th>\n",
              "      <th>body</th>\n",
              "      <th>timestamp</th>\n",
              "    </tr>\n",
              "  </thead>\n",
              "  <tbody>\n",
              "    <tr>\n",
              "      <th>0</th>\n",
              "      <td>It's not about the money, it's about sending a...</td>\n",
              "      <td>NaN</td>\n",
              "      <td>2021-01-28 21:37:41</td>\n",
              "    </tr>\n",
              "    <tr>\n",
              "      <th>1</th>\n",
              "      <td>Math Professor Scott Steiner says the numbers ...</td>\n",
              "      <td>NaN</td>\n",
              "      <td>2021-01-28 21:32:10</td>\n",
              "    </tr>\n",
              "    <tr>\n",
              "      <th>2</th>\n",
              "      <td>Exit the system</td>\n",
              "      <td>The CEO of NASDAQ pushed to halt trading “to g...</td>\n",
              "      <td>2021-01-28 21:30:35</td>\n",
              "    </tr>\n",
              "    <tr>\n",
              "      <th>3</th>\n",
              "      <td>NEW SEC FILING FOR GME! CAN SOMEONE LESS RETAR...</td>\n",
              "      <td>NaN</td>\n",
              "      <td>2021-01-28 21:28:57</td>\n",
              "    </tr>\n",
              "    <tr>\n",
              "      <th>4</th>\n",
              "      <td>Not to distract from GME, just thought our AMC...</td>\n",
              "      <td>NaN</td>\n",
              "      <td>2021-01-28 21:26:56</td>\n",
              "    </tr>\n",
              "  </tbody>\n",
              "</table>\n",
              "</div>"
            ],
            "text/plain": [
              "                                               title  ...            timestamp\n",
              "0  It's not about the money, it's about sending a...  ...  2021-01-28 21:37:41\n",
              "1  Math Professor Scott Steiner says the numbers ...  ...  2021-01-28 21:32:10\n",
              "2                                    Exit the system  ...  2021-01-28 21:30:35\n",
              "3  NEW SEC FILING FOR GME! CAN SOMEONE LESS RETAR...  ...  2021-01-28 21:28:57\n",
              "4  Not to distract from GME, just thought our AMC...  ...  2021-01-28 21:26:56\n",
              "\n",
              "[5 rows x 3 columns]"
            ]
          },
          "metadata": {
            "tags": []
          },
          "execution_count": 3
        }
      ]
    },
    {
      "cell_type": "markdown",
      "metadata": {
        "id": "bCeeQSTCHeYv"
      },
      "source": [
        "Let's label the data with the sentiment and use nltk sentimental analysis for getting that information"
      ]
    },
    {
      "cell_type": "code",
      "metadata": {
        "colab": {
          "base_uri": "https://localhost:8080/",
          "height": 408
        },
        "id": "ySWba760HdC9",
        "outputId": "cd270c6a-42cd-421b-f343-cc08630e2986"
      },
      "source": [
        "import nltk\n",
        "from nltk.sentiment import SentimentIntensityAnalyzer\n",
        "\n",
        "sid                        = SentimentIntensityAnalyzer()\n",
        "df['main_sentiments']      = df['body'].apply(lambda x: sid.polarity_scores(' '.join(re.findall(r'\\w+',str(x).lower()))))\n",
        "df['Positive Sentiment']   = df['main_sentiments'].apply(lambda x: x['pos']+1*(10**-6)) \n",
        "df['Neutral Sentiment']    = df['main_sentiments'].apply(lambda x: x['neu']+1*(10**-6))\n",
        "df['Negative Sentiment']   = df['main_sentiments'].apply(lambda x: x['neg']+1*(10**-6))\n",
        "df['sents']                = df[['Positive Sentiment', 'Neutral Sentiment', 'Negative Sentiment']].idxmax(axis=1)\n",
        "print(df['main_sentiments'].head())\n",
        "\n",
        "df['length'] = df['body'].apply(lambda s: len(str(s).split()))\n",
        "df.sort_values(by=['length'], ascending=False, inplace=True)\n",
        "df=df[df.length >1]\n",
        "df=df.reset_index()\n",
        "df.head()"
      ],
      "execution_count": 4,
      "outputs": [
        {
          "output_type": "stream",
          "text": [
            "0    {'neg': 0.0, 'neu': 1.0, 'pos': 0.0, 'compound...\n",
            "1    {'neg': 0.0, 'neu': 1.0, 'pos': 0.0, 'compound...\n",
            "2    {'neg': 0.07, 'neu': 0.87, 'pos': 0.059, 'comp...\n",
            "3    {'neg': 0.0, 'neu': 1.0, 'pos': 0.0, 'compound...\n",
            "4    {'neg': 0.0, 'neu': 1.0, 'pos': 0.0, 'compound...\n",
            "Name: main_sentiments, dtype: object\n"
          ],
          "name": "stdout"
        },
        {
          "output_type": "execute_result",
          "data": {
            "text/html": [
              "<div>\n",
              "<style scoped>\n",
              "    .dataframe tbody tr th:only-of-type {\n",
              "        vertical-align: middle;\n",
              "    }\n",
              "\n",
              "    .dataframe tbody tr th {\n",
              "        vertical-align: top;\n",
              "    }\n",
              "\n",
              "    .dataframe thead th {\n",
              "        text-align: right;\n",
              "    }\n",
              "</style>\n",
              "<table border=\"1\" class=\"dataframe\">\n",
              "  <thead>\n",
              "    <tr style=\"text-align: right;\">\n",
              "      <th></th>\n",
              "      <th>index</th>\n",
              "      <th>title</th>\n",
              "      <th>body</th>\n",
              "      <th>timestamp</th>\n",
              "      <th>main_sentiments</th>\n",
              "      <th>Positive Sentiment</th>\n",
              "      <th>Neutral Sentiment</th>\n",
              "      <th>Negative Sentiment</th>\n",
              "      <th>sents</th>\n",
              "      <th>length</th>\n",
              "    </tr>\n",
              "  </thead>\n",
              "  <tbody>\n",
              "    <tr>\n",
              "      <th>0</th>\n",
              "      <td>17232</td>\n",
              "      <td>Gamestop Big Picture: The Short Singularity Pt...</td>\n",
              "      <td>Yes, as you read, cross post from r/boringpeo...</td>\n",
              "      <td>2021-01-30 02:40:55</td>\n",
              "      <td>{'neg': 0.108, 'neu': 0.753, 'pos': 0.14, 'com...</td>\n",
              "      <td>0.140001</td>\n",
              "      <td>0.753001</td>\n",
              "      <td>0.108001</td>\n",
              "      <td>Neutral Sentiment</td>\n",
              "      <td>6140</td>\n",
              "    </tr>\n",
              "    <tr>\n",
              "      <th>1</th>\n",
              "      <td>37146</td>\n",
              "      <td>Dark DD and possible profit in the face of ano...</td>\n",
              "      <td># Preface\\n\\nI  want to start by saying this h...</td>\n",
              "      <td>2021-03-02 10:36:36</td>\n",
              "      <td>{'neg': 0.129, 'neu': 0.788, 'pos': 0.083, 'co...</td>\n",
              "      <td>0.083001</td>\n",
              "      <td>0.788001</td>\n",
              "      <td>0.129001</td>\n",
              "      <td>Neutral Sentiment</td>\n",
              "      <td>5764</td>\n",
              "    </tr>\n",
              "    <tr>\n",
              "      <th>2</th>\n",
              "      <td>36697</td>\n",
              "      <td>History of short squeezes and corners</td>\n",
              "      <td>Very long post summarising hundreds of years w...</td>\n",
              "      <td>2021-02-27 22:41:29</td>\n",
              "      <td>{'neg': 0.089, 'neu': 0.806, 'pos': 0.105, 'co...</td>\n",
              "      <td>0.105001</td>\n",
              "      <td>0.806001</td>\n",
              "      <td>0.089001</td>\n",
              "      <td>Neutral Sentiment</td>\n",
              "      <td>5762</td>\n",
              "    </tr>\n",
              "    <tr>\n",
              "      <th>3</th>\n",
              "      <td>34748</td>\n",
              "      <td>The silver short squeeze is glaringly obvious ...</td>\n",
              "      <td>First off, if you are long GME this is not a p...</td>\n",
              "      <td>2021-02-20 14:42:16</td>\n",
              "      <td>{'neg': 0.057, 'neu': 0.855, 'pos': 0.088, 'co...</td>\n",
              "      <td>0.088001</td>\n",
              "      <td>0.855001</td>\n",
              "      <td>0.057001</td>\n",
              "      <td>Neutral Sentiment</td>\n",
              "      <td>5127</td>\n",
              "    </tr>\n",
              "    <tr>\n",
              "      <th>4</th>\n",
              "      <td>33429</td>\n",
              "      <td>The Commodity Super-cycle trade: A macro DD wi...</td>\n",
              "      <td>“Commodities? What the hell is that?” asks the...</td>\n",
              "      <td>2021-02-16 11:25:01</td>\n",
              "      <td>{'neg': 0.065, 'neu': 0.811, 'pos': 0.125, 'co...</td>\n",
              "      <td>0.125001</td>\n",
              "      <td>0.811001</td>\n",
              "      <td>0.065001</td>\n",
              "      <td>Neutral Sentiment</td>\n",
              "      <td>5071</td>\n",
              "    </tr>\n",
              "  </tbody>\n",
              "</table>\n",
              "</div>"
            ],
            "text/plain": [
              "   index  ... length\n",
              "0  17232  ...   6140\n",
              "1  37146  ...   5764\n",
              "2  36697  ...   5762\n",
              "3  34748  ...   5127\n",
              "4  33429  ...   5071\n",
              "\n",
              "[5 rows x 10 columns]"
            ]
          },
          "metadata": {
            "tags": []
          },
          "execution_count": 4
        }
      ]
    },
    {
      "cell_type": "markdown",
      "metadata": {
        "id": "JEvtvrkHEQjl"
      },
      "source": [
        "### Splitting to train and test data"
      ]
    },
    {
      "cell_type": "markdown",
      "metadata": {
        "id": "ov8XniQYEQjl"
      },
      "source": [
        "We will split data to train and test initially.We can save 10% of data as test data. Use the rest 90% for training and validation of the model.\n"
      ]
    },
    {
      "cell_type": "code",
      "metadata": {
        "colab": {
          "base_uri": "https://localhost:8080/"
        },
        "id": "XywVMmJGEQjl",
        "outputId": "11aaef55-c4c5-4589-fd05-cc90a690030f"
      },
      "source": [
        "X,y = df['body'].values,df['sents'].values\n",
        "x_train,x_test,y_train,y_test = train_test_split(X,y,stratify=y)\n",
        "print(f'shape of xtrain data is {x_train.shape}')\n",
        "print(f'shape of ytrain data is {y_train.shape}')\n",
        "print(f'shape of test data is {x_test.shape}')\n"
      ],
      "execution_count": 5,
      "outputs": [
        {
          "output_type": "stream",
          "text": [
            "shape of xtrain data is (14710,)\n",
            "shape of ytrain data is (14710,)\n",
            "shape of test data is (4904,)\n"
          ],
          "name": "stdout"
        }
      ]
    },
    {
      "cell_type": "markdown",
      "metadata": {
        "id": "rm9KewojEQjm"
      },
      "source": [
        "### Analysing sentiment"
      ]
    },
    {
      "cell_type": "code",
      "metadata": {
        "id": "Vbuedqf1hqGW"
      },
      "source": [
        "print(X[10])\n",
        "print(y[197:])\n"
      ],
      "execution_count": null,
      "outputs": []
    },
    {
      "cell_type": "markdown",
      "metadata": {
        "id": "vJnkHs3fEQjm"
      },
      "source": [
        "### Tockenization"
      ]
    },
    {
      "cell_type": "code",
      "metadata": {
        "id": "mUKE7sg5EQjm"
      },
      "source": [
        "def preprocess_string(s):\n",
        "    # Remove all non-word characters (everything except numbers and letters)\n",
        "    s = re.sub(r\"[^\\w\\s]\", '', s)\n",
        "    # Replace all runs of whitespaces with no space\n",
        "    s = re.sub(r\"\\s+\", '', s)\n",
        "    # replace digits with no space\n",
        "    s = re.sub(r\"\\d\", '', s)\n",
        "\n",
        "    return s\n",
        "\n",
        "def tockenize(x_train,y_train,x_val,y_val):\n",
        "    word_list = []\n",
        "    encoded_test =[]\n",
        "    encoded_train = []\n",
        "    stop_words = set(stopwords.words('english')) \n",
        "    for sent in x_train:\n",
        "        for word in str(sent).lower().split():\n",
        "            word = preprocess_string(word)\n",
        "            if word not in stop_words and word != '':\n",
        "                word_list.append(word)\n",
        "  \n",
        "    corpus = Counter(word_list)\n",
        "    # sorting on the basis of most common words\n",
        "    corpus_ = sorted(corpus,key=corpus.get,reverse=True)[:1000]\n",
        "    # creating a dict\n",
        "    onehot_dict = {w:i+1 for i,w in enumerate(corpus_)}\n",
        "    \n",
        "    # tockenize\n",
        "    final_list_train,final_list_test = [],[]\n",
        "    for sent in x_train:\n",
        "            final_list_train.append([onehot_dict[preprocess_string(word)] for word in sent.lower().split() \n",
        "                                     if preprocess_string(word) in onehot_dict.keys()])\n",
        "    for sent in x_val:\n",
        "            final_list_test.append([onehot_dict[preprocess_string(word)] for word in sent.lower().split() \n",
        "                                    if preprocess_string(word) in onehot_dict.keys()])\n",
        "            \n",
        "    for label in y_train:\n",
        "      if label == 'Positive Sentiment':\n",
        "        encoded_train.append(1)\n",
        "      elif label == 'Negative Sentiment':\n",
        "        encoded_train.append(2)\n",
        "      else:\n",
        "        encoded_train.append(0)\n",
        "    for label in y_val:\n",
        "      if label == 'Positive Sentiment':\n",
        "        encoded_test.append(1)\n",
        "      elif label == 'Negative Sentiment':\n",
        "        encoded_test.append(2)\n",
        "      else:\n",
        "        encoded_test.append(0)    \n",
        "    return np.array(final_list_train), np.array(encoded_train),np.array(final_list_test), np.array(encoded_test),onehot_dict\n"
      ],
      "execution_count": 8,
      "outputs": []
    },
    {
      "cell_type": "code",
      "metadata": {
        "colab": {
          "base_uri": "https://localhost:8080/"
        },
        "id": "_TOPKFyLEQjn",
        "outputId": "b7d490aa-6461-41fe-da23-1215780ed27f"
      },
      "source": [
        "x_train,y_train,x_test,y_test,vocab = tockenize(x_train,y_train,x_test,y_test)"
      ],
      "execution_count": 9,
      "outputs": [
        {
          "output_type": "stream",
          "text": [
            "/usr/local/lib/python3.7/dist-packages/ipykernel_launcher.py:51: VisibleDeprecationWarning: Creating an ndarray from ragged nested sequences (which is a list-or-tuple of lists-or-tuples-or ndarrays with different lengths or shapes) is deprecated. If you meant to do this, you must specify 'dtype=object' when creating the ndarray\n"
          ],
          "name": "stderr"
        }
      ]
    },
    {
      "cell_type": "code",
      "metadata": {
        "colab": {
          "base_uri": "https://localhost:8080/"
        },
        "id": "KpR9EarqEQjn",
        "outputId": "5cee745d-3319-42f6-8467-d55b804c26a6"
      },
      "source": [
        "#tokenizer = get_tokenizer('basic_english')\n",
        "print(vocab)\n",
        "print(f'Length of vocabulary is {len(vocab)}')\n",
        "print(x_train[:10])\n",
        "print(y_train[:10000])\n",
        "print(x_test[:10])\n",
        "print(y_test[:90])"
      ],
      "execution_count": 10,
      "outputs": [
        {
          "output_type": "stream",
          "text": [
            "{'gme': 1, 'stock': 2, 'shares': 3, 'like': 4, 'market': 5, 'im': 6, 'price': 7, 'short': 8, 'buy': 9, 'dont': 10, 'people': 11, 'money': 12, 'get': 13, 'know': 14, 'us': 15, 'would': 16, 'going': 17, 'one': 18, 'time': 19, 'xb': 20, 'make': 21, 'hold': 22, 'even': 23, 'sell': 24, 'see': 25, 'also': 26, 'think': 27, 'go': 28, 'company': 29, 'still': 30, 'stocks': 31, 'back': 32, 'could': 33, 'new': 34, 'robinhood': 35, 'want': 36, 'share': 37, 'fucking': 38, 'trading': 39, 'financial': 40, 'squeeze': 41, 'right': 42, 'hedge': 43, 'last': 44, 'amc': 45, 'good': 46, 'much': 47, 'buying': 48, 'take': 49, 'way': 50, 'day': 51, 'funds': 52, 'need': 53, 'long': 54, 'well': 55, 'fuck': 56, 'big': 57, 'many': 58, 'shorts': 59, 'year': 60, 'week': 61, 'holding': 62, 'lot': 63, 'interest': 64, 'thats': 65, 'positions': 66, 'cant': 67, 'first': 68, 'next': 69, 'million': 70, 'edit': 71, 'really': 72, 'options': 73, 'may': 74, 'today': 75, 'shit': 76, 'post': 77, 'got': 78, 'since': 79, 'retail': 80, 'keep': 81, 'look': 82, 'every': 83, 'ive': 84, 'selling': 85, 'around': 86, 'best': 87, 'earnings': 88, 'high': 89, 'days': 90, 'wsb': 91, 'bought': 92, 'investors': 93, 'lets': 94, 'advice': 95, 'call': 96, 'position': 97, 'volume': 98, 'made': 99, 'youre': 100, 'years': 101, 'already': 102, 'everyone': 103, 'say': 104, 'companies': 105, 'calls': 106, 'use': 107, 'put': 108, 'cash': 109, 'k': 110, 'let': 111, 'gamestop': 112, 'account': 113, 'point': 114, 'something': 115, 'guys': 116, 'value': 117, 'actually': 118, 'another': 119, 'thing': 120, 'trade': 121, 'data': 122, 'trying': 123, 'never': 124, 'play': 125, 'believe': 126, 'moon': 127, 'dd': 128, 'b': 129, 'theyre': 130, 'said': 131, 'revenue': 132, 'might': 133, 'sure': 134, 'billion': 135, 'tldr': 136, 'silver': 137, 'lose': 138, 'stop': 139, 'end': 140, 'low': 141, 'enough': 142, 'means': 143, 'due': 144, 'please': 145, 'business': 146, 'sold': 147, 'getting': 148, 'current': 149, 'isnt': 150, 'give': 151, 'cover': 152, 'things': 153, 'real': 154, 'two': 155, 'doesnt': 156, 'growth': 157, 'didnt': 158, 'read': 159, 'little': 160, 'probably': 161, 'help': 162, 'come': 163, 'game': 164, 'x': 165, 'better': 166, 'hands': 167, 'theres': 168, 'order': 169, 'retards': 170, 'open': 171, 'world': 172, 'start': 173, 'wont': 174, 'likely': 175, 'making': 176, 'per': 177, 'pay': 178, 'news': 179, 'able': 180, 'anyone': 181, 'loss': 182, 'th': 183, 'looking': 184, 'free': 185, 'part': 186, 'close': 187, 'wall': 188, 'seen': 189, 'currently': 190, 'rh': 191, 'bb': 192, 'future': 193, 'great': 194, 'risk': 195, 'past': 196, 'investment': 197, 'find': 198, 'maybe': 199, 'happen': 200, 'prices': 201, 'huge': 202, 'melvin': 203, 'work': 204, 'capital': 205, 'anything': 206, 'brokers': 207, 'sub': 208, 'goes': 209, 'ever': 210, 'line': 211, 'higher': 212, 'weeks': 213, 'fund': 214, 'move': 215, 'increase': 216, 'strong': 217, 'potential': 218, 'profit': 219, 'however': 220, 'apes': 221, 'worth': 222, 'ill': 223, 'went': 224, 'someone': 225, 'lost': 226, 'everything': 227, 'sec': 228, 'street': 229, 'diamond': 230, 'coming': 231, 'nothing': 232, 'months': 233, 'feel': 234, 'number': 235, 'manipulation': 236, 'used': 237, 'power': 238, 'based': 239, 'markets': 240, 'love': 241, 'reason': 242, 'media': 243, 'amount': 244, 'without': 245, 'less': 246, 'total': 247, 'understand': 248, 'etc': 249, 'dip': 250, 'term': 251, 'using': 252, 'losses': 253, 'option': 254, 'together': 255, 'shorted': 256, 'started': 257, 'continue': 258, 'average': 259, 'nok': 260, 'try': 261, 'life': 262, 'change': 263, 'seems': 264, 'yet': 265, 'least': 266, 'float': 267, 'saying': 268, 'happened': 269, 'always': 270, 'away': 271, 'others': 272, 'hope': 273, 'retarded': 274, 'small': 275, 'massive': 276, 'possible': 277, 'top': 278, 'tell': 279, 'case': 280, 'hard': 281, 'mean': 282, 'margin': 283, 'else': 284, 'place': 285, 'large': 286, 'far': 287, 'c': 288, 'gains': 289, 'fact': 290, 'literally': 291, 'cap': 292, 'whats': 293, 'hit': 294, 'demand': 295, 'saw': 296, 'whole': 297, 'yes': 298, 'pretty': 299, 'done': 300, 'industry': 301, 'covid': 302, 'remember': 303, 'makes': 304, 'sales': 305, 'trades': 306, 'bad': 307, 'q': 308, 'gonna': 309, 'friday': 310, 'posts': 311, 'debt': 312, 'information': 313, 'march': 314, 'cause': 315, 'win': 316, 'cost': 317, 'month': 318, 'side': 319, 'though': 320, 'ago': 321, 'run': 322, 'citadel': 323, 'almost': 324, 'soon': 325, 'app': 326, 'wrong': 327, 'reddit': 328, 'thought': 329, 'system': 330, 'set': 331, 'numbers': 332, 'retard': 333, 'important': 334, 'different': 335, 'taking': 336, 'tendies': 337, 'report': 338, 'invest': 339, 'lower': 340, 'investing': 341, 'amzn': 342, 'matter': 343, 'either': 344, 'broker': 345, 'paper': 346, 'support': 347, 'times': 348, 'recent': 349, 'available': 350, 'instead': 351, 'daily': 352, 'rocket': 353, 'full': 354, 'puts': 355, 'seeing': 356, 'idea': 357, 'investor': 358, 'orders': 359, 'research': 360, 'arent': 361, 'advisor': 362, 'gamma': 363, 'stay': 364, 'net': 365, 'become': 366, 'contracts': 367, 'must': 368, 'happens': 369, 'dollars': 370, 'meme': 371, 'tomorrow': 372, 'bit': 373, 'wanted': 374, 'yesterday': 375, 'click': 376, 'platform': 377, 'morning': 378, 'fidelity': 379, 'took': 380, 'ape': 381, 'following': 382, 'single': 383, 'january': 384, 'true': 385, 'whatever': 386, 'losing': 387, 'rich': 388, 'expect': 389, 'shorting': 390, 'happening': 391, 'tesla': 392, 'public': 393, 'history': 394, 'show': 395, 'entire': 396, 'drop': 397, 'left': 398, 'basically': 399, 'plan': 400, 'given': 401, 'care': 402, 'supply': 403, 'called': 404, 'fellow': 405, 'bet': 406, 'customers': 407, 'covered': 408, 'gets': 409, 'opportunity': 410, 'situation': 411, 'heres': 412, 'users': 413, 'wait': 414, 'check': 415, 'traders': 416, 'thinking': 417, 'recently': 418, 'ceo': 419, 'accounts': 420, 'ask': 421, 'talking': 422, 'longer': 423, 'house': 424, 'opinion': 425, 'hours': 426, 'second': 427, 'comes': 428, 'securities': 429, 'deal': 430, 'held': 431, 'old': 432, 'action': 433, 'brokerage': 434, 'id': 435, 'rise': 436, 'monday': 437, 'quarter': 438, 'rate': 439, 'cannot': 440, 'including': 441, 'purchase': 442, 'products': 443, 'major': 444, 'half': 445, 'millions': 446, 'working': 447, 'guy': 448, 'hand': 449, 'live': 450, 'target': 451, 'thanks': 452, 'government': 453, 'clear': 454, 'group': 455, 'tech': 456, 'gain': 457, 'ones': 458, 'havent': 459, 'fucked': 460, 'needs': 461, 'community': 462, 'level': 463, 'volatility': 464, 'couple': 465, 'talk': 466, 'found': 467, 'looks': 468, 'limit': 469, 'profits': 470, 'especially': 471, 'compared': 472, 'came': 473, 'early': 474, 'fight': 475, 'closed': 476, 'link': 477, 'online': 478, 'pandemic': 479, 'within': 480, 'naked': 481, 'rkt': 482, 'later': 483, 'increased': 484, 'expected': 485, 'allow': 486, 'movement': 487, 'product': 488, 'chance': 489, 'ass': 490, 'transfer': 491, 'simply': 492, 'man': 493, 'bunch': 494, 'rest': 495, 'finally': 496, 'moment': 497, 'process': 498, 'multiple': 499, 'wouldnt': 500, 'theyve': 501, 'clearing': 502, 'actual': 503, 'says': 504, 'comments': 505, 'example': 506, 'moving': 507, 'bank': 508, 'behind': 509, 'weve': 510, 'add': 511, 'strategy': 512, 'attention': 513, 'knows': 514, 'energy': 515, 'completely': 516, 'name': 517, 'paid': 518, 'management': 519, 'ladder': 520, 'nokia': 521, 'guess': 522, 'certain': 523, 'jan': 524, 'banks': 525, 'inflation': 526, 'turn': 527, 'ratio': 528, 'sellers': 529, 'biggest': 530, 'mind': 531, 'rates': 532, 'note': 533, 'question': 534, 'create': 535, 'course': 536, 'strike': 537, 'easy': 538, 'class': 539, 'drive': 540, 'date': 541, 'similar': 542, 'institutions': 543, 'portfolio': 544, 'kind': 545, 'bring': 546, 'restrictions': 547, 'absolutely': 548, 'afford': 549, 'discussion': 550, 'dollar': 551, 'obviously': 552, 'feb': 553, 'technology': 554, 'learn': 555, 'thank': 556, 'home': 557, 'late': 558, 'bullish': 559, 'contract': 560, 'platforms': 561, 'across': 562, 'ev': 563, 'grow': 564, 'hell': 565, 'listen': 566, 'deep': 567, 'income': 568, 'chart': 569, 'autists': 570, 'watching': 571, 'board': 572, 'cheap': 573, 'momentum': 574, 'forward': 575, 'simple': 576, 'boys': 577, 'cannabis': 578, 'watch': 579, 'story': 580, 'control': 581, 'person': 582, 'problem': 583, 'analysis': 584, 'reading': 585, 'youll': 586, 'positive': 587, 'follow': 588, 'crash': 589, 'heard': 590, 'subreddit': 591, 'source': 592, 'disclaimer': 593, 'stupid': 594, 'pltr': 595, 'posted': 596, 'ride': 597, 'growing': 598, 'companys': 599, 'services': 600, 'sale': 601, 'red': 602, 'announced': 603, 'stuff': 604, 'access': 605, 'quick': 606, 'gone': 607, 'three': 608, 'push': 609, 'experience': 610, 'along': 611, 'decided': 612, 'yall': 613, 'games': 614, 'attack': 615, 'firms': 616, 'explain': 617, 'smart': 618, 'sense': 619, 'normal': 620, 'giving': 621, 'gaming': 622, 'friends': 623, 'ok': 624, 'assets': 625, 'list': 626, 'rules': 627, 'vs': 628, 'allowing': 629, 'brokerages': 630, 'wasnt': 631, 'tried': 632, 'general': 633, 'whether': 634, 'previous': 635, 'pop': 636, 'flow': 637, 'costs': 638, 'traded': 639, 'reasons': 640, 'pressure': 641, 'break': 642, 'largest': 643, 'february': 644, 'article': 645, 'extremely': 646, 'anymore': 647, 'green': 648, 'several': 649, 'seem': 650, 'interesting': 651, 'institutional': 652, 'stand': 653, 'stonks': 654, 'taken': 655, 'crazy': 656, 'ability': 657, 'dividend': 658, 'hear': 659, 'bigger': 660, 'rather': 661, 'exactly': 662, 'issue': 663, 'customer': 664, 'global': 665, 'reported': 666, 'works': 667, 'provide': 668, 'space': 669, 'willing': 670, 'trust': 671, 'beat': 672, 'consider': 673, 'security': 674, 'alone': 675, 'fall': 676, 'itm': 677, 'changed': 678, 'common': 679, 'amazon': 680, 'war': 681, 'economy': 682, 'valuation': 683, 'significant': 684, 'gold': 685, 'service': 686, 'youve': 687, 'thoughts': 688, 'yolo': 689, 'hype': 690, 'bullshit': 691, 'undervalued': 692, 'playing': 693, 'beyond': 694, 'quite': 695, 'liquidity': 696, 'allowed': 697, 'invested': 698, 'tsla': 699, 'according': 700, 'g': 701, 'near': 702, 'finance': 703, 'states': 704, 'return': 705, 'ready': 706, 'leave': 707, 'american': 708, 'takes': 709, 'fair': 710, 'software': 711, 'billions': 712, 'double': 713, 'poor': 714, 'told': 715, 'closing': 716, 'needed': 717, 'created': 718, 'webull': 719, 'result': 720, 'fundamentals': 721, 'despite': 722, 'mods': 723, 'realize': 724, 'cohen': 725, 'starting': 726, 'paying': 727, 'team': 728, 'levels': 729, 'range': 730, 'fun': 731, 'deliver': 732, 'vaccine': 733, 'outstanding': 734, 'slv': 735, 'results': 736, 'negative': 737, 'illegal': 738, 'players': 739, 'anyway': 740, 'wants': 741, 'waiting': 742, 'buys': 743, 'comment': 744, 'update': 745, 'period': 746, 'focus': 747, 'firm': 748, 'thursday': 749, 'fast': 750, 'delta': 751, 'shows': 752, 'quickly': 753, 'thread': 754, 'additional': 755, 'eventually': 756, 'production': 757, 'hedgies': 758, 'job': 759, 'damn': 760, 'bottom': 761, 'legal': 762, 'imagine': 763, 'brain': 764, 'plays': 765, 'internet': 766, 'hes': 767, 'unless': 768, 'personal': 769, 'figure': 770, 'credit': 771, 'oh': 772, 'oil': 773, 'forced': 774, 'telling': 775, 'words': 776, 'spread': 777, 'increasing': 778, 'main': 779, 'personally': 780, 'couldnt': 781, 'added': 782, 'hey': 783, 'panic': 784, 'attacks': 785, 'super': 786, 'car': 787, 'pull': 788, 'original': 789, 'dfv': 790, 'definitely': 791, 'lots': 792, 'ps': 793, 'send': 794, 'balance': 795, 'operating': 796, 'info': 797, 'physical': 798, 'reach': 799, 'save': 800, 'majority': 801, 'cnbc': 802, 'nice': 803, 'posting': 804, 'google': 805, 'ahead': 806, 'dropped': 807, 'meaning': 808, 'asking': 809, 'dumb': 810, 'truly': 811, 'seriously': 812, 'fear': 813, 'social': 814, 'tax': 815, 'todays': 816, 'wifes': 817, 'sector': 818, 'fed': 819, 'fully': 820, 'scared': 821, 'shut': 822, 'forget': 823, 'video': 824, 'theyll': 825, 'makers': 826, 'tuesday': 827, 'smooth': 828, 'trend': 829, 'force': 830, 'overall': 831, 'hfs': 832, 'exchange': 833, 'ton': 834, 'spike': 835, 'event': 836, 'holdings': 837, 'easily': 838, 'apps': 839, 'boomer': 840, 'nearly': 841, 'form': 842, 'points': 843, 'china': 844, 'pe': 845, 'beginning': 846, 'record': 847, 'sitting': 848, 'god': 849, 'happy': 850, 'message': 851, 'yeah': 852, 'immediately': 853, 'safe': 854, 'profitable': 855, 'theory': 856, 'involved': 857, 'release': 858, 'bag': 859, 'td': 860, 'sorry': 861, 'model': 862, 'jump': 863, 'although': 864, 'holders': 865, 'members': 866, 'boyfriend': 867, 'solid': 868, 'futures': 869, 'peak': 870, 'equity': 871, 'protect': 872, 'highly': 873, 'store': 874, 'potentially': 875, 'nobody': 876, 'eat': 877, 'borrow': 878, 'thousands': 879, 'advantage': 880, 'clearly': 881, 'usually': 882, 'otm': 883, 'savings': 884, 'known': 885, 'mm': 886, 'decision': 887, 'covering': 888, 'dips': 889, 'spend': 890, 'phone': 891, 'blackberry': 892, 'shareholders': 893, 'join': 894, 'december': 895, 'key': 896, 'requirements': 897, 'inc': 898, 'state': 899, 'sentiment': 900, 'rule': 901, 'zero': 902, 'minutes': 903, 'sells': 904, 'limited': 905, 'moves': 906, 'fine': 907, 'questions': 908, 'palantir': 909, 'decisions': 910, 'family': 911, 'step': 912, 'issues': 913, 'analyst': 914, 'head': 915, 'sign': 916, 'bots': 917, 'insane': 918, 'twitter': 919, 'scare': 920, 'delivery': 921, 'trader': 922, 'ways': 923, 'estimates': 924, 'build': 925, 'via': 926, 'recommend': 927, 'scenario': 928, 'gives': 929, 'page': 930, 'luck': 931, 'okay': 932, 'knew': 933, 'stonk': 934, 'stores': 935, 'raise': 936, 'heavily': 937, 'decide': 938, 'ticker': 939, 'cut': 940, 'benefit': 941, 'restricted': 942, 'prior': 943, 'investments': 944, 'betting': 945, 'putting': 946, 'ipo': 947, 'premium': 948, 'sp': 949, 'difference': 950, 'offer': 951, 'manipulate': 952, 'pm': 953, 'thesis': 954, 'thus': 955, 'terms': 956, 'directly': 957, 'bankruptcy': 958, 'type': 959, 'brand': 960, 'earlier': 961, 'notice': 962, 'answer': 963, 'learned': 964, 'hasnt': 965, 'country': 966, 'owned': 967, 'gave': 968, 'fucks': 969, 'st': 970, 'exercise': 971, 'mentioned': 972, 'amd': 973, 'caused': 974, 'elon': 975, 'united': 976, 'buyers': 977, 'website': 978, 'possibly': 979, 'events': 980, 'night': 981, 'wanna': 982, 'bull': 983, 'leading': 984, 'weed': 985, 'forever': 986, 'activity': 987, 'basis': 988, 'stick': 989, 'none': 990, 'movie': 991, 'obvious': 992, 'hate': 993, 'driving': 994, 'showing': 995, 'till': 996, 'food': 997, 'except': 998, 'april': 999, 'porn': 1000}\n",
            "Length of vocabulary is 1000\n",
            "[list([596, 237, 27, 788, 228, 58, 207, 626, 956, 5, 359, 315, 237, 68, 626, 354, 20, 20, 719, 20, 379, 20, 20, 20, 20, 20, 169, 323, 5, 359, 65, 612, 107, 99, 77, 79, 251, 143, 852, 126, 47, 207, 169, 637, 323, 212, 143, 794, 359, 323, 30, 46, 931, 508, 73, 797, 903, 198, 111, 14, 207, 198, 228, 20, 234, 185, 82, 139, 153, 11, 77, 766, 14, 33, 99, 186, 215, 303, 323, 120, 16, 345, 942, 39, 4, 58, 5, 492, 20, 40, 291, 95, 77, 313])\n",
            " list([596, 11, 30, 809, 719, 191, 25, 11, 10, 53, 345, 502, 626, 207, 107, 502, 504, 364, 565, 271, 504, 502, 364, 565, 271, 14, 191, 187, 696, 149, 364, 565, 156, 343, 1, 45, 10, 400, 371, 31, 696, 913, 31, 35, 469, 31, 4, 973, 23, 81, 207, 26, 107, 502, 424, 502, 65, 63, 98, 477, 297, 330, 102, 749, 76, 207, 720, 81, 295, 136, 198, 345, 104, 502, 72, 345, 40, 95, 425, 4, 2, 491, 2, 400, 85, 69, 90, 191, 49, 61, 28])\n",
            " list([223, 48, 62, 54, 251, 183, 643, 62, 194, 52, 2, 837, 246, 118, 42, 947, 32, 51, 92, 105, 257, 12, 29, 47, 212, 242, 68, 285, 789, 419, 47, 166, 419, 285, 384, 29, 554, 404, 57, 46, 105, 105, 297, 640, 105, 16, 175, 9, 640, 638, 79, 168, 246, 10, 105, 161, 334, 63, 246, 669, 115, 943, 779, 120, 29, 88, 34, 44, 60, 684, 142, 13, 513, 616, 142, 21, 183, 643, 62, 44, 60, 607, 79, 30, 89, 142, 142, 554, 675, 101, 163, 173, 995, 587, 88, 161, 120, 46, 54, 22, 79, 33, 63, 218, 5, 292, 70, 148, 166, 148, 246, 737, 998, 308, 791, 17, 3, 65, 374, 37])\n",
            " list([158, 936, 346, 167])\n",
            " list([100, 4, 100, 252, 39, 33, 160, 120, 67, 647, 501, 484, 240, 15])\n",
            " list([6, 40, 362, 333, 6, 62, 56, 188, 970])\n",
            " list([662, 181, 489, 7, 30, 17, 19]) list([36, 653, 577, 9, 192, 260])\n",
            " list([53, 111, 14, 14, 130, 738, 440, 48, 65, 5, 56, 228, 76, 45, 1, 260, 127])\n",
            " list([53, 34, 2, 345, 478, 633, 393, 21, 12, 487, 53, 971, 9, 24, 53, 641, 57, 12, 94, 13, 257, 81, 487])]\n",
            "[0 0 0 ... 0 0 0]\n",
            "[list([477, 113, 222, 224, 306, 1, 272, 113, 795, 19, 293, 320, 269, 1, 37, 7, 16, 106, 47, 346, 345, 200, 27, 78, 8, 41, 33, 269, 181, 284, 94, 13, 76, 319, 533, 141, 463, 664, 686, 113, 153, 21, 28])\n",
            " list([31, 868, 884, 192, 6, 490, 4, 693, 12, 6, 932, 387, 16, 30, 787, 249, 375, 4, 38, 382, 95, 208, 56, 42, 84, 22, 225, 617, 527, 71, 783, 38, 170, 500, 693, 2, 5, 933, 33, 138, 12, 274, 6, 62, 849, 279, 309, 907, 26, 6, 35, 92, 38])\n",
            " list([23, 25, 11, 104, 128, 91, 585, 311, 466, 194, 9, 22, 1, 128, 53, 121, 33, 594, 126, 42, 284, 25, 843, 118, 154, 128])\n",
            " list([10, 14, 329, 500, 32, 175, 623, 188, 229, 1, 366, 172, 188, 229, 70, 15, 275, 120, 562, 172, 995, 364, 217, 287, 653])\n",
            " list([932, 209, 38, 203, 323, 404, 345, 35, 272, 48, 1, 3, 55, 147, 73, 883, 329, 1, 7, 16, 124, 294, 83, 383, 254, 310, 12, 143, 16, 12, 310, 7, 156, 676, 32, 36, 920, 11, 417, 11, 173, 85, 1, 3, 344, 152, 8, 609, 7, 22, 38, 4, 262, 171, 681])\n",
            " list([18, 49])\n",
            " list([454, 188, 229, 204, 449, 449, 25, 105, 249, 107, 243, 240, 535, 813, 21, 15, 24, 9, 188, 229, 993, 26, 454, 453, 667, 40, 387, 149, 525, 120, 491, 394, 944, 178, 760, 525, 78, 51, 12, 26, 454, 857, 50, 26, 276, 508, 14, 570, 198, 46, 797, 91, 96, 15, 22, 966, 86, 172, 82, 261, 591, 81, 123, 11, 14, 23, 22, 211])\n",
            " list([133, 274, 65, 6, 191, 326, 326, 874, 79, 326, 26, 703, 115, 10, 126, 570, 62, 5, 10, 23, 707, 356, 326, 68, 19, 326, 326, 874, 115, 22, 143, 185, 657, 22, 703, 876, 741, 326, 246, 10, 982, 11, 162, 13, 74, 655, 337, 134, 15, 56, 741, 337, 245, 849, 760])\n",
            " list([150, 47, 6, 40, 362, 10, 14, 56, 6, 422, 14, 84, 50, 110, 595, 380, 567, 27, 467, 834, 157, 15, 107, 773, 171, 171, 171, 325, 602, 704, 704, 23, 83, 666, 778, 235, 295, 173, 171, 325, 173, 216, 665, 773, 67, 322, 563, 67, 322, 563, 773, 285, 99, 12, 685, 242, 106])\n",
            " list([54, 580, 8, 11, 15, 919, 444, 913, 588, 34, 919, 13, 15, 604, 420, 510, 78, 919, 208, 15, 840, 311, 184, 591, 939, 876, 422, 13, 76, 300, 208, 940, 11])]\n",
            "[0 0 0 0 0 0 0 0 0 0 0 0 0 0 0 0 0 0 0 0 0 0 0 0 0 0 0 0 0 0 0 0 0 0 0 0 0\n",
            " 0 0 0 0 0 0 0 0 0 0 0 0 0 0 0 2 0 0 0 0 1 0 0 0 0 0 0 0 0 0 0 0 0 0 0 0 0\n",
            " 0 0 0 0 0 0 0 0 0 0 0 0 0 0 1 0]\n"
          ],
          "name": "stdout"
        }
      ]
    },
    {
      "cell_type": "markdown",
      "metadata": {
        "id": "HfK03FFEEQjn"
      },
      "source": [
        "### Analysing review length"
      ]
    },
    {
      "cell_type": "code",
      "metadata": {
        "colab": {
          "base_uri": "https://localhost:8080/",
          "height": 418
        },
        "id": "32HnwJBPEQjn",
        "outputId": "067832f5-bf1f-484f-8e8d-393898a77c3b"
      },
      "source": [
        "rev_len = [len(i) for i in x_train]\n",
        "pd.Series(rev_len).hist()\n",
        "plt.show()\n",
        "pd.Series(rev_len).describe()"
      ],
      "execution_count": 11,
      "outputs": [
        {
          "output_type": "display_data",
          "data": {
            "image/png": "[encoded data removed]",
            "text/plain": [
              "<Figure size 432x288 with 1 Axes>"
            ]
          },
          "metadata": {
            "tags": [],
            "needs_background": "light"
          }
        },
        {
          "output_type": "execute_result",
          "data": {
            "text/plain": [
              "count    14710.000000\n",
              "mean        54.198368\n",
              "std         96.838595\n",
              "min          0.000000\n",
              "25%          7.000000\n",
              "50%         21.000000\n",
              "75%         60.000000\n",
              "max       2132.000000\n",
              "dtype: float64"
            ]
          },
          "metadata": {
            "tags": []
          },
          "execution_count": 11
        }
      ]
    },
    {
      "cell_type": "markdown",
      "metadata": {
        "id": "BAlWZUdxEQjo"
      },
      "source": [
        "Observations : <br>a) Mean body length = around 54.<br> b) minimum length of body is 0.<br>c)There are quite a few body comments that are extremely long. We still include them in the dataset."
      ]
    },
    {
      "cell_type": "markdown",
      "metadata": {
        "id": "aOSHSoQhEQjo"
      },
      "source": [
        "### Padding"
      ]
    },
    {
      "cell_type": "markdown",
      "metadata": {
        "id": "MFI4MehqEQjo"
      },
      "source": [
        "Now we will pad each of the sequence to max length "
      ]
    },
    {
      "cell_type": "code",
      "metadata": {
        "id": "W4gd-M4IEQjo"
      },
      "source": [
        "def padding_(sentences, seq_len):\n",
        "    features = np.zeros((len(sentences), seq_len),dtype=int)\n",
        "    for ii, review in enumerate(sentences):\n",
        "        if len(review) != 0:\n",
        "            features[ii, -len(review):] = np.array(review)[:seq_len]\n",
        "    return features"
      ],
      "execution_count": 12,
      "outputs": []
    },
    {
      "cell_type": "code",
      "metadata": {
        "id": "ojjmh1JUEQjo"
      },
      "source": [
        "#we have very less number of reviews with length > 500.\n",
        "#So we will consideronly those below it.\n",
        "x_train_pad = padding_(x_train,100)\n",
        "x_test_pad = padding_(x_test,100)\n"
      ],
      "execution_count": 13,
      "outputs": []
    },
    {
      "cell_type": "markdown",
      "metadata": {
        "id": "aNKgIW-iEQjp"
      },
      "source": [
        "### Batching and loading as tensor"
      ]
    },
    {
      "cell_type": "code",
      "metadata": {
        "id": "S-faoXAhEQjp",
        "colab": {
          "base_uri": "https://localhost:8080/"
        },
        "outputId": "eebe0b87-e0e8-4226-bc1c-0645c0018cf1"
      },
      "source": [
        "print(y_train.shape)\n",
        "print(x_train_pad.shape)\n",
        "# create Tensor datasets\n",
        "train_data = TensorDataset(torch.from_numpy(x_train_pad), torch.from_numpy(y_train))\n",
        "valid_data = TensorDataset(torch.from_numpy(x_test_pad), torch.from_numpy(y_test))\n",
        "\n",
        "# dataloaders\n",
        "batch_size = 2\n",
        "\n",
        "print(y_train.shape)\n",
        "# make sure to SHUFFLE your data\n",
        "train_loader = DataLoader(train_data, shuffle=True, batch_size=batch_size)\n",
        "valid_loader = DataLoader(valid_data, shuffle=True, batch_size=batch_size)"
      ],
      "execution_count": 14,
      "outputs": [
        {
          "output_type": "stream",
          "text": [
            "(14710,)\n",
            "(14710, 100)\n",
            "(14710,)\n"
          ],
          "name": "stdout"
        }
      ]
    },
    {
      "cell_type": "code",
      "metadata": {
        "colab": {
          "base_uri": "https://localhost:8080/"
        },
        "id": "90ZC_cwYEQjp",
        "outputId": "a077fced-7794-4a07-be32-ebb89b805906"
      },
      "source": [
        "# obtain one batch of training data\n",
        "dataiter = iter(train_loader)\n",
        "sample_x, sample_y = dataiter.next()\n",
        "\n",
        "print('Sample input size: ', sample_x.size()) # batch_size, seq_length\n",
        "print('Sample input: \\n', sample_x)\n",
        "print('Sample input: \\n', sample_y)"
      ],
      "execution_count": 15,
      "outputs": [
        {
          "output_type": "stream",
          "text": [
            "Sample input size:  torch.Size([2, 100])\n",
            "Sample input: \n",
            " tensor([[  0,   0,   0,   0,   0,   0,   0,   0,   0,   0,   0,   0,   0,   0,\n",
            "           0,   0,   0,   0,   0,   0,   0,   0,   0,   0,   0,   0,   0,   0,\n",
            "           0,   0,   0,   0,   0,   0,   0,   0,   0,   0,   0,   0,   0,   0,\n",
            "           0,   0,   0,   0,   0,   0,   0,   0,   0,   0,   0,   0,   0,   0,\n",
            "          46, 378, 418,  78,  39,  44,  60,  92,  31,  84,  78,   2, 531,  26,\n",
            "         557, 557,  10,  47, 339,  16, 241, 397, 110,   1,  10,  47, 397, 129,\n",
            "          10,  27,   3,  47, 558, 164,  16, 558, 863,   1,  16,  73, 905, 109,\n",
            "          95, 556],\n",
            "        [405, 570, 119,  91,  78,  24,  99, 494, 337, 138, 801,  96,  73, 869,\n",
            "         847,  30,  27,  46, 125, 774,  42, 899, 211,  97, 776,   4,  27, 810,\n",
            "          76,  63,  11,  10,  72, 673,  18,  20, 194,  35, 761, 797, 534, 160,\n",
            "          37,   2, 341,   6, 134,  96,   6,  26,  63,   3,  13,   1, 215,  94,\n",
            "          82,  58, 543, 943, 175,  28, 394,  19,  23, 184, 652,  10,  25,  35,\n",
            "         967,   1, 943, 541,  35, 180,  24, 275, 871,   2, 245, 118, 908, 471,\n",
            "          79,   3, 503, 297,  35,  85,   3, 500, 297,  37, 169,   2,   3,  24,\n",
            "         377,  35]])\n",
            "Sample input: \n",
            " tensor([0, 0])\n"
          ],
          "name": "stdout"
        }
      ]
    },
    {
      "cell_type": "markdown",
      "metadata": {
        "id": "jGv3DM4REQjp"
      },
      "source": [
        "### Model"
      ]
    },
    {
      "cell_type": "code",
      "metadata": {
        "id": "S6YdaBqmEQjp"
      },
      "source": [
        "class SentimentRNN(nn.Module):\n",
        "    def __init__(self,no_layers,vocab_size,hidden_dim,embedding_dim,drop_prob=0.5):\n",
        "        super(SentimentRNN,self).__init__()\n",
        " \n",
        "        self.output_dim = output_dim\n",
        "        self.hidden_dim = hidden_dim\n",
        " \n",
        "        self.no_layers = no_layers\n",
        "        self.vocab_size = vocab_size\n",
        "    \n",
        "        # embedding and LSTM layers\n",
        "        self.embedding = nn.Embedding(vocab_size, embedding_dim)\n",
        "        \n",
        "        #lstm\n",
        "        self.lstm = nn.LSTM(input_size=embedding_dim,hidden_size=self.hidden_dim,num_layers=no_layers, batch_first=True)\n",
        "        \n",
        "        # dropout layer\n",
        "        self.dropout = nn.Dropout(0.3)\n",
        "    \n",
        "        # linear and sigmoid layer\n",
        "        self.fc = nn.Linear(self.hidden_dim, output_dim)\n",
        "        self.sig = nn.Sigmoid()\n",
        "        \n",
        "    def forward(self,x,hidden):\n",
        "        batch_size = x.size(0)\n",
        "        # embeddings and lstm_out\n",
        "        embeds = self.embedding(x)  # shape: B x S x Feature   since batch = True\n",
        "        #print(embeds.shape)  #[50, 500, 1000]\n",
        "        lstm_out, hidden = self.lstm(embeds, hidden)\n",
        "        \n",
        "        lstm_out = lstm_out.contiguous().view(-1, self.hidden_dim) \n",
        "        \n",
        "        # dropout and fully connected layer\n",
        "        out = self.dropout(lstm_out)\n",
        "        out = self.fc(out)\n",
        "        \n",
        "        # sigmoid function\n",
        "        sig_out = self.sig(out)\n",
        "        \n",
        "        # reshape to be batch_size first\n",
        "        sig_out = sig_out.view(batch_size, -1)\n",
        "\n",
        "        sig_out = sig_out[:, -1] # get last batch of labels\n",
        "        \n",
        "        # return last sigmoid output and hidden state\n",
        "        return sig_out, hidden\n",
        "           \n",
        "    def init_hidden(self, batch_size):\n",
        "        ''' Initializes hidden state '''\n",
        "        # Create two new tensors with sizes n_layers x batch_size x hidden_dim,\n",
        "        # initialized to zero, for hidden state and cell state of LSTM\n",
        "        h0 = torch.zeros((self.no_layers,batch_size,self.hidden_dim)).to(device)\n",
        "        c0 = torch.zeros((self.no_layers,batch_size,self.hidden_dim)).to(device)\n",
        "        hidden = (h0,c0)\n",
        "        return hidden\n",
        "\n",
        "              "
      ],
      "execution_count": 24,
      "outputs": []
    },
    {
      "cell_type": "code",
      "metadata": {
        "colab": {
          "base_uri": "https://localhost:8080/"
        },
        "id": "x3APhxB4EQjq",
        "outputId": "2a7762c3-bf14-4c98-90a7-3581e7f88b96"
      },
      "source": [
        "no_layers = 2\n",
        "vocab_size = len(vocab) + 1 #extra 1 for padding\n",
        "embedding_dim = 64\n",
        "output_dim = 1\n",
        "hidden_dim = 256\n",
        "\n",
        "model = SentimentRNN(no_layers,vocab_size,hidden_dim,embedding_dim,drop_prob=0.5)\n",
        "#model = SentimentRNN(no_layers,vocab_size,hidden_dim,embedding_dim,drop_prob=0.5)\n",
        "\n",
        "#moving to gpu\n",
        "model.to(device)\n",
        "\n",
        "print(model)\n"
      ],
      "execution_count": 25,
      "outputs": [
        {
          "output_type": "stream",
          "text": [
            "SentimentRNN(\n",
            "  (embedding): Embedding(1001, 64)\n",
            "  (lstm): LSTM(64, 256, num_layers=2, batch_first=True)\n",
            "  (dropout): Dropout(p=0.3, inplace=False)\n",
            "  (fc): Linear(in_features=256, out_features=1, bias=True)\n",
            "  (sig): Sigmoid()\n",
            ")\n"
          ],
          "name": "stdout"
        }
      ]
    },
    {
      "cell_type": "markdown",
      "metadata": {
        "id": "xSXmHg1nEQjq"
      },
      "source": [
        "### Training"
      ]
    },
    {
      "cell_type": "code",
      "metadata": {
        "id": "XZHwC-KrEQjq"
      },
      "source": [
        "# loss and optimization functions\n",
        "lr=0.001\n",
        "\n",
        "criterion = nn.BCELoss()\n",
        "\n",
        "optimizer = torch.optim.Adam(model.parameters(), lr=lr)\n",
        "\n",
        "# function to predict accuracy\n",
        "def acc(pred,label):\n",
        "    pred = torch.round(pred.squeeze())\n",
        "    return torch.sum(pred == label.squeeze()).item()\n"
      ],
      "execution_count": 26,
      "outputs": []
    },
    {
      "cell_type": "code",
      "metadata": {
        "colab": {
          "base_uri": "https://localhost:8080/"
        },
        "id": "R3029Xa4EQjq",
        "outputId": "c9e9d1dd-7521-4aa7-ac1d-ce4a52da6679"
      },
      "source": [
        "clip = 5\n",
        "epochs = 5 \n",
        "valid_loss_min = np.Inf\n",
        "# train for some number of epochs\n",
        "epoch_tr_loss,epoch_vl_loss = [],[]\n",
        "epoch_tr_acc,epoch_vl_acc = [],[]\n",
        "\n",
        "for epoch in range(epochs):\n",
        "    train_losses = []\n",
        "    train_acc = 0.0\n",
        "    model.train()\n",
        "    # initialize hidden state \n",
        "    h = model.init_hidden(batch_size)\n",
        "    for inputs, labels in train_loader:\n",
        "        \n",
        "        inputs, labels = inputs.to(device), labels.to(device)   \n",
        "        # Creating new variables for the hidden state, otherwise\n",
        "        # we'd backprop through the entire training history\n",
        "        h = tuple([each.data for each in h])\n",
        "        \n",
        "        model.zero_grad()\n",
        "        output,h = model(inputs,h)\n",
        "        \n",
        "        # calculate the loss and perform backprop\n",
        "        loss = criterion(output.squeeze(), labels.float())\n",
        "        loss.backward()\n",
        "        train_losses.append(loss.item())\n",
        "        # calculating accuracy\n",
        "        accuracy = acc(output,labels)\n",
        "        train_acc += accuracy\n",
        "        #`clip_grad_norm` helps prevent the exploding gradient problem in RNNs / LSTMs.\n",
        "        nn.utils.clip_grad_norm_(model.parameters(), clip)\n",
        "        optimizer.step()\n",
        " \n",
        "    \n",
        "        \n",
        "    val_h = model.init_hidden(batch_size)\n",
        "    val_losses = []\n",
        "    val_acc = 0.0\n",
        "    model.eval()\n",
        "    for inputs, labels in valid_loader:\n",
        "            val_h = tuple([each.data for each in val_h])\n",
        "\n",
        "            inputs, labels = inputs.to(device), labels.to(device)\n",
        "\n",
        "            output, val_h = model(inputs, val_h)\n",
        "            val_loss = criterion(output.squeeze(), labels.float())\n",
        "\n",
        "            val_losses.append(val_loss.item())\n",
        "            \n",
        "            accuracy = acc(output,labels)\n",
        "            val_acc += accuracy\n",
        "            \n",
        "    epoch_train_loss = np.mean(train_losses)\n",
        "    epoch_val_loss = np.mean(val_losses)\n",
        "    epoch_train_acc = train_acc/len(train_loader.dataset)\n",
        "    epoch_val_acc = val_acc/len(valid_loader.dataset)\n",
        "    epoch_tr_loss.append(epoch_train_loss)\n",
        "    epoch_vl_loss.append(epoch_val_loss)\n",
        "    epoch_tr_acc.append(epoch_train_acc)\n",
        "    epoch_vl_acc.append(epoch_val_acc)\n",
        "    print(f'Epoch {epoch+1}') \n",
        "    print(f'train_loss : {epoch_train_loss} val_loss : {epoch_val_loss}')\n",
        "    print(f'train_accuracy : {epoch_train_acc*100} val_accuracy : {epoch_val_acc*100}')\n",
        "    if epoch_val_loss <= valid_loss_min:\n",
        "        torch.save(model.state_dict(), '/content/state_dict.pt')\n",
        "        print('Validation loss decreased ({:.6f} --> {:.6f}).  Saving model ...'.format(valid_loss_min,epoch_val_loss))\n",
        "        valid_loss_min = epoch_val_loss\n",
        "    print(25*'==')\n",
        "    "
      ],
      "execution_count": 27,
      "outputs": [
        {
          "output_type": "stream",
          "text": [
            "Epoch 1\n",
            "train_loss : 0.11024288155192724 val_loss : 0.08670806205872489\n",
            "train_accuracy : 98.23929299796058 val_accuracy : 98.3278955954323\n",
            "Validation loss decreased (inf --> 0.086708).  Saving model ...\n",
            "==================================================\n",
            "Epoch 2\n",
            "train_loss : 0.0668403299537914 val_loss : 0.08307484405987507\n",
            "train_accuracy : 97.99456152277362 val_accuracy : 97.14518760195759\n",
            "Validation loss decreased (0.086708 --> 0.083075).  Saving model ...\n",
            "==================================================\n",
            "Epoch 3\n",
            "train_loss : 0.051716582726923706 val_loss : 0.07220569805131119\n",
            "train_accuracy : 98.03535010197145 val_accuracy : 98.12398042414355\n",
            "Validation loss decreased (0.083075 --> 0.072206).  Saving model ...\n",
            "==================================================\n",
            "Epoch 4\n",
            "train_loss : -0.024029111007393356 val_loss : 0.042927323408938754\n",
            "train_accuracy : 98.04214819850442 val_accuracy : 97.55301794453507\n",
            "Validation loss decreased (0.072206 --> 0.042927).  Saving model ...\n",
            "==================================================\n",
            "Epoch 5\n",
            "train_loss : -0.203311756803179 val_loss : 0.0814787636272666\n",
            "train_accuracy : 98.17131203263087 val_accuracy : 97.14518760195759\n",
            "==================================================\n"
          ],
          "name": "stdout"
        }
      ]
    },
    {
      "cell_type": "code",
      "metadata": {
        "colab": {
          "base_uri": "https://localhost:8080/",
          "height": 390
        },
        "id": "AwHGqfcrEQjr",
        "outputId": "b50c3076-750e-4727-833d-a852783bee0a"
      },
      "source": [
        "fig = plt.figure(figsize = (20, 6))\n",
        "plt.subplot(1, 2, 1)\n",
        "plt.plot(epoch_tr_acc, label='Train Acc')\n",
        "plt.plot(epoch_vl_acc, label='Validation Acc')\n",
        "plt.title(\"Accuracy\")\n",
        "plt.legend()\n",
        "plt.grid()\n",
        "    \n",
        "plt.subplot(1, 2, 2)\n",
        "plt.plot(epoch_tr_loss, label='Train loss')\n",
        "plt.plot(epoch_vl_loss, label='Validation loss')\n",
        "plt.title(\"Loss\")\n",
        "plt.legend()\n",
        "plt.grid()\n",
        "\n",
        "plt.show()"
      ],
      "execution_count": 28,
      "outputs": [
        {
          "output_type": "display_data",
          "data": {
            "image/png": "[encoded data removed]",
            "text/plain": [
              "<Figure size 1440x432 with 2 Axes>"
            ]
          },
          "metadata": {
            "tags": [],
            "needs_background": "light"
          }
        }
      ]
    },
    {
      "cell_type": "code",
      "metadata": {
        "id": "V93bRDAa5X4a"
      },
      "source": [
        "class_names=['Positive Sentiment']\n",
        "print(classification_report(y_true, y_pred, target_names=class_names))"
      ],
      "execution_count": null,
      "outputs": []
    }
  ]
}