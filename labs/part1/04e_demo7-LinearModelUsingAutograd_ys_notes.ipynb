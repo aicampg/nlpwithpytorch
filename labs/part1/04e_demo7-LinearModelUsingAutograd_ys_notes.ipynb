{
 "cells": [
  {
   "cell_type": "code",
   "execution_count": 2,
   "metadata": {},
   "outputs": [],
   "source": [
    "import numpy as np \n",
    "import matplotlib.pyplot as plt"
   ]
  },
  {
   "cell_type": "markdown",
   "metadata": {},
   "source": [
    "#### Creating Dataset\n",
    "A simple dataset using numpy arrays\n",
    "\n",
    "### Notes by Yash: \n",
    "\n",
    "#### Purpose\n",
    "1. Purpose: how to use gradient descent to train a neural network: has two passes- forward pass to make a prediction adn the optimizer calclates the loss and updates the model parameters in a backward pass\n",
    "1. Gradients are partial derivative of loss wrt each model parameter\n",
    "\n",
    "#### Setup\n",
    "1. PyTorch and other FW use automatic differentiation using the autograd package. \n",
    "1. **Notice the column format**: These are single features, `x_train` is a single column vector\n",
    "and `y_train` corresponds to the target value. \n",
    "1. We plot these data on a scatter plot - noticing the linearity of the relationship. \n",
    "1. To create a model, we first import the `torch` library and print the required grad property for both tensors, set to False by default. \n",
    "1. We create our basic NN model, with `input_size`, `hidden_size`, and `output_size` of the respective layers, all set to 1\n",
    "1. We will create this NN from scratch. Won't use any of Pytorch's built-in layers: `w1`: weights, shape is input size * hidden size and it needs gradients since it has model parameters. Gradients wrt loss function will be used to \n",
    "1. W2 shows the connect from hidden layer to output and grad is true. we will also train it using AutoGrad\n",
    "1. Next we have a design hyper parameter: learning rate which is the size of the step the model takes to the optimum. We multiply the learning rate with the gradient to determine how much to modify the training parameters. \n",
    "\n",
    "#### Training\n",
    "\n",
    "1. After making a forward path, we get `y_pred`: current predicted vales which we can use against the actual `y_train` values to calc the MSE loss. \n",
    "1. Print periodically so we know we're converging\n",
    "1. Calculate the gradient by performing the backward pass with `loss.backward()`: now `w1` and `w2` have gradients. \n",
    "1. For udpating, we don't need gradient tracking. so turn it off.\n",
    "1. subtract from teh current values of w1 and w2 zeroing out the existing gradients on both of these tensors: `w1.grad.zero_()` and `w2.grad.zero_()`\n",
    "\n",
    "#### Predictions\n",
    "\n",
    "1. Run the predicted tensor by multiplying x_train_tensor with the weights. \n",
    "1. Convert to numpy format to visualize with `matplotlib` scatter plot - to view the training data and the x_training against predicted vales\n",
    "1. We did not train for long - update to 100 iterations (epochs)\n"
   ]
  },
  {
   "cell_type": "code",
   "execution_count": 3,
   "metadata": {},
   "outputs": [],
   "source": [
    "x_train = np.array ([[4.7], [2.4], [7.5], [7.1], [4.3], [7.816], \n",
    "                     [8.9], [5.2], [8.59], [2.1], [8] , \n",
    "                     [10], [4.5], [6], [4]],\n",
    "                    dtype = np.float32)\n",
    "\n",
    "y_train = np.array ([[2.6], [1.6], [3.09], [2.4], [2.4], [3.357], \n",
    "                     [2.6], [1.96], [3.53], [1.76], [3.2] , \n",
    "                     [3.5], [1.6], [2.5], [2.2]], \n",
    "                    dtype = np.float32)"
   ]
  },
  {
   "cell_type": "code",
   "execution_count": 4,
   "metadata": {},
   "outputs": [
    {
     "data": {
      "text/plain": [
       "((15, 1), (15, 1))"
      ]
     },
     "execution_count": 4,
     "metadata": {},
     "output_type": "execute_result"
    }
   ],
   "source": [
    "x_train.shape, y_train.shape"
   ]
  },
  {
   "cell_type": "markdown",
   "metadata": {},
   "source": [
    "#### View the data\n",
    "There seems to be some relationship which can be plotted between x_train and y_train. A regression line can be drawn to represent the relationship"
   ]
  },
  {
   "cell_type": "code",
   "execution_count": 5,
   "metadata": {},
   "outputs": [
    {
     "data": {
      "image/png": "[encoded data removed]",
      "text/plain": [
       "<Figure size 864x576 with 1 Axes>"
      ]
     },
     "metadata": {
      "needs_background": "light"
     },
     "output_type": "display_data"
    }
   ],
   "source": [
    "plt.figure(figsize=(12, 8))\n",
    "\n",
    "plt.scatter(x_train, y_train, label='Original data', s=250, c='g')\n",
    "\n",
    "plt.legend()\n",
    "plt.show()"
   ]
  },
  {
   "cell_type": "code",
   "execution_count": 6,
   "metadata": {},
   "outputs": [],
   "source": [
    "import torch "
   ]
  },
  {
   "cell_type": "markdown",
   "metadata": {},
   "source": [
    "#### Converting data to pytorch tensors\n",
    "By default `requires_grad = False`"
   ]
  },
  {
   "cell_type": "code",
   "execution_count": 7,
   "metadata": {},
   "outputs": [
    {
     "name": "stdout",
     "output_type": "stream",
     "text": [
      "requires_grad for X_train:  False\n",
      "requires_grad for Y_train:  False\n"
     ]
    }
   ],
   "source": [
    "X_train = torch.from_numpy(x_train) \n",
    "Y_train = torch.from_numpy(y_train)\n",
    "\n",
    "print('requires_grad for X_train: ', X_train.requires_grad)\n",
    "print('requires_grad for Y_train: ', Y_train.requires_grad)"
   ]
  },
  {
   "cell_type": "markdown",
   "metadata": {},
   "source": [
    "#### Set the details for our neural network\n",
    "Input, output and hidden layer sizes plus the learning rate"
   ]
  },
  {
   "cell_type": "code",
   "execution_count": 8,
   "metadata": {},
   "outputs": [],
   "source": [
    "input_size = 1 \n",
    "hidden_size = 1\n",
    "output_size = 1"
   ]
  },
  {
   "cell_type": "markdown",
   "metadata": {},
   "source": [
    "#### Create random Tensors for weights.<br>\n",
    "Setting requires_grad=True indicates that we want to compute gradients with respect to these Tensors during the backward pass"
   ]
  },
  {
   "cell_type": "code",
   "execution_count": 9,
   "metadata": {},
   "outputs": [
    {
     "data": {
      "text/plain": [
       "torch.Size([1, 1])"
      ]
     },
     "execution_count": 9,
     "metadata": {},
     "output_type": "execute_result"
    }
   ],
   "source": [
    "w1 = torch.rand(input_size, \n",
    "                hidden_size, \n",
    "                \n",
    "                requires_grad=True)\n",
    "w1.shape"
   ]
  },
  {
   "cell_type": "code",
   "execution_count": 10,
   "metadata": {},
   "outputs": [
    {
     "data": {
      "text/plain": [
       "torch.Size([1, 1])"
      ]
     },
     "execution_count": 10,
     "metadata": {},
     "output_type": "execute_result"
    }
   ],
   "source": [
    "w2 = torch.rand(hidden_size, \n",
    "                output_size, \n",
    "                \n",
    "                requires_grad=True)\n",
    "w2.shape"
   ]
  },
  {
   "cell_type": "markdown",
   "metadata": {},
   "source": [
    "## Training\n",
    "\n",
    "#### Foward Pass:\n",
    "* Predicting Y with input data X\n",
    "* finding (matrix X matrix) using .mm function, finding product of X_train and w1 and activation function is identity function\n",
    "* again doing mat product data with second weight w2\n",
    "\n",
    "#### Finding Loss:\n",
    "* Finding difference between Y_train and Y_pred by squaring the difference and then summing out, similar to nn.MSELoss \n",
    "\n",
    "\n",
    "#### For the loss_backward() function call:\n",
    "* backward pass will compute the gradient of loss with respect to all Tensors with requires_grad=True. \n",
    "* After this call w1.grad and w2.grad will be Tensors holding the gradient of the loss with respect to w1 and w2 respectively.\n",
    "\n",
    "#### Manually updating the weights\n",
    "* weights have requires_grad=True, but we don't need to track this in autograd. So will wrap it in torch.no_grad\n",
    "* reducing weight with multiple of learning rate and gradient\n",
    "* manually zero the weight gradients after updating weights"
   ]
  },
  {
   "cell_type": "code",
   "execution_count": 11,
   "metadata": {},
   "outputs": [],
   "source": [
    "learning_rate = 1e-6"
   ]
  },
  {
   "cell_type": "code",
   "execution_count": 12,
   "metadata": {},
   "outputs": [
    {
     "name": "stdout",
     "output_type": "stream",
     "text": [
      "50 4.368948936462402\n",
      "100 4.342796325683594\n",
      "150 4.319035053253174\n",
      "200 4.297453880310059\n",
      "250 4.277858257293701\n",
      "300 4.260070323944092\n",
      "350 4.243931293487549\n",
      "400 4.2292914390563965\n",
      "450 4.216014385223389\n",
      "500 4.203976631164551\n",
      "550 4.193065166473389\n",
      "600 4.183178901672363\n",
      "650 4.174221515655518\n",
      "700 4.166108131408691\n",
      "750 4.1587605476379395\n",
      "800 4.152108669281006\n",
      "850 4.146088123321533\n",
      "900 4.140639305114746\n",
      "950 4.135708332061768\n",
      "1000 4.131246089935303\n",
      "1050 4.127211093902588\n",
      "1100 4.123560905456543\n",
      "1150 4.120258808135986\n",
      "1200 4.117274284362793\n",
      "1250 4.114574909210205\n",
      "1300 4.11213493347168\n",
      "1350 4.10992956161499\n",
      "1400 4.107936859130859\n",
      "1450 4.106136322021484\n",
      "1500 4.104507923126221\n",
      "1550 4.103037357330322\n",
      "1600 4.101708889007568\n",
      "1650 4.1005096435546875\n",
      "1700 4.099423885345459\n",
      "1750 4.098445415496826\n",
      "1800 4.097560882568359\n",
      "1850 4.0967631340026855\n",
      "1900 4.096041679382324\n",
      "1950 4.095390319824219\n",
      "2000 4.094802379608154\n",
      "2050 4.0942702293396\n",
      "2100 4.093791961669922\n",
      "2150 4.09335994720459\n",
      "2200 4.092968940734863\n",
      "2250 4.092617034912109\n",
      "2300 4.09229850769043\n",
      "2350 4.092010974884033\n",
      "2400 4.091752529144287\n",
      "2450 4.091517925262451\n",
      "2500 4.091306686401367\n",
      "2550 4.091116905212402\n",
      "2600 4.090944766998291\n",
      "2650 4.090789318084717\n",
      "2700 4.090649604797363\n",
      "2750 4.090522766113281\n",
      "2800 4.0904083251953125\n",
      "2850 4.090306282043457\n",
      "2900 4.090213298797607\n",
      "2950 4.090129852294922\n"
     ]
    }
   ],
   "source": [
    "# Start at 10. Change this to 100, 1000 and 3000 and run the code all the way to the plot at the bottom\n",
    "num_iter = 3000\n",
    "for iter in range(1, num_iter):\n",
    "    \n",
    "    y_pred = X_train.mm(w1).mm(w2)\n",
    "    loss = (y_pred - Y_train).pow(2).sum()\n",
    "    \n",
    "    if iter % 50 ==0:\n",
    "        print(iter, loss.item())\n",
    "        \n",
    "    loss.backward()\n",
    "    \n",
    "    with torch.no_grad(): # for the updates gradient tracking not needed\n",
    "        w1 -= learning_rate * w1.grad\n",
    "        w2 -= learning_rate * w2.grad\n",
    "        w1.grad.zero_()\n",
    "        w2.grad.zero_()"
   ]
  },
  {
   "cell_type": "code",
   "execution_count": 13,
   "metadata": {},
   "outputs": [
    {
     "name": "stdout",
     "output_type": "stream",
     "text": [
      "w1:  tensor([[0.5625]], requires_grad=True)\n",
      "w2:  tensor([[0.7033]], requires_grad=True)\n"
     ]
    }
   ],
   "source": [
    "print ('w1: ', w1)\n",
    "print ('w2: ', w2)"
   ]
  },
  {
   "cell_type": "markdown",
   "metadata": {},
   "source": [
    "#### Checking the output"
   ]
  },
  {
   "cell_type": "markdown",
   "metadata": {},
   "source": [
    "Converting data into a tensor"
   ]
  },
  {
   "cell_type": "code",
   "execution_count": 14,
   "metadata": {},
   "outputs": [
    {
     "data": {
      "text/plain": [
       "tensor([[ 4.7000],\n",
       "        [ 2.4000],\n",
       "        [ 7.5000],\n",
       "        [ 7.1000],\n",
       "        [ 4.3000],\n",
       "        [ 7.8160],\n",
       "        [ 8.9000],\n",
       "        [ 5.2000],\n",
       "        [ 8.5900],\n",
       "        [ 2.1000],\n",
       "        [ 8.0000],\n",
       "        [10.0000],\n",
       "        [ 4.5000],\n",
       "        [ 6.0000],\n",
       "        [ 4.0000]])"
      ]
     },
     "execution_count": 14,
     "metadata": {},
     "output_type": "execute_result"
    }
   ],
   "source": [
    "x_train_tensor = torch.from_numpy(x_train)\n",
    "x_train_tensor"
   ]
  },
  {
   "cell_type": "markdown",
   "metadata": {},
   "source": [
    "#### Get the predicted values using the weights \n",
    "Using final weights calculated from our training in order to get the predicted values"
   ]
  },
  {
   "cell_type": "code",
   "execution_count": 15,
   "metadata": {},
   "outputs": [
    {
     "data": {
      "text/plain": [
       "tensor([[1.8593],\n",
       "        [0.9494],\n",
       "        [2.9670],\n",
       "        [2.8087],\n",
       "        [1.7011],\n",
       "        [3.0920],\n",
       "        [3.5208],\n",
       "        [2.0571],\n",
       "        [3.3982],\n",
       "        [0.8308],\n",
       "        [3.1648],\n",
       "        [3.9560],\n",
       "        [1.7802],\n",
       "        [2.3736],\n",
       "        [1.5824]], grad_fn=<MmBackward>)"
      ]
     },
     "execution_count": 15,
     "metadata": {},
     "output_type": "execute_result"
    }
   ],
   "source": [
    "predicted_in_tensor = x_train_tensor.mm(w1).mm(w2)\n",
    "predicted_in_tensor"
   ]
  },
  {
   "cell_type": "markdown",
   "metadata": {},
   "source": [
    "#### Convert the prediction to a numpy array\n",
    "This will be used to plot the regression line in a plot"
   ]
  },
  {
   "cell_type": "code",
   "execution_count": 16,
   "metadata": {},
   "outputs": [
    {
     "data": {
      "text/plain": [
       "array([[1.8592978 ],\n",
       "       [0.94942874],\n",
       "       [2.9669647 ],\n",
       "       [2.8087265 ],\n",
       "       [1.7010598 ],\n",
       "       [3.0919728 ],\n",
       "       [3.520798  ],\n",
       "       [2.0570955 ],\n",
       "       [3.3981638 ],\n",
       "       [0.83075005],\n",
       "       [3.1647625 ],\n",
       "       [3.9559531 ],\n",
       "       [1.7801789 ],\n",
       "       [2.3735719 ],\n",
       "       [1.5823812 ]], dtype=float32)"
      ]
     },
     "execution_count": 16,
     "metadata": {},
     "output_type": "execute_result"
    }
   ],
   "source": [
    "predicted = predicted_in_tensor.detach().numpy()\n",
    "predicted"
   ]
  },
  {
   "cell_type": "markdown",
   "metadata": {},
   "source": [
    "#### Plotting\n",
    "Our training has produced a rather accurate regression line"
   ]
  },
  {
   "cell_type": "code",
   "execution_count": 17,
   "metadata": {},
   "outputs": [
    {
     "data": {
      "image/png": "[encoded data removed]",
      "text/plain": [
       "<Figure size 864x576 with 1 Axes>"
      ]
     },
     "metadata": {
      "needs_background": "light"
     },
     "output_type": "display_data"
    }
   ],
   "source": [
    "plt.figure(figsize=(12, 8))\n",
    "plt.scatter(x_train, y_train, label = 'Original data', s=250, c='g') \n",
    "plt.plot(x_train, predicted, label = 'Fitted line ')\n",
    "plt.legend() \n",
    "plt.show()"
   ]
  },
  {
   "cell_type": "code",
   "execution_count": null,
   "metadata": {},
   "outputs": [],
   "source": []
  }
 ],
 "metadata": {
  "kernelspec": {
   "display_name": "Python 3",
   "language": "python",
   "name": "python3"
  },
  "language_info": {
   "codemirror_mode": {
    "name": "ipython",
    "version": 3
   },
   "file_extension": ".py",
   "mimetype": "text/x-python",
   "name": "python",
   "nbconvert_exporter": "python",
   "pygments_lexer": "ipython3",
   "version": "3.8.2"
  }
 },
 "nbformat": 4,
 "nbformat_minor": 4
}
