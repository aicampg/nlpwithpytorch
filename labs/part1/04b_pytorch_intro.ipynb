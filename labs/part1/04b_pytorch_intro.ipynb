{
 "cells": [
  {
   "cell_type": "markdown",
   "metadata": {},
   "source": [
    "# PyTorch Basics"
   ]
  },
  {
   "cell_type": "markdown",
   "metadata": {},
   "source": [
    "What's covered:\n",
    "\n",
    "* PyTorch Tensors and tensor operations\n",
    "* Working with Numpy\n",
    "* PyTorch Gradients"
   ]
  },
  {
   "cell_type": "code",
   "execution_count": 1,
   "metadata": {},
   "outputs": [],
   "source": [
    "# Import PyTorch\n",
    "import torch"
   ]
  },
  {
   "cell_type": "markdown",
   "metadata": {},
   "source": [
    "## Tensor Basics\n",
    "\n",
    "A tensor is a multi-dimensional array object that can store a single type of numeric data as a scalar, vector, or n-dimensional matrix"
   ]
  },
  {
   "cell_type": "code",
   "execution_count": 6,
   "metadata": {},
   "outputs": [
    {
     "name": "stdout",
     "output_type": "stream",
     "text": [
      "tensor(10.)\n",
      "torch.float32\n"
     ]
    }
   ],
   "source": [
    "# Scalar (floating point datatype)\n",
    "scalar_tensor = torch.tensor(10.)\n",
    "print(scalar_tensor)\n",
    "# datatype is 32-bit float by default (single precision)\n",
    "print(scalar_tensor.dtype)"
   ]
  },
  {
   "cell_type": "code",
   "execution_count": 7,
   "metadata": {},
   "outputs": [
    {
     "data": {
      "text/plain": [
       "tensor([10., 32., 28., 12.,  0.])"
      ]
     },
     "execution_count": 7,
     "metadata": {},
     "output_type": "execute_result"
    }
   ],
   "source": [
    "# Vector\n",
    "vector_tensor = torch.tensor([10., 32, 28, 12, 0])\n",
    "vector_tensor"
   ]
  },
  {
   "cell_type": "code",
   "execution_count": 12,
   "metadata": {},
   "outputs": [
    {
     "name": "stdout",
     "output_type": "stream",
     "text": [
      "tensor([[ 1,  2,  3],\n",
      "        [ 4,  5,  6],\n",
      "        [ 7,  8,  9],\n",
      "        [10, 11, 12]])\n"
     ]
    }
   ],
   "source": [
    "# Matrix\n",
    "matrix_tensor = torch.tensor([\n",
    "    [1, 2, 3],\n",
    "    [4, 5, 6],\n",
    "    [7, 8, 9],\n",
    "    [10, 11, 12]\n",
    "])\n",
    "print(matrix_tensor)"
   ]
  },
  {
   "cell_type": "markdown",
   "metadata": {},
   "source": [
    "What do you think is the type of the `matrix_tensor` object with the above values? "
   ]
  },
  {
   "cell_type": "code",
   "execution_count": 16,
   "metadata": {},
   "outputs": [],
   "source": [
    "# Print the datatype of matrix_tensor below:\n",
    "# YOUR CODE HERE"
   ]
  },
  {
   "cell_type": "code",
   "execution_count": 17,
   "metadata": {},
   "outputs": [
    {
     "data": {
      "text/plain": [
       "tensor([[[ 1,  2,  3],\n",
       "         [ 4,  5,  6]],\n",
       "\n",
       "        [[10, 11, 12],\n",
       "         [13, 14, 15]]])"
      ]
     },
     "execution_count": 17,
     "metadata": {},
     "output_type": "execute_result"
    }
   ],
   "source": [
    "# multi-dimensional array:\n",
    "matrix_3d = torch.tensor([\n",
    "    [[1, 2, 3],\n",
    "     [4, 5, 6]],\n",
    "    [[10, 11, 12],\n",
    "     [13, 14, 15]]\n",
    "])\n",
    "matrix_3d"
   ]
  },
  {
   "cell_type": "markdown",
   "metadata": {},
   "source": [
    "Guess the `shape` of this object"
   ]
  },
  {
   "cell_type": "code",
   "execution_count": 18,
   "metadata": {},
   "outputs": [],
   "source": [
    "# Hint: `shape` is a property of tensors\n",
    "# YOUR CODE HERE"
   ]
  },
  {
   "cell_type": "markdown",
   "metadata": {},
   "source": [
    "## Basic Tensor Operations"
   ]
  },
  {
   "cell_type": "markdown",
   "metadata": {},
   "source": [
    "### Common initialization methods\n",
    "\n",
    "**Exercise**: Fill in the blanks \"___\" where appropriate"
   ]
  },
  {
   "cell_type": "code",
   "execution_count": 31,
   "metadata": {},
   "outputs": [
    {
     "name": "stdout",
     "output_type": "stream",
     "text": [
      "tensor([[[1., 2.],\n",
      "         [3., 4.]],\n",
      "\n",
      "        [[5., 6.],\n",
      "         [7., 8.]]])\n"
     ]
    }
   ],
   "source": [
    "# List: 2x2x2 3D matrix:\n",
    "T_data = [[[1., 2.], [3., 4.]],\n",
    "          [[5., 6.], [7., 8.]]]\n",
    "T = torch.tensor(T_data)\n",
    "print(T)"
   ]
  },
  {
   "cell_type": "markdown",
   "metadata": {},
   "source": [
    "Creating a full tensor"
   ]
  },
  {
   "cell_type": "code",
   "execution_count": 32,
   "metadata": {},
   "outputs": [
    {
     "data": {
      "text/plain": [
       "tensor([[[10., 10., 10.],\n",
       "         [10., 10., 10.],\n",
       "         [10., 10., 10.],\n",
       "         [10., 10., 10.]],\n",
       "\n",
       "        [[10., 10., 10.],\n",
       "         [10., 10., 10.],\n",
       "         [10., 10., 10.],\n",
       "         [10., 10., 10.]]])"
      ]
     },
     "execution_count": 32,
     "metadata": {},
     "output_type": "execute_result"
    }
   ],
   "source": [
    "full_tensor = torch.___((2, 4, 3), 10.)\n",
    "full_tensor"
   ]
  },
  {
   "cell_type": "markdown",
   "metadata": {},
   "source": [
    "Tensor of zeros, and tensor of ones..."
   ]
  },
  {
   "cell_type": "code",
   "execution_count": 39,
   "metadata": {},
   "outputs": [
    {
     "data": {
      "text/plain": [
       "tensor([[1., 1., 1., 1.]])"
      ]
     },
     "execution_count": 39,
     "metadata": {},
     "output_type": "execute_result"
    }
   ],
   "source": [
    "ones_tensor = torch.___((1,4))\n",
    "ones_tensor # why type should this be? What if we add `, dtype=torch.int8`"
   ]
  },
  {
   "cell_type": "code",
   "execution_count": 41,
   "metadata": {},
   "outputs": [
    {
     "data": {
      "text/plain": [
       "tensor([[0., 0., 0., 0.]])"
      ]
     },
     "execution_count": 41,
     "metadata": {},
     "output_type": "execute_result"
    }
   ],
   "source": [
    "zeros_tensor = torch.___((1,4))\n",
    "zeros_tensor"
   ]
  },
  {
   "cell_type": "markdown",
   "metadata": {},
   "source": [
    "Generating a random matrix using `randn`"
   ]
  },
  {
   "cell_type": "code",
   "execution_count": 44,
   "metadata": {},
   "outputs": [
    {
     "data": {
      "text/plain": [
       "tensor([[[-1.8238, -1.0401],\n",
       "         [ 0.6759, -0.5347],\n",
       "         [ 0.1863,  0.9090]]])"
      ]
     },
     "execution_count": 44,
     "metadata": {},
     "output_type": "execute_result"
    }
   ],
   "source": [
    "normal_random_tensor = torch.___((1,3,2))\n",
    "normal_random_tensor"
   ]
  },
  {
   "cell_type": "code",
   "execution_count": 47,
   "metadata": {},
   "outputs": [
    {
     "data": {
      "text/plain": [
       "tensor([[1., 1., 1., 1.],\n",
       "        [0., 0., 0., 0.]])"
      ]
     },
     "execution_count": 47,
     "metadata": {},
     "output_type": "execute_result"
    }
   ],
   "source": [
    "# stacking the tensors (concatenate) using `cat`\n",
    "ones_zeros_stack_t = torch.___((ones_tensor, zeros_tensor))\n",
    "ones_zeros_stack_t"
   ]
  },
  {
   "cell_type": "markdown",
   "metadata": {},
   "source": [
    "### Other common methods\n",
    "\n",
    "**Exercise** fill - using `eye`, `arange`, `empty`, `diag`"
   ]
  },
  {
   "cell_type": "code",
   "execution_count": 52,
   "metadata": {},
   "outputs": [
    {
     "name": "stdout",
     "output_type": "stream",
     "text": [
      "tensor([[1.0441e+21, 6.5919e-10, 3.1369e+27],\n",
      "        [7.0800e+31, 3.1095e-18, 1.8590e+34],\n",
      "        [7.7767e+31, 7.1536e+22, 3.3803e-18]])\n",
      "tensor([[0., 0., 0.],\n",
      "        [0., 0., 0.],\n",
      "        [0., 0., 0.]])\n",
      "tensor([[0.0694, 0.2902, 0.4055],\n",
      "        [0.1760, 0.4771, 0.5593],\n",
      "        [0.0193, 0.1418, 0.8826]])\n",
      "tensor([[1., 1., 1.],\n",
      "        [1., 1., 1.],\n",
      "        [1., 1., 1.]])\n",
      "tensor([[1., 0., 0., 0., 0.],\n",
      "        [0., 1., 0., 0., 0.],\n",
      "        [0., 0., 1., 0., 0.],\n",
      "        [0., 0., 0., 1., 0.],\n",
      "        [0., 0., 0., 0., 1.]])\n",
      "tensor([0, 1, 2, 3, 4])\n",
      "tensor([0.1000, 0.2000, 0.3000, 0.4000, 0.5000, 0.6000, 0.7000, 0.8000, 0.9000,\n",
      "        1.0000])\n",
      "tensor([[-1.2154, -0.5002,  0.8052,  1.4983,  0.1938]])\n",
      "tensor([[0.4528, 0.5057, 0.2126, 0.9652, 0.2280]])\n",
      "tensor([[1., 0., 0.],\n",
      "        [0., 1., 0.],\n",
      "        [0., 0., 1.]])\n"
     ]
    }
   ],
   "source": [
    "# empty: creates a 3x3 uninitialized matrix\n",
    "print(torch.___(size = (3,3))) \n",
    "\n",
    "# zeros: size is the first arg\n",
    "print(torch.___((3,3))) \n",
    "\n",
    "# rand: initialized from unif distribution [0,1]\n",
    "print(torch.___((3,3))) \n",
    "      \n",
    "# ones: all ones\n",
    "print(torch.___((3,3))) \n",
    "\n",
    "# eye: identity matrix, ones on diag & rest zeros\n",
    "print(torch.___(5,5))\n",
    "\n",
    "# arange: ~similar to matlab~\n",
    "print(torch.___(start=0, end=5, step=1)) \n",
    "\n",
    "# linear spacing - linspace - ~similar to matlab~\n",
    "print(torch.___(start=0.1, end=1, steps=10))\n",
    "\n",
    "# normally dist empty tensor\n",
    "print(torch.___(size=(1,5)).normal_(mean=0, std=1))\n",
    "\n",
    "# unif with lower & upper \n",
    "print(torch.___(size=(1,5)).uniform_(0,1))\n",
    "\n",
    " # same as identity matrix of size 3 \n",
    "print(torch.___(torch.ones(3)))\n",
    "\n",
    "# Solution\n",
    "if False:\n",
    "    print(torch.empty(size = (3,3))) # creates a 3x3 uninitialized matrix\n",
    "    print(torch.zeros((3,3))) # size is the first arg\n",
    "    print(torch.rand((3,3))) # initialized from unif distribution [0,1]\n",
    "    print(torch.ones((3,3))) # all ones\n",
    "    print(torch.eye(5,5)) # identity matrix, ones on diag & rest zeros\n",
    "    print(torch.arange(start=0, end=5, step=1))\n",
    "    print(torch.linspace(start=0.1, end=1, steps=10))\n",
    "    print(torch.empty(size=(1,5)).normal_(mean=0, std=1)) # normally dist\n",
    "    print(torch.empty(size=(1,5)).uniform_(0,1)) # unif with lower & upper\n",
    "    print(torch.diag(torch.ones(3))) # same as identity matrix of size 3 "
   ]
  },
  {
   "cell_type": "markdown",
   "metadata": {},
   "source": [
    "### Converting types"
   ]
  },
  {
   "cell_type": "code",
   "execution_count": 50,
   "metadata": {},
   "outputs": [
    {
     "name": "stdout",
     "output_type": "stream",
     "text": [
      "tensor([False,  True])\n",
      "tensor([0, 1], dtype=torch.int16)\n",
      "tensor([0, 1])\n",
      "tensor([0., 1.], dtype=torch.float16)\n",
      "tensor([0., 1.])\n",
      "tensor([0., 1.], dtype=torch.float64)\n"
     ]
    }
   ],
   "source": [
    "# Type conversion with PyTorch tensors:\n",
    "tensor = torch.arange(2)\n",
    "# convert to boolean (bool, short, long, half, float, double)\n",
    "print(tensor.___()) # boolean\n",
    "print(tensor.___()) # short: creates int16\n",
    "print(tensor.___()) # long: int64, commonly used\n",
    "print(tensor.___()) # half: float16 for newer GPU based training\n",
    "print(tensor.___()) # float: float32, often used\n",
    "print(tensor.___()) # double: float64"
   ]
  },
  {
   "cell_type": "markdown",
   "metadata": {},
   "source": [
    "### Matrix Multiplication"
   ]
  },
  {
   "cell_type": "code",
   "execution_count": 21,
   "metadata": {},
   "outputs": [
    {
     "name": "stdout",
     "output_type": "stream",
     "text": [
      "torch.Size([2, 3]) torch.Size([3, 3]) torch.Size([2, 3])\n",
      "tensor([[-6., 10.,  8.],\n",
      "        [-8., 11.,  9.]])\n"
     ]
    }
   ],
   "source": [
    "x = torch.tensor([[1., 2., 3.], [1.5, 0., 3.5]])\n",
    "y = torch.tensor([[4., 5., 6.], [1., 1., 1.], [-4., 1., 0.]] )\n",
    "z = x.mm(y)\n",
    "\n",
    "print (x.shape, y.shape, z.shape)\n",
    "\n",
    "print (z)"
   ]
  },
  {
   "cell_type": "markdown",
   "metadata": {},
   "source": [
    "### Reshaping"
   ]
  },
  {
   "cell_type": "code",
   "execution_count": 22,
   "metadata": {},
   "outputs": [
    {
     "name": "stdout",
     "output_type": "stream",
     "text": [
      "tensor([[[ 0.5429,  0.4677, -0.2958, -0.3620],\n",
      "         [-1.3519, -0.1799, -0.4973,  0.7497],\n",
      "         [-0.6381, -0.2324, -1.3742, -1.2345]],\n",
      "\n",
      "        [[ 2.1427,  1.7413, -0.6981, -1.0045],\n",
      "         [-2.2387,  0.3771, -1.6122, -0.3116],\n",
      "         [-1.2749, -0.3846,  0.8106, -0.4629]]])\n",
      "tensor([[ 0.5429,  0.4677, -0.2958, -0.3620, -1.3519, -0.1799, -0.4973,  0.7497,\n",
      "         -0.6381, -0.2324, -1.3742, -1.2345],\n",
      "        [ 2.1427,  1.7413, -0.6981, -1.0045, -2.2387,  0.3771, -1.6122, -0.3116,\n",
      "         -1.2749, -0.3846,  0.8106, -0.4629]])\n",
      "tensor([[ 0.5429,  0.4677, -0.2958, -0.3620, -1.3519, -0.1799, -0.4973,  0.7497,\n",
      "         -0.6381, -0.2324, -1.3742, -1.2345],\n",
      "        [ 2.1427,  1.7413, -0.6981, -1.0045, -2.2387,  0.3771, -1.6122, -0.3116,\n",
      "         -1.2749, -0.3846,  0.8106, -0.4629]])\n"
     ]
    }
   ],
   "source": [
    "x = torch.randn(2, 3, 4)\n",
    "print(x)\n",
    "print(x.view(2, 12))  # Reshape to 2 rows, 12 columns\n",
    "# Same as above.  If one of the dimensions is -1, its size can be inferred\n",
    "print(x.view(2, -1))"
   ]
  },
  {
   "cell_type": "markdown",
   "metadata": {},
   "source": [
    "## Computational graphs & autodifferentiation"
   ]
  },
  {
   "cell_type": "code",
   "execution_count": 23,
   "metadata": {},
   "outputs": [
    {
     "name": "stdout",
     "output_type": "stream",
     "text": [
      "tensor([ 3., 27., 21.], grad_fn=<AddBackward0>)\n",
      "<AddBackward0 object at 0x7f3488754880>\n"
     ]
    }
   ],
   "source": [
    "# Tensor factory methods have a ``requires_grad`` flag\n",
    "x = torch.tensor([-1., 22., 15], requires_grad=True)\n",
    "\n",
    "# With requires_grad=True, you can still do all the operations you previously\n",
    "# could\n",
    "y = torch.tensor([4., 5., 6], requires_grad=True)\n",
    "z = x + y\n",
    "print(z)\n",
    "\n",
    "# BUT z knows something extra.\n",
    "print(z.grad_fn)"
   ]
  },
  {
   "cell_type": "code",
   "execution_count": 24,
   "metadata": {},
   "outputs": [
    {
     "name": "stdout",
     "output_type": "stream",
     "text": [
      "tensor(51., grad_fn=<SumBackward0>)\n",
      "<SumBackward0 object at 0x7f34b86154f0>\n"
     ]
    }
   ],
   "source": [
    "# Lets sum up all the entries in z\n",
    "s = z.sum()\n",
    "print(s)\n",
    "print(s.grad_fn)"
   ]
  },
  {
   "cell_type": "code",
   "execution_count": 25,
   "metadata": {},
   "outputs": [
    {
     "name": "stdout",
     "output_type": "stream",
     "text": [
      "x.grad:  None\n",
      "x.grad:  tensor([1., 1., 1.])\n"
     ]
    }
   ],
   "source": [
    "# calling .backward() on any variable will run backprop, starting from it.\n",
    "print(\"x.grad: \", x.grad)\n",
    "s.backward()\n",
    "print(\"x.grad: \", x.grad)"
   ]
  },
  {
   "cell_type": "code",
   "execution_count": 26,
   "metadata": {},
   "outputs": [
    {
     "name": "stdout",
     "output_type": "stream",
     "text": [
      "True\n",
      "True\n",
      "False\n"
     ]
    }
   ],
   "source": [
    "print(x.requires_grad)\n",
    "print((x ** 2).requires_grad)\n",
    "\n",
    "# specify that there is need to calculate gradient\n",
    "with torch.no_grad():\n",
    "    print((x ** 2).requires_grad)"
   ]
  },
  {
   "cell_type": "markdown",
   "metadata": {},
   "source": [
    "## PyTorch Autograd - Example 1"
   ]
  },
  {
   "cell_type": "code",
   "execution_count": 27,
   "metadata": {},
   "outputs": [
    {
     "name": "stdout",
     "output_type": "stream",
     "text": [
      "tensor(2.)\n",
      "tensor(1.)\n",
      "tensor(1.)\n"
     ]
    }
   ],
   "source": [
    "# Create tensors.\n",
    "x = torch.tensor(1., requires_grad=True)\n",
    "w = torch.tensor(2., requires_grad=True)\n",
    "b = torch.tensor(3., requires_grad=True)\n",
    "\n",
    "# Build a computational graph.\n",
    "y = w * x + b    # y = 2 * x + 3\n",
    "\n",
    "# Compute gradients.\n",
    "y.backward()\n",
    "\n",
    "# Print out the gradients.\n",
    "print(x.grad)    # x.grad = 2 \n",
    "print(w.grad)    # w.grad = 1 \n",
    "print(b.grad)    # b.grad = 1 "
   ]
  },
  {
   "cell_type": "markdown",
   "metadata": {},
   "source": [
    "## PyTorch Autograd - Exercise 1\n",
    "\n",
    "Build a computational graph for $y = ( w_1 * x + b_1 ) * w_2 + b_2$\n",
    "\n",
    "Compute gradients for $w_1$, $w_2$, $b_1$, and $b_2$\n"
   ]
  },
  {
   "cell_type": "code",
   "execution_count": 28,
   "metadata": {},
   "outputs": [
    {
     "name": "stdout",
     "output_type": "stream",
     "text": [
      "None\n",
      "tensor(4.)\n",
      "tensor(4.)\n",
      "tensor(5.)\n",
      "tensor(1.)\n"
     ]
    }
   ],
   "source": [
    "# Create tensors.\n",
    "x = torch.tensor(1., requires_grad=False)\n",
    "w1 = torch.tensor(2., requires_grad=True)\n",
    "b1 = torch.tensor(3., requires_grad=True)\n",
    "w2 = torch.tensor(4., requires_grad=True)\n",
    "b2 = torch.tensor(5., requires_grad=True)\n",
    "\n",
    "# Build a computational graph.\n",
    "y = ( w1 * x + b1 ) * w2 + b2\n",
    "\n",
    "# Compute gradients.\n",
    "y._____()\n",
    "\n",
    "# Print out the gradients.\n",
    "print(x.grad)\n",
    "print(w1.grad)\n",
    "print(b1.grad)\n",
    "print(w2.grad)\n",
    "print(b2.grad)"
   ]
  },
  {
   "cell_type": "markdown",
   "metadata": {},
   "source": [
    "## PyTorch Autograd - Example 2"
   ]
  },
  {
   "cell_type": "code",
   "execution_count": 30,
   "metadata": {},
   "outputs": [
    {
     "name": "stdout",
     "output_type": "stream",
     "text": [
      "w:  Parameter containing:\n",
      "tensor([[ 0.4288, -0.4523,  0.2576],\n",
      "        [-0.2160, -0.1148,  0.3806]], requires_grad=True)\n",
      "b:  Parameter containing:\n",
      "tensor([ 0.0357, -0.4274], requires_grad=True)\n",
      "loss:  1.5952345132827759\n",
      "dL/dw:  tensor([[ 0.2396, -0.0549,  0.4369],\n",
      "        [-0.6651, -0.1090,  0.7836]])\n",
      "dL/db:  tensor([ 0.0146, -0.4515])\n",
      "loss after 1 step optimization:  1.58008873462677\n"
     ]
    }
   ],
   "source": [
    "import torch.nn as nn\n",
    "\n",
    "# Create tensors of shape (10, 3) and (10, 2).\n",
    "x = torch.randn(10, 3)\n",
    "y = torch.randn(10, 2)\n",
    "\n",
    "# Build a fully connected layer.\n",
    "linear = nn.Linear(3, 2)\n",
    "print ('w: ', linear.weight)\n",
    "print ('b: ', linear.bias)\n",
    "\n",
    "# Build loss function and optimizer.\n",
    "criterion = nn.MSELoss()\n",
    "optimizer = torch.optim.SGD(linear.parameters(), lr=0.01)\n",
    "\n",
    "# Forward pass.\n",
    "pred = linear(x)\n",
    "\n",
    "# Compute loss.\n",
    "loss = criterion(pred, y)\n",
    "print('loss: ', loss.item())\n",
    "\n",
    "# Backward pass.\n",
    "loss.backward()\n",
    "\n",
    "# Print out the gradients.\n",
    "print ('dL/dw: ', linear.weight.grad) \n",
    "print ('dL/db: ', linear.bias.grad)\n",
    "\n",
    "# 1-step gradient descent.\n",
    "optimizer.step()\n",
    "\n",
    "# You can also perform gradient descent at the low level.\n",
    "# linear.weight.data.sub_(0.01 * linear.weight.grad.data)\n",
    "# linear.bias.data.sub_(0.01 * linear.bias.grad.data)\n",
    "\n",
    "# Print out the loss after 1-step gradient descent.\n",
    "pred = linear(x)\n",
    "loss = criterion(pred, y)\n",
    "print('loss after 1 step optimization: ', loss.item())"
   ]
  }
 ],
 "metadata": {
  "kernelspec": {
   "display_name": "Python 3",
   "language": "python",
   "name": "python3"
  },
  "language_info": {
   "codemirror_mode": {
    "name": "ipython",
    "version": 3
   },
   "file_extension": ".py",
   "mimetype": "text/x-python",
   "name": "python",
   "nbconvert_exporter": "python",
   "pygments_lexer": "ipython3",
   "version": "3.8.2"
  }
 },
 "nbformat": 4,
 "nbformat_minor": 4
}
