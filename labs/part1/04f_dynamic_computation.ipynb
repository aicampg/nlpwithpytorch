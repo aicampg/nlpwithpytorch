{
 "cells": [
  {
   "cell_type": "markdown",
   "id": "southeast-advantage",
   "metadata": {},
   "source": [
    "# Dynamic Computation\n",
    "\n",
    "Graph: \n",
    "\n",
    "* (x) -(Wx)-> x_prod\n",
    "* (h) -(Wh)-> h_prod\n",
    "* x_prod + h_prod -> (.tanh() -> z"
   ]
  },
  {
   "cell_type": "code",
   "execution_count": 1,
   "id": "pending-senegal",
   "metadata": {},
   "outputs": [],
   "source": [
    "import torch"
   ]
  },
  {
   "cell_type": "code",
   "execution_count": 2,
   "id": "amazing-newspaper",
   "metadata": {},
   "outputs": [],
   "source": [
    "#Initialize all neurons:\n",
    "\n",
    "x = torch.randn(1, 10) # 10 column - features? \n",
    "W_x = torch.randn(20, 10) # \n",
    "x_prod = torch.mm(W_x, x.t())\n",
    "\n",
    "h = torch.randn(1, 20)\n",
    "W_h = torch.randn(20, 20)\n",
    "h_prod = torch.mm(W_h, h.t())"
   ]
  },
  {
   "cell_type": "code",
   "execution_count": 3,
   "id": "opening-interface",
   "metadata": {},
   "outputs": [],
   "source": [
    "from graphviz import Digraph"
   ]
  },
  {
   "cell_type": "code",
   "execution_count": 4,
   "id": "deluxe-intro",
   "metadata": {},
   "outputs": [],
   "source": [
    "from graphviz import Digraph\n",
    "from graphviz import Source\n",
    "from IPython.display import Image\n",
    "\n",
    "# Reference: https://moonbooks.org/Articles/How-to-plot-visualize-a-neural-network-in-python-using-Graphviz-/"
   ]
  },
  {
   "cell_type": "code",
   "execution_count": 5,
   "id": "white-specification",
   "metadata": {},
   "outputs": [
    {
     "data": {
      "image/png": "[encoded data removed]",
      "text/plain": [
       "<IPython.core.display.Image object>"
      ]
     },
     "execution_count": 5,
     "metadata": {},
     "output_type": "execute_result"
    }
   ],
   "source": [
    "temp = \"\"\"\n",
    "digraph G{\n",
    "edge [dir=forward]\n",
    "node [shape=square]\n",
    "x [label=\"x\"]\n",
    "w_x [label=\"w_x\"]\n",
    "x -> x_prod\n",
    "x_prod [label=\"*\\nx_prod\"]\n",
    "w_x -> x_prod\n",
    "\n",
    "h [label=\"h\"]\n",
    "w_h [label=\"w_h\"]\n",
    "h -> h_prod\n",
    "w_h -> h_prod\n",
    "h_prod [label=\"*\\nh_prod\"]\n",
    "x_prod -> z\n",
    "h_prod -> z\n",
    "z [label=\"+\\nz\"]\n",
    "\n",
    "}\n",
    "\"\"\"\n",
    "s = Source(temp, filename=\"test.gv\", format=\"png\")\n",
    "s.view()\n",
    "Image('test.gv.png')"
   ]
  },
  {
   "cell_type": "code",
   "execution_count": null,
   "id": "egyptian-carbon",
   "metadata": {},
   "outputs": [],
   "source": []
  },
  {
   "cell_type": "code",
   "execution_count": null,
   "id": "hindu-invention",
   "metadata": {},
   "outputs": [],
   "source": []
  },
  {
   "cell_type": "code",
   "execution_count": null,
   "id": "devoted-speed",
   "metadata": {},
   "outputs": [],
   "source": []
  }
 ],
 "metadata": {
  "kernelspec": {
   "display_name": "Python 3",
   "language": "python",
   "name": "python3"
  },
  "language_info": {
   "codemirror_mode": {
    "name": "ipython",
    "version": 3
   },
   "file_extension": ".py",
   "mimetype": "text/x-python",
   "name": "python",
   "nbconvert_exporter": "python",
   "pygments_lexer": "ipython3",
   "version": "3.8.2"
  }
 },
 "nbformat": 4,
 "nbformat_minor": 5
}
