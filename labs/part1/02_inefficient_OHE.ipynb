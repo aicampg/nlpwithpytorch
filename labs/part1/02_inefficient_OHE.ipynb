{
 "cells": [
  {
   "cell_type": "markdown",
   "metadata": {
    "id": "GFNHCNaa7hoD",
    "tags": []
   },
   "source": [
    "**Representing** words & numbers\n"
   ]
  },
  {
   "cell_type": "code",
   "execution_count": 18,
   "metadata": {
    "executionInfo": {
     "elapsed": 546,
     "status": "ok",
     "timestamp": 1603920515442,
     "user": {
      "displayName": "Yashesh Shroff",
      "photoUrl": "https://lh3.googleusercontent.com/a-/AOh14Ggu3bTBcysUxxtmnLI9n_OEGc92nfpZXGRAhDZ5vQ=s64",
      "userId": "12984101785953050215"
     },
     "user_tz": 420
    },
    "execution_millis": 668,
    "execution_start": 1603584265309,
    "id": "fljRUYmG7hoF",
    "output_cleared": false,
    "source_hash": "a45df8bc",
    "tags": []
   },
   "outputs": [],
   "source": [
    "%matplotlib inline\n",
    "\n",
    "import string\n",
    "from collections import Counter\n",
    "from pprint import pprint\n",
    "import gzip\n",
    "import matplotlib.pyplot as plt\n",
    "import numpy as np \n"
   ]
  },
  {
   "cell_type": "code",
   "execution_count": 83,
   "metadata": {
    "executionInfo": {
     "elapsed": 543,
     "status": "ok",
     "timestamp": 1603920542944,
     "user": {
      "displayName": "Yashesh Shroff",
      "photoUrl": "https://lh3.googleusercontent.com/a-/AOh14Ggu3bTBcysUxxtmnLI9n_OEGc92nfpZXGRAhDZ5vQ=s64",
      "userId": "12984101785953050215"
     },
     "user_tz": 420
    },
    "execution_millis": 2,
    "execution_start": 1603584592441,
    "id": "KGsAdCbR7hoL",
    "output_cleared": false,
    "source_hash": "60de3b07",
    "tags": []
   },
   "outputs": [],
   "source": [
    "long_text = \"\"\"It was the best of times, it was the worst of times, it was the age of wisdom, it was the age of foolishness, it was the epoch of belief, it was the epoch of incredulity, it was the season of Light, it was the season of Darkness, it was the spring of hope, it was the winter of despair, we had everything before us, we had nothing before us, we were all going direct to Heaven, we were all going direct the other way – in short, the period was so far like the present period, that some of its noisiest authorities insisted on its being received, for good or for evil, in the superlative degree of comparison only.\"\"\"\n",
    "short_text = \"\"\"In fairy-tales, witches always wear silly black hats and black coats, and they ride on broomsticks. But this is not a fairy-tale. This is about REAL WITCHES.\"\"\"\n",
    "text = short_text"
   ]
  },
  {
   "cell_type": "markdown",
   "metadata": {
    "id": "3tJVllsO7hoO",
    "tags": []
   },
   "source": [
    "## Tokenization"
   ]
  },
  {
   "cell_type": "code",
   "execution_count": 5,
   "metadata": {
    "executionInfo": {
     "elapsed": 510,
     "status": "ok",
     "timestamp": 1603920551576,
     "user": {
      "displayName": "Yashesh Shroff",
      "photoUrl": "https://lh3.googleusercontent.com/a-/AOh14Ggu3bTBcysUxxtmnLI9n_OEGc92nfpZXGRAhDZ5vQ=s64",
      "userId": "12984101785953050215"
     },
     "user_tz": 420
    },
    "execution_millis": 1,
    "execution_start": 1603584593689,
    "id": "wlDen1s27hoO",
    "output_cleared": false,
    "source_hash": "dc0df4a6",
    "tags": []
   },
   "outputs": [],
   "source": [
    "def extract_words(text):\n",
    "    temp = text.split()\n",
    "    text_words = []\n",
    "\n",
    "    for word in temp:\n",
    "        # remove punctuation at beginning of word\n",
    "        while word[0] in string.punctuation:\n",
    "            word = word[1:]\n",
    "\n",
    "        # remove punctuation at end of word\n",
    "        while word[-1] in string.punctuation:\n",
    "            word = word[:-1]\n",
    "\n",
    "        # Append this word into our list of words\n",
    "        text_words.append(word.lower())\n",
    "\n",
    "    return text_words"
   ]
  },
  {
   "cell_type": "code",
   "execution_count": 6,
   "metadata": {
    "colab": {
     "base_uri": "https://localhost:8080/"
    },
    "executionInfo": {
     "elapsed": 467,
     "status": "ok",
     "timestamp": 1603917471984,
     "user": {
      "displayName": "Yashesh Shroff",
      "photoUrl": "https://lh3.googleusercontent.com/a-/AOh14Ggu3bTBcysUxxtmnLI9n_OEGc92nfpZXGRAhDZ5vQ=s64",
      "userId": "12984101785953050215"
     },
     "user_tz": 420
    },
    "execution_millis": 3,
    "execution_start": 1603584595683,
    "id": "Bj7D65WP7hoR",
    "outputId": "02cd6f0c-d619-4dda-fc9a-469ea7675726",
    "output_cleared": false,
    "source_hash": "ea3be4d3",
    "tags": []
   },
   "outputs": [
    {
     "name": "stdout",
     "output_type": "stream",
     "text": [
      "['in', 'fairy-tales', 'witches', 'always', 'wear', 'silly', 'black', 'hats', 'and', 'black', 'coats', 'and', 'they', 'ride', 'on', 'broomsticks', 'but', 'this', 'is', 'not', 'a', 'fairy-tale', 'this', 'is', 'about', 'real', 'witches']\n"
     ]
    }
   ],
   "source": [
    "text_words = extract_words(text)\n",
    "print(text_words)"
   ]
  },
  {
   "cell_type": "markdown",
   "metadata": {
    "id": "FIgAueQk7hoT",
    "tags": []
   },
   "source": [
    "## Motivation\n",
    "\n",
    "ML algos tend not to work with categorical data. Rather than working with categorical data directly, **encoding** allows you to _more expressively_ represent the text (categorical) data. We do this by converting categories to numbers. \n"
   ]
  },
  {
   "cell_type": "markdown",
   "metadata": {
    "id": "AMVWm1MK7hod",
    "tags": []
   },
   "source": [
    "## One Hot Encoding\n",
    "\n",
    "1. is a more efficient way to represent vectors. \n",
    "2. the column feature vector defines a high dimensional space, where each dimension represents a word\n",
    "3. each element is zero in this vector, except the element corresponding to the dimension representing the word\n",
    "4. For _full-texts_ instead of words, the vector representation of the text is simply the vector sum of all the words it contains:\n",
    "\n"
   ]
  },
  {
   "cell_type": "code",
   "execution_count": 7,
   "metadata": {
    "executionInfo": {
     "elapsed": 681,
     "status": "ok",
     "timestamp": 1603920565223,
     "user": {
      "displayName": "Yashesh Shroff",
      "photoUrl": "https://lh3.googleusercontent.com/a-/AOh14Ggu3bTBcysUxxtmnLI9n_OEGc92nfpZXGRAhDZ5vQ=s64",
      "userId": "12984101785953050215"
     },
     "user_tz": 420
    },
    "execution_millis": 3,
    "execution_start": 1603584606565,
    "id": "ITh5DJ317hoU",
    "output_cleared": false,
    "source_hash": "52c2a925",
    "tags": []
   },
   "outputs": [],
   "source": [
    "word_dict = {}\n",
    "word_list = []\n",
    "vocabulary_size = 0\n",
    "text_tokens = []\n",
    "\n",
    "for word in text_words:\n",
    "    # create an ID for words seen for the first time & add to dictionary\n",
    "    if word not in word_dict:\n",
    "        word_dict[word] = vocabulary_size\n",
    "        word_list.append(word)\n",
    "        vocabulary_size += 1\n",
    "\n",
    "    # add the token corresponding to the current word to the tokenized text.\n",
    "    text_tokens.append(word_dict[word])"
   ]
  },
  {
   "cell_type": "code",
   "execution_count": 8,
   "metadata": {
    "colab": {
     "base_uri": "https://localhost:8080/"
    },
    "executionInfo": {
     "elapsed": 528,
     "status": "ok",
     "timestamp": 1603920566836,
     "user": {
      "displayName": "Yashesh Shroff",
      "photoUrl": "https://lh3.googleusercontent.com/a-/AOh14Ggu3bTBcysUxxtmnLI9n_OEGc92nfpZXGRAhDZ5vQ=s64",
      "userId": "12984101785953050215"
     },
     "user_tz": 420
    },
    "execution_millis": 12,
    "execution_start": 1603584607171,
    "id": "GcWaKMbY7hoX",
    "outputId": "caffedae-bb5a-48ee-a470-675938c915eb",
    "output_cleared": false,
    "source_hash": "34ea0828",
    "tags": []
   },
   "outputs": [
    {
     "name": "stdout",
     "output_type": "stream",
     "text": [
      "Word list: ['in', 'fairy-tales', 'witches', 'always', 'wear', 'silly', 'black', 'hats', 'and', 'coats', 'they', 'ride', 'on', 'broomsticks', 'but', 'this', 'is', 'not', 'a', 'fairy-tale', 'about', 'real'] \n",
      "\n",
      " Word dictionary\n",
      "{'a': 18,\n",
      " 'about': 20,\n",
      " 'always': 3,\n",
      " 'and': 8,\n",
      " 'black': 6,\n",
      " 'broomsticks': 13,\n",
      " 'but': 14,\n",
      " 'coats': 9,\n",
      " 'fairy-tale': 19,\n",
      " 'fairy-tales': 1,\n",
      " 'hats': 7,\n",
      " 'in': 0,\n",
      " 'is': 16,\n",
      " 'not': 17,\n",
      " 'on': 12,\n",
      " 'real': 21,\n",
      " 'ride': 11,\n",
      " 'silly': 5,\n",
      " 'they': 10,\n",
      " 'this': 15,\n",
      " 'wear': 4,\n",
      " 'witches': 2}\n"
     ]
    }
   ],
   "source": [
    "print(\"Word list:\", word_list, \"\\n\\n Word dictionary\")\n",
    "pprint(word_dict)"
   ]
  },
  {
   "cell_type": "code",
   "execution_count": 9,
   "metadata": {
    "colab": {
     "base_uri": "https://localhost:8080/"
    },
    "executionInfo": {
     "elapsed": 415,
     "status": "ok",
     "timestamp": 1603917476342,
     "user": {
      "displayName": "Yashesh Shroff",
      "photoUrl": "https://lh3.googleusercontent.com/a-/AOh14Ggu3bTBcysUxxtmnLI9n_OEGc92nfpZXGRAhDZ5vQ=s64",
      "userId": "12984101785953050215"
     },
     "user_tz": 420
    },
    "execution_millis": 9,
    "execution_start": 1603584664464,
    "id": "7N--gIfW7hoa",
    "outputId": "2a0df5d4-2745-4c60-eec7-cdba66cb14ae",
    "output_cleared": false,
    "source_hash": "4f6f3b19",
    "tags": []
   },
   "outputs": [
    {
     "name": "stdout",
     "output_type": "stream",
     "text": [
      "[0, 1, 2, 3, 4, 5, 6, 7, 8, 6, 9, 8, 10, 11, 12, 13, 14, 15, 16, 17, 18, 19, 15, 16, 20, 21, 2]\n"
     ]
    }
   ],
   "source": [
    "print(text_tokens)"
   ]
  },
  {
   "cell_type": "code",
   "execution_count": 10,
   "metadata": {
    "executionInfo": {
     "elapsed": 538,
     "status": "ok",
     "timestamp": 1603920610221,
     "user": {
      "displayName": "Yashesh Shroff",
      "photoUrl": "https://lh3.googleusercontent.com/a-/AOh14Ggu3bTBcysUxxtmnLI9n_OEGc92nfpZXGRAhDZ5vQ=s64",
      "userId": "12984101785953050215"
     },
     "user_tz": 420
    },
    "execution_start": 1603594823770,
    "id": "6k3EncFh7hoe",
    "output_cleared": false,
    "source_hash": "443579d8",
    "tags": []
   },
   "outputs": [],
   "source": [
    "import re\n",
    "text = \"\"\"\n",
    "Mary had a little lamb, little lamb,\n",
    "little lamb, Mary had a little lamb\n",
    "whose fleece was white as snow. \n",
    "And everywhere that Mary went\n",
    "Mary went, Mary went, everywhere \n",
    "that Mary went\n",
    "the lamb was sure to go\n",
    "\"\"\""
   ]
  },
  {
   "cell_type": "code",
   "execution_count": 11,
   "metadata": {
    "executionInfo": {
     "elapsed": 527,
     "status": "ok",
     "timestamp": 1603920617783,
     "user": {
      "displayName": "Yashesh Shroff",
      "photoUrl": "https://lh3.googleusercontent.com/a-/AOh14Ggu3bTBcysUxxtmnLI9n_OEGc92nfpZXGRAhDZ5vQ=s64",
      "userId": "12984101785953050215"
     },
     "user_tz": 420
    },
    "execution_millis": 2,
    "execution_start": 1603595221022,
    "id": "Lp7LA6617hoh",
    "output_cleared": false,
    "source_hash": "ea886b5a",
    "tags": []
   },
   "outputs": [],
   "source": [
    "text = re.sub(r'[^\\w\\s]', '', text) \n",
    "word_list = text.lower().split()"
   ]
  },
  {
   "cell_type": "code",
   "execution_count": 12,
   "metadata": {
    "executionInfo": {
     "elapsed": 667,
     "status": "ok",
     "timestamp": 1603920620352,
     "user": {
      "displayName": "Yashesh Shroff",
      "photoUrl": "https://lh3.googleusercontent.com/a-/AOh14Ggu3bTBcysUxxtmnLI9n_OEGc92nfpZXGRAhDZ5vQ=s64",
      "userId": "12984101785953050215"
     },
     "user_tz": 420
    },
    "execution_millis": 2,
    "execution_start": 1603595287689,
    "id": "Xqey9aJc7hoj",
    "output_cleared": false,
    "source_hash": "4a957f7",
    "tags": []
   },
   "outputs": [],
   "source": [
    "word_dict = {}\n",
    "for word in word_list:\n",
    "    if not word in word_dict.keys():\n",
    "        word_dict[word] = 1\n",
    "    else:\n",
    "        word_dict[word] += 1"
   ]
  },
  {
   "cell_type": "code",
   "execution_count": 13,
   "metadata": {
    "executionInfo": {
     "elapsed": 844,
     "status": "ok",
     "timestamp": 1603920621477,
     "user": {
      "displayName": "Yashesh Shroff",
      "photoUrl": "https://lh3.googleusercontent.com/a-/AOh14Ggu3bTBcysUxxtmnLI9n_OEGc92nfpZXGRAhDZ5vQ=s64",
      "userId": "12984101785953050215"
     },
     "user_tz": 420
    },
    "execution_millis": 6,
    "execution_start": 1603595426186,
    "id": "ldlsFONL7hom",
    "output_cleared": false,
    "source_hash": "6be3920c",
    "tags": []
   },
   "outputs": [],
   "source": [
    "def one_hot(word, word_dict):\n",
    "    \"\"\"\n",
    "    Generate a one-hot encoded vector for \"word\"\n",
    "    \"\"\"\n",
    "\n",
    "    vector = np.zeros(len(word_dict))\n",
    "    vector[word_dict[word]] = 1\n",
    "    return vector\n",
    "\n",
    "    "
   ]
  },
  {
   "cell_type": "code",
   "execution_count": 14,
   "metadata": {
    "colab": {
     "base_uri": "https://localhost:8080/"
    },
    "executionInfo": {
     "elapsed": 464,
     "status": "ok",
     "timestamp": 1603920626800,
     "user": {
      "displayName": "Yashesh Shroff",
      "photoUrl": "https://lh3.googleusercontent.com/a-/AOh14Ggu3bTBcysUxxtmnLI9n_OEGc92nfpZXGRAhDZ5vQ=s64",
      "userId": "12984101785953050215"
     },
     "user_tz": 420
    },
    "execution_millis": 1,
    "execution_start": 1603596226977,
    "id": "D4Bjlp4h7hop",
    "outputId": "eb00e216-3525-4354-9c09-e01394ed9b1c",
    "output_cleared": false,
    "source_hash": "6911aa75",
    "tags": []
   },
   "outputs": [
    {
     "name": "stdout",
     "output_type": "stream",
     "text": [
      "[0. 1. 0. 0. 0. 0. 0. 0. 0. 0. 0. 0. 0. 0. 0. 0. 0. 0. 0.]\n"
     ]
    }
   ],
   "source": [
    "fleece_hot = one_hot('fleece', word_dict)\n",
    "print(fleece_hot)"
   ]
  },
  {
   "cell_type": "code",
   "execution_count": 15,
   "metadata": {
    "colab": {
     "base_uri": "https://localhost:8080/"
    },
    "executionInfo": {
     "elapsed": 506,
     "status": "ok",
     "timestamp": 1603920649053,
     "user": {
      "displayName": "Yashesh Shroff",
      "photoUrl": "https://lh3.googleusercontent.com/a-/AOh14Ggu3bTBcysUxxtmnLI9n_OEGc92nfpZXGRAhDZ5vQ=s64",
      "userId": "12984101785953050215"
     },
     "user_tz": 420
    },
    "execution_millis": 1,
    "execution_start": 1603597039485,
    "id": "3Udez54W7hov",
    "outputId": "a1a47404-4302-45a6-8868-429fc6cc67ec",
    "output_cleared": false,
    "source_hash": "2b482a4e",
    "tags": []
   },
   "outputs": [
    {
     "name": "stdout",
     "output_type": "stream",
     "text": [
      "[0. 0. 0. 0. 0. 0. 1. 0. 0. 0. 0. 0. 0. 0. 0. 0. 0. 0. 0.]\n"
     ]
    }
   ],
   "source": [
    "mary_hot = one_hot('mary', word_dict)\n",
    "print(mary_hot)"
   ]
  },
  {
   "cell_type": "code",
   "execution_count": 16,
   "metadata": {
    "colab": {
     "base_uri": "https://localhost:8080/"
    },
    "executionInfo": {
     "elapsed": 324,
     "status": "ok",
     "timestamp": 1603917499384,
     "user": {
      "displayName": "Yashesh Shroff",
      "photoUrl": "https://lh3.googleusercontent.com/a-/AOh14Ggu3bTBcysUxxtmnLI9n_OEGc92nfpZXGRAhDZ5vQ=s64",
      "userId": "12984101785953050215"
     },
     "user_tz": 420
    },
    "execution_millis": 12,
    "execution_start": 1603597168124,
    "id": "UYZvJ0Fr7ho0",
    "outputId": "fc2901ed-4629-4197-ef36-33ebc4192aa4",
    "output_cleared": false,
    "source_hash": "44ce6447",
    "tags": []
   },
   "outputs": [
    {
     "data": {
      "text/plain": [
       "True"
      ]
     },
     "execution_count": 16,
     "metadata": {},
     "output_type": "execute_result"
    }
   ],
   "source": [
    "mary_hot[6] == 1"
   ]
  },
  {
   "cell_type": "markdown",
   "metadata": {},
   "source": [
    "## OHE with Scikit-learn\n",
    "\n",
    "1. Pre-process (transform) the data\n",
    "    a. Lower case\n",
    "    b. Split by space\n",
    "2. Integer encode using `fit_transform` on the dataset\n",
    "3. Alternatively, use binary encoding\n",
    "\n",
    "`LabelEncoder` can be used to normalize labels\n"
   ]
  },
  {
   "cell_type": "code",
   "execution_count": 84,
   "metadata": {},
   "outputs": [],
   "source": [
    "from numpy import array\n",
    "from numpy import argmax\n",
    "from sklearn.preprocessing import LabelEncoder # Try ?LabelEncoder\n",
    "from sklearn.preprocessing import OneHotEncoder"
   ]
  },
  {
   "cell_type": "code",
   "execution_count": 94,
   "metadata": {},
   "outputs": [],
   "source": [
    "# 1. convert corpus documents to lower case\n",
    "doc1 = long_text.lower()\n",
    "doc2 = short_text.lower()\n",
    "\n",
    "# convert to unary tokens\n",
    "doc1 = doc1.split()\n",
    "doc2 = doc2.split()\n",
    "dataset = array(doc1+doc2) # convert the list to a numpy array of string"
   ]
  },
  {
   "cell_type": "code",
   "execution_count": 108,
   "metadata": {},
   "outputs": [
    {
     "name": "stdout",
     "output_type": "stream",
     "text": [
      "[38 70 64 10 45 67 38 70 64 79 45 67 38 70 64  2 45 76 38 70 64  2 45 26\n",
      " 38 70 64 20 45  9 38 70 64 20 45 35 38 70 64 56 45 40 38 70 64 56 45 16\n",
      " 38 70 64 61 45 33 38 70 64 75 45 18 72 30 21  7 69 72 30 44  7 69 72 74\n",
      "  3 28 19 68 32 72 74  3 28 19 64 49 71 80 34 57 64 50 70 59 25 41 64 52\n",
      " 51 63 60 45 39 42  6 36 46 39  8 54 27 29 48 27 22 34 64 62 17 45 15 47\n",
      " 34 24 77  4 73 58 11 31  5 11 14  5 65 55 46 12 13 66 37 43  0 23 66 37\n",
      "  1 53 78]\n",
      "(147,)\n"
     ]
    }
   ],
   "source": [
    "# 2. Integer encode the dataset\n",
    "label_encoder = LabelEncoder()\n",
    "integer_encoded = label_encoder.fit_transform(dataset) # alphabetically assign integers to each word\n",
    "print(integer_encoded)\n",
    "print(integer_encoded.shape)"
   ]
  },
  {
   "cell_type": "code",
   "execution_count": 109,
   "metadata": {},
   "outputs": [
    {
     "data": {
      "text/plain": [
       "80"
      ]
     },
     "execution_count": 109,
     "metadata": {},
     "output_type": "execute_result"
    }
   ],
   "source": [
    "max(integer_encoded)"
   ]
  },
  {
   "cell_type": "code",
   "execution_count": 110,
   "metadata": {},
   "outputs": [
    {
     "name": "stdout",
     "output_type": "stream",
     "text": [
      "[[0. 0. 0. ... 0. 0. 0.]\n",
      " [0. 0. 0. ... 0. 0. 0.]\n",
      " [0. 0. 0. ... 0. 0. 0.]\n",
      " ...\n",
      " [0. 1. 0. ... 0. 0. 0.]\n",
      " [0. 0. 0. ... 0. 0. 0.]\n",
      " [0. 0. 0. ... 1. 0. 0.]]\n",
      "[0. 0. 0. 0. 0. 0. 0. 0. 0. 0. 0. 0. 0. 0. 0. 0. 0. 0. 0. 0. 0. 0. 0. 0.\n",
      " 0. 0. 0. 0. 0. 0. 0. 0. 0. 0. 0. 0. 0. 0. 1. 0. 0. 0. 0. 0. 0. 0. 0. 0.\n",
      " 0. 0. 0. 0. 0. 0. 0. 0. 0. 0. 0. 0. 0. 0. 0. 0. 0. 0. 0. 0. 0. 0. 0. 0.\n",
      " 0. 0. 0. 0. 0. 0. 0. 0. 0.]\n"
     ]
    }
   ],
   "source": [
    "# 3. Binary encode\n",
    "onehot_encoder = OneHotEncoder(sparse=False)\n",
    "\n",
    "## Reshape `integer_encoded` into a 2D array required for `OneHotEncoder` instance\n",
    "integer_encoded = integer_encoded.reshape(len(integer_encoded), 1)\n",
    "onehot_encoded = onehot_encoder.fit_transform(integer_encoded)\n",
    "print(onehot_encoded) # convert to an array of size integer_encoded x max(integer_encoded)\n",
    "print(onehot_encoded[0,:]) "
   ]
  },
  {
   "cell_type": "code",
   "execution_count": 114,
   "metadata": {},
   "outputs": [
    {
     "name": "stdout",
     "output_type": "stream",
     "text": [
      "['it']\n",
      "it\n"
     ]
    }
   ],
   "source": [
    "# invert the first word of long_text\n",
    "inverted = label_encoder.inverse_transform([argmax(onehot_encoded[0, :])])\n",
    "print(inverted)\n",
    "print(doc1[0])"
   ]
  }
 ],
 "metadata": {
  "colab": {
   "name": "01_inefficient.ipynb",
   "provenance": []
  },
  "deepnote_execution_queue": [],
  "deepnote_notebook_id": "66d78655-f453-4d60-8669-c1f19503d6ca",
  "kernelspec": {
   "display_name": "Python 3",
   "language": "python",
   "name": "python3"
  },
  "language_info": {
   "codemirror_mode": {
    "name": "ipython",
    "version": 3
   },
   "file_extension": ".py",
   "mimetype": "text/x-python",
   "name": "python",
   "nbconvert_exporter": "python",
   "pygments_lexer": "ipython3",
   "version": "3.8.2"
  }
 },
 "nbformat": 4,
 "nbformat_minor": 4
}
