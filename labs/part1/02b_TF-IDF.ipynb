{
 "cells": [
  {
   "cell_type": "markdown",
   "id": "orange-printing",
   "metadata": {},
   "source": [
    "# Implementing TF-IDF\n",
    "\n",
    "Using sklearn, nltk (stopwords)"
   ]
  },
  {
   "cell_type": "code",
   "execution_count": 2,
   "id": "critical-appraisal",
   "metadata": {},
   "outputs": [],
   "source": [
    "import pandas as pd\n",
    "from sklearn.feature_extraction.text import TfidfVectorizer"
   ]
  },
  {
   "cell_type": "code",
   "execution_count": 26,
   "id": "ready-partnership",
   "metadata": {},
   "outputs": [],
   "source": [
    "doc1 = 'they went to the park for bird watching'\n",
    "doc2 = 'she went to the beach to swim'"
   ]
  },
  {
   "cell_type": "markdown",
   "id": "unexpected-individual",
   "metadata": {},
   "source": [
    "We need to convert the text to a vector. First, let's recap the BoW approach:"
   ]
  },
  {
   "cell_type": "code",
   "execution_count": 27,
   "id": "joint-armor",
   "metadata": {},
   "outputs": [],
   "source": [
    "bow1 = doc1.split(' ')\n",
    "bow2 = doc2.split(' ')"
   ]
  },
  {
   "cell_type": "code",
   "execution_count": 28,
   "id": "tender-radiation",
   "metadata": {},
   "outputs": [],
   "source": [
    "# use Python's Union function to get unique words:\n",
    "corpus_unique = set(bow1).union(set(bow2))"
   ]
  },
  {
   "cell_type": "markdown",
   "id": "disabled-harvey",
   "metadata": {},
   "source": [
    "Create a dict of words & frequency for each doc in the corpus\n"
   ]
  },
  {
   "cell_type": "code",
   "execution_count": 29,
   "id": "responsible-linux",
   "metadata": {},
   "outputs": [],
   "source": [
    "num_words_doc1 = dict.fromkeys(corpus_unique, 0)"
   ]
  },
  {
   "cell_type": "code",
   "execution_count": 30,
   "id": "distributed-suggestion",
   "metadata": {},
   "outputs": [],
   "source": [
    "for word in bow1:\n",
    "    num_words_doc1[word] += 1"
   ]
  },
  {
   "cell_type": "code",
   "execution_count": 31,
   "id": "accepted-marathon",
   "metadata": {},
   "outputs": [],
   "source": [
    "# do the same for `doc2`\n",
    "num_words_doc2 = dict.fromkeys(corpus_unique, 0)\n",
    "\n",
    "for word in bow2:\n",
    "    num_words_doc2[word] += 1"
   ]
  },
  {
   "cell_type": "code",
   "execution_count": 32,
   "id": "southwest-marble",
   "metadata": {},
   "outputs": [],
   "source": [
    "import pandas as pd"
   ]
  },
  {
   "cell_type": "code",
   "execution_count": 33,
   "id": "buried-joyce",
   "metadata": {},
   "outputs": [],
   "source": [
    "corpus_words = {}\n",
    "for word in corpus_unique:\n",
    "    corpus_words[word] = [num_words_doc1[word], num_words_doc2[word]]"
   ]
  },
  {
   "cell_type": "code",
   "execution_count": 34,
   "id": "relative-difficulty",
   "metadata": {},
   "outputs": [
    {
     "data": {
      "text/html": [
       "<div>\n",
       "<style scoped>\n",
       "    .dataframe tbody tr th:only-of-type {\n",
       "        vertical-align: middle;\n",
       "    }\n",
       "\n",
       "    .dataframe tbody tr th {\n",
       "        vertical-align: top;\n",
       "    }\n",
       "\n",
       "    .dataframe thead th {\n",
       "        text-align: right;\n",
       "    }\n",
       "</style>\n",
       "<table border=\"1\" class=\"dataframe\">\n",
       "  <thead>\n",
       "    <tr style=\"text-align: right;\">\n",
       "      <th></th>\n",
       "      <th>the</th>\n",
       "      <th>park</th>\n",
       "      <th>went</th>\n",
       "      <th>bird</th>\n",
       "      <th>watching</th>\n",
       "      <th>she</th>\n",
       "      <th>swim</th>\n",
       "      <th>for</th>\n",
       "      <th>they</th>\n",
       "      <th>beach</th>\n",
       "      <th>to</th>\n",
       "    </tr>\n",
       "  </thead>\n",
       "  <tbody>\n",
       "    <tr>\n",
       "      <th>0</th>\n",
       "      <td>1</td>\n",
       "      <td>1</td>\n",
       "      <td>1</td>\n",
       "      <td>1</td>\n",
       "      <td>1</td>\n",
       "      <td>0</td>\n",
       "      <td>0</td>\n",
       "      <td>1</td>\n",
       "      <td>1</td>\n",
       "      <td>0</td>\n",
       "      <td>1</td>\n",
       "    </tr>\n",
       "    <tr>\n",
       "      <th>1</th>\n",
       "      <td>1</td>\n",
       "      <td>0</td>\n",
       "      <td>1</td>\n",
       "      <td>0</td>\n",
       "      <td>0</td>\n",
       "      <td>1</td>\n",
       "      <td>1</td>\n",
       "      <td>0</td>\n",
       "      <td>0</td>\n",
       "      <td>1</td>\n",
       "      <td>2</td>\n",
       "    </tr>\n",
       "  </tbody>\n",
       "</table>\n",
       "</div>"
      ],
      "text/plain": [
       "   the  park  went  bird  watching  she  swim  for  they  beach  to\n",
       "0    1     1     1     1         1    0     0    1     1      0   1\n",
       "1    1     0     1     0         0    1     1    0     0      1   2"
      ]
     },
     "execution_count": 34,
     "metadata": {},
     "output_type": "execute_result"
    }
   ],
   "source": [
    "pd.DataFrame.from_dict(corpus_words)"
   ]
  },
  {
   "cell_type": "markdown",
   "id": "designed-alloy",
   "metadata": {},
   "source": [
    "We need to account for 'stop' word noise"
   ]
  },
  {
   "cell_type": "code",
   "execution_count": 35,
   "id": "relative-temple",
   "metadata": {
    "collapsed": true,
    "jupyter": {
     "outputs_hidden": true
    },
    "tags": []
   },
   "outputs": [
    {
     "data": {
      "text/plain": [
       "['i',\n",
       " 'me',\n",
       " 'my',\n",
       " 'myself',\n",
       " 'we',\n",
       " 'our',\n",
       " 'ours',\n",
       " 'ourselves',\n",
       " 'you',\n",
       " \"you're\",\n",
       " \"you've\",\n",
       " \"you'll\",\n",
       " \"you'd\",\n",
       " 'your',\n",
       " 'yours',\n",
       " 'yourself',\n",
       " 'yourselves',\n",
       " 'he',\n",
       " 'him',\n",
       " 'his',\n",
       " 'himself',\n",
       " 'she',\n",
       " \"she's\",\n",
       " 'her',\n",
       " 'hers',\n",
       " 'herself',\n",
       " 'it',\n",
       " \"it's\",\n",
       " 'its',\n",
       " 'itself',\n",
       " 'they',\n",
       " 'them',\n",
       " 'their',\n",
       " 'theirs',\n",
       " 'themselves',\n",
       " 'what',\n",
       " 'which',\n",
       " 'who',\n",
       " 'whom',\n",
       " 'this',\n",
       " 'that',\n",
       " \"that'll\",\n",
       " 'these',\n",
       " 'those',\n",
       " 'am',\n",
       " 'is',\n",
       " 'are',\n",
       " 'was',\n",
       " 'were',\n",
       " 'be',\n",
       " 'been',\n",
       " 'being',\n",
       " 'have',\n",
       " 'has',\n",
       " 'had',\n",
       " 'having',\n",
       " 'do',\n",
       " 'does',\n",
       " 'did',\n",
       " 'doing',\n",
       " 'a',\n",
       " 'an',\n",
       " 'the',\n",
       " 'and',\n",
       " 'but',\n",
       " 'if',\n",
       " 'or',\n",
       " 'because',\n",
       " 'as',\n",
       " 'until',\n",
       " 'while',\n",
       " 'of',\n",
       " 'at',\n",
       " 'by',\n",
       " 'for',\n",
       " 'with',\n",
       " 'about',\n",
       " 'against',\n",
       " 'between',\n",
       " 'into',\n",
       " 'through',\n",
       " 'during',\n",
       " 'before',\n",
       " 'after',\n",
       " 'above',\n",
       " 'below',\n",
       " 'to',\n",
       " 'from',\n",
       " 'up',\n",
       " 'down',\n",
       " 'in',\n",
       " 'out',\n",
       " 'on',\n",
       " 'off',\n",
       " 'over',\n",
       " 'under',\n",
       " 'again',\n",
       " 'further',\n",
       " 'then',\n",
       " 'once',\n",
       " 'here',\n",
       " 'there',\n",
       " 'when',\n",
       " 'where',\n",
       " 'why',\n",
       " 'how',\n",
       " 'all',\n",
       " 'any',\n",
       " 'both',\n",
       " 'each',\n",
       " 'few',\n",
       " 'more',\n",
       " 'most',\n",
       " 'other',\n",
       " 'some',\n",
       " 'such',\n",
       " 'no',\n",
       " 'nor',\n",
       " 'not',\n",
       " 'only',\n",
       " 'own',\n",
       " 'same',\n",
       " 'so',\n",
       " 'than',\n",
       " 'too',\n",
       " 'very',\n",
       " 's',\n",
       " 't',\n",
       " 'can',\n",
       " 'will',\n",
       " 'just',\n",
       " 'don',\n",
       " \"don't\",\n",
       " 'should',\n",
       " \"should've\",\n",
       " 'now',\n",
       " 'd',\n",
       " 'll',\n",
       " 'm',\n",
       " 'o',\n",
       " 're',\n",
       " 've',\n",
       " 'y',\n",
       " 'ain',\n",
       " 'aren',\n",
       " \"aren't\",\n",
       " 'couldn',\n",
       " \"couldn't\",\n",
       " 'didn',\n",
       " \"didn't\",\n",
       " 'doesn',\n",
       " \"doesn't\",\n",
       " 'hadn',\n",
       " \"hadn't\",\n",
       " 'hasn',\n",
       " \"hasn't\",\n",
       " 'haven',\n",
       " \"haven't\",\n",
       " 'isn',\n",
       " \"isn't\",\n",
       " 'ma',\n",
       " 'mightn',\n",
       " \"mightn't\",\n",
       " 'mustn',\n",
       " \"mustn't\",\n",
       " 'needn',\n",
       " \"needn't\",\n",
       " 'shan',\n",
       " \"shan't\",\n",
       " 'shouldn',\n",
       " \"shouldn't\",\n",
       " 'wasn',\n",
       " \"wasn't\",\n",
       " 'weren',\n",
       " \"weren't\",\n",
       " 'won',\n",
       " \"won't\",\n",
       " 'wouldn',\n",
       " \"wouldn't\"]"
      ]
     },
     "execution_count": 35,
     "metadata": {},
     "output_type": "execute_result"
    }
   ],
   "source": [
    "from nltk.corpus import stopwords\n",
    "stopwords.words('english')"
   ]
  },
  {
   "cell_type": "markdown",
   "id": "statutory-brook",
   "metadata": {},
   "source": [
    "### TF"
   ]
  },
  {
   "cell_type": "code",
   "execution_count": 36,
   "id": "herbal-spending",
   "metadata": {},
   "outputs": [],
   "source": [
    "def compute_term_freq(wordDict, bagOfWords):\n",
    "    tfDict = {}\n",
    "    bagOfWordsCount = len(bagOfWords)\n",
    "    for word, count in wordDict.items():\n",
    "        tfDict[word] = count / float(bagOfWordsCount)\n",
    "    return tfDict"
   ]
  },
  {
   "cell_type": "code",
   "execution_count": 37,
   "id": "floppy-composer",
   "metadata": {},
   "outputs": [],
   "source": [
    "tf1 = compute_term_freq(num_words_doc1, bow1)\n",
    "tf2 = compute_term_freq(num_words_doc2, bow2)"
   ]
  },
  {
   "cell_type": "markdown",
   "id": "spare-selling",
   "metadata": {},
   "source": [
    "### IDF"
   ]
  },
  {
   "cell_type": "code",
   "execution_count": 38,
   "id": "subtle-donor",
   "metadata": {},
   "outputs": [],
   "source": [
    "import math\n",
    "\n",
    "def compute_IDF(documents):\n",
    "    N = len(documents)    \n",
    "    idfDict = dict.fromkeys(documents[0].keys(), 0)\n",
    "    for document in documents:\n",
    "        for word, val in document.items():\n",
    "            if val > 0:\n",
    "                idfDict[word] += 1\n",
    "    \n",
    "    for word, val in idfDict.items():\n",
    "        idfDict[word] = math.log(N / float(val))\n",
    "    return idfDict\n"
   ]
  },
  {
   "cell_type": "code",
   "execution_count": 39,
   "id": "banned-radiation",
   "metadata": {},
   "outputs": [],
   "source": [
    "idfs = compute_IDF([num_words_doc1, num_words_doc2])"
   ]
  },
  {
   "cell_type": "code",
   "execution_count": 40,
   "id": "altered-nerve",
   "metadata": {},
   "outputs": [
    {
     "data": {
      "text/plain": [
       "{'the': 0.0,\n",
       " 'park': 0.6931471805599453,\n",
       " 'went': 0.0,\n",
       " 'bird': 0.6931471805599453,\n",
       " 'watching': 0.6931471805599453,\n",
       " 'she': 0.6931471805599453,\n",
       " 'swim': 0.6931471805599453,\n",
       " 'for': 0.6931471805599453,\n",
       " 'they': 0.6931471805599453,\n",
       " 'beach': 0.6931471805599453,\n",
       " 'to': 0.0}"
      ]
     },
     "execution_count": 40,
     "metadata": {},
     "output_type": "execute_result"
    }
   ],
   "source": [
    "idfs"
   ]
  },
  {
   "cell_type": "markdown",
   "id": "relative-steam",
   "metadata": {},
   "source": [
    "### TF-IDF"
   ]
  },
  {
   "cell_type": "code",
   "execution_count": 41,
   "id": "selective-rating",
   "metadata": {},
   "outputs": [],
   "source": [
    "def compute_TFIDF(tfBagOfWords, idfs):\n",
    "    tfidf = {}\n",
    "    for word, val in tfBagOfWords.items():\n",
    "        tfidf[word] = val * idfs[word]\n",
    "    return tfidf"
   ]
  },
  {
   "cell_type": "code",
   "execution_count": 42,
   "id": "sophisticated-issue",
   "metadata": {},
   "outputs": [],
   "source": [
    "tfidf1 = compute_TFIDF(tf1, idfs)\n",
    "tfidf2 = compute_TFIDF(tf2, idfs)\n",
    "df = pd.DataFrame([tfidf1, tfidf2])"
   ]
  },
  {
   "cell_type": "code",
   "execution_count": 43,
   "id": "bound-badge",
   "metadata": {},
   "outputs": [
    {
     "data": {
      "text/html": [
       "<div>\n",
       "<style scoped>\n",
       "    .dataframe tbody tr th:only-of-type {\n",
       "        vertical-align: middle;\n",
       "    }\n",
       "\n",
       "    .dataframe tbody tr th {\n",
       "        vertical-align: top;\n",
       "    }\n",
       "\n",
       "    .dataframe thead th {\n",
       "        text-align: right;\n",
       "    }\n",
       "</style>\n",
       "<table border=\"1\" class=\"dataframe\">\n",
       "  <thead>\n",
       "    <tr style=\"text-align: right;\">\n",
       "      <th></th>\n",
       "      <th>the</th>\n",
       "      <th>park</th>\n",
       "      <th>went</th>\n",
       "      <th>bird</th>\n",
       "      <th>watching</th>\n",
       "      <th>she</th>\n",
       "      <th>swim</th>\n",
       "      <th>for</th>\n",
       "      <th>they</th>\n",
       "      <th>beach</th>\n",
       "      <th>to</th>\n",
       "    </tr>\n",
       "  </thead>\n",
       "  <tbody>\n",
       "    <tr>\n",
       "      <th>0</th>\n",
       "      <td>0.0</td>\n",
       "      <td>0.086643</td>\n",
       "      <td>0.0</td>\n",
       "      <td>0.086643</td>\n",
       "      <td>0.086643</td>\n",
       "      <td>0.000000</td>\n",
       "      <td>0.000000</td>\n",
       "      <td>0.086643</td>\n",
       "      <td>0.086643</td>\n",
       "      <td>0.000000</td>\n",
       "      <td>0.0</td>\n",
       "    </tr>\n",
       "    <tr>\n",
       "      <th>1</th>\n",
       "      <td>0.0</td>\n",
       "      <td>0.000000</td>\n",
       "      <td>0.0</td>\n",
       "      <td>0.000000</td>\n",
       "      <td>0.000000</td>\n",
       "      <td>0.099021</td>\n",
       "      <td>0.099021</td>\n",
       "      <td>0.000000</td>\n",
       "      <td>0.000000</td>\n",
       "      <td>0.099021</td>\n",
       "      <td>0.0</td>\n",
       "    </tr>\n",
       "  </tbody>\n",
       "</table>\n",
       "</div>"
      ],
      "text/plain": [
       "   the      park  went      bird  watching       she      swim       for  \\\n",
       "0  0.0  0.086643   0.0  0.086643  0.086643  0.000000  0.000000  0.086643   \n",
       "1  0.0  0.000000   0.0  0.000000  0.000000  0.099021  0.099021  0.000000   \n",
       "\n",
       "       they     beach   to  \n",
       "0  0.086643  0.000000  0.0  \n",
       "1  0.000000  0.099021  0.0  "
      ]
     },
     "execution_count": 43,
     "metadata": {},
     "output_type": "execute_result"
    }
   ],
   "source": [
    "df"
   ]
  },
  {
   "cell_type": "markdown",
   "id": "animated-titanium",
   "metadata": {},
   "source": [
    "### Using Scikit-learn"
   ]
  },
  {
   "cell_type": "code",
   "execution_count": 44,
   "id": "complimentary-abuse",
   "metadata": {},
   "outputs": [],
   "source": [
    "vectorizer = TfidfVectorizer()\n",
    "vectors = vectorizer.fit_transform([doc1, doc2])\n",
    "feature_names = vectorizer.get_feature_names()\n",
    "dense = vectors.todense()\n",
    "denselist = dense.tolist()\n",
    "df = pd.DataFrame(denselist, columns=feature_names)"
   ]
  },
  {
   "cell_type": "code",
   "execution_count": 45,
   "id": "linear-apparatus",
   "metadata": {},
   "outputs": [
    {
     "data": {
      "text/html": [
       "<div>\n",
       "<style scoped>\n",
       "    .dataframe tbody tr th:only-of-type {\n",
       "        vertical-align: middle;\n",
       "    }\n",
       "\n",
       "    .dataframe tbody tr th {\n",
       "        vertical-align: top;\n",
       "    }\n",
       "\n",
       "    .dataframe thead th {\n",
       "        text-align: right;\n",
       "    }\n",
       "</style>\n",
       "<table border=\"1\" class=\"dataframe\">\n",
       "  <thead>\n",
       "    <tr style=\"text-align: right;\">\n",
       "      <th></th>\n",
       "      <th>beach</th>\n",
       "      <th>bird</th>\n",
       "      <th>for</th>\n",
       "      <th>park</th>\n",
       "      <th>she</th>\n",
       "      <th>swim</th>\n",
       "      <th>the</th>\n",
       "      <th>they</th>\n",
       "      <th>to</th>\n",
       "      <th>watching</th>\n",
       "      <th>went</th>\n",
       "    </tr>\n",
       "  </thead>\n",
       "  <tbody>\n",
       "    <tr>\n",
       "      <th>0</th>\n",
       "      <td>0.00000</td>\n",
       "      <td>0.391668</td>\n",
       "      <td>0.391668</td>\n",
       "      <td>0.391668</td>\n",
       "      <td>0.00000</td>\n",
       "      <td>0.00000</td>\n",
       "      <td>0.278675</td>\n",
       "      <td>0.391668</td>\n",
       "      <td>0.278675</td>\n",
       "      <td>0.391668</td>\n",
       "      <td>0.278675</td>\n",
       "    </tr>\n",
       "    <tr>\n",
       "      <th>1</th>\n",
       "      <td>0.40698</td>\n",
       "      <td>0.000000</td>\n",
       "      <td>0.000000</td>\n",
       "      <td>0.000000</td>\n",
       "      <td>0.40698</td>\n",
       "      <td>0.40698</td>\n",
       "      <td>0.289569</td>\n",
       "      <td>0.000000</td>\n",
       "      <td>0.579139</td>\n",
       "      <td>0.000000</td>\n",
       "      <td>0.289569</td>\n",
       "    </tr>\n",
       "  </tbody>\n",
       "</table>\n",
       "</div>"
      ],
      "text/plain": [
       "     beach      bird       for      park      she     swim       the  \\\n",
       "0  0.00000  0.391668  0.391668  0.391668  0.00000  0.00000  0.278675   \n",
       "1  0.40698  0.000000  0.000000  0.000000  0.40698  0.40698  0.289569   \n",
       "\n",
       "       they        to  watching      went  \n",
       "0  0.391668  0.278675  0.391668  0.278675  \n",
       "1  0.000000  0.579139  0.000000  0.289569  "
      ]
     },
     "execution_count": 45,
     "metadata": {},
     "output_type": "execute_result"
    }
   ],
   "source": [
    "df"
   ]
  },
  {
   "cell_type": "markdown",
   "id": "iraqi-creation",
   "metadata": {},
   "source": [
    "The small difference in values is due to the use of a smoothed version of idf + other optimizations. With a larger doc, the score for `the` would be greatly reduced. [Ref](https://towardsdatascience.com/natural-language-processing-feature-engineering-using-tf-idf-e8b9d00e7e76)\n"
   ]
  },
  {
   "cell_type": "markdown",
   "id": "entire-trailer",
   "metadata": {},
   "source": [
    "## End to End Example with TF-IDF & Scikit-learn\n",
    "\n",
    "We will try to correctly predict tweets about disasters. The dataset is from [Crowdflower](https://appen.com/open-source-datasets/), carefully curated as volunteers parsed through 1000s of tweets and categorized them as disaster related or not. \n",
    "\n",
    "Why this matters?\n",
    "* Actionable insights from large text body\n",
    "* Can be hard to implement due to target words complexity of inference"
   ]
  },
  {
   "cell_type": "code",
   "execution_count": null,
   "id": "classical-giving",
   "metadata": {},
   "outputs": [],
   "source": [
    "# Run  on colab\n",
    "!mkdir -p data/twitter_disaster\n",
    "!wget -O data/twitter_disaster/train.csv https://raw.githubusercontent.com/aicampg/nlpwithpytorch/main/labs/part1/data/twitter_disaster/train.csv"
   ]
  },
  {
   "cell_type": "markdown",
   "id": "proprietary-tobacco",
   "metadata": {},
   "source": [
    "#### Data overview & visualization"
   ]
  },
  {
   "cell_type": "code",
   "execution_count": 1,
   "id": "answering-philadelphia",
   "metadata": {},
   "outputs": [
    {
     "ename": "NameError",
     "evalue": "name 'pd' is not defined",
     "output_type": "error",
     "traceback": [
      "\u001b[0;31m---------------------------------------------------------------------------\u001b[0m",
      "\u001b[0;31mNameError\u001b[0m                                 Traceback (most recent call last)",
      "\u001b[0;32m<ipython-input-1-b21976e53b28>\u001b[0m in \u001b[0;36m<module>\u001b[0;34m\u001b[0m\n\u001b[0;32m----> 1\u001b[0;31m \u001b[0mdf\u001b[0m\u001b[0;34m=\u001b[0m\u001b[0mpd\u001b[0m\u001b[0;34m.\u001b[0m\u001b[0mread_csv\u001b[0m\u001b[0;34m(\u001b[0m\u001b[0;34m'data/twitter_disaster/train.csv'\u001b[0m\u001b[0;34m)\u001b[0m\u001b[0;34m\u001b[0m\u001b[0;34m\u001b[0m\u001b[0m\n\u001b[0m\u001b[1;32m      2\u001b[0m \u001b[0mdf\u001b[0m\u001b[0;34m.\u001b[0m\u001b[0mgroupby\u001b[0m\u001b[0;34m(\u001b[0m\u001b[0;34m\"target\"\u001b[0m\u001b[0;34m)\u001b[0m\u001b[0;34m.\u001b[0m\u001b[0mcount\u001b[0m\u001b[0;34m(\u001b[0m\u001b[0;34m)\u001b[0m \u001b[0;31m# reasonably balanced dataset\u001b[0m\u001b[0;34m\u001b[0m\u001b[0;34m\u001b[0m\u001b[0m\n",
      "\u001b[0;31mNameError\u001b[0m: name 'pd' is not defined"
     ]
    }
   ],
   "source": [
    "df=pd.read_csv('data/twitter_disaster/train.csv')\n",
    "df.groupby(\"target\").count() # reasonably balanced dataset"
   ]
  },
  {
   "cell_type": "code",
   "execution_count": 78,
   "id": "valued-mayor",
   "metadata": {},
   "outputs": [
    {
     "data": {
      "text/html": [
       "<div>\n",
       "<style scoped>\n",
       "    .dataframe tbody tr th:only-of-type {\n",
       "        vertical-align: middle;\n",
       "    }\n",
       "\n",
       "    .dataframe tbody tr th {\n",
       "        vertical-align: top;\n",
       "    }\n",
       "\n",
       "    .dataframe thead th {\n",
       "        text-align: right;\n",
       "    }\n",
       "</style>\n",
       "<table border=\"1\" class=\"dataframe\">\n",
       "  <thead>\n",
       "    <tr style=\"text-align: right;\">\n",
       "      <th></th>\n",
       "      <th>id</th>\n",
       "      <th>keyword</th>\n",
       "      <th>location</th>\n",
       "      <th>text</th>\n",
       "    </tr>\n",
       "    <tr>\n",
       "      <th>target</th>\n",
       "      <th></th>\n",
       "      <th></th>\n",
       "      <th></th>\n",
       "      <th></th>\n",
       "    </tr>\n",
       "  </thead>\n",
       "  <tbody>\n",
       "    <tr>\n",
       "      <th>0</th>\n",
       "      <td>4342</td>\n",
       "      <td>4323</td>\n",
       "      <td>2884</td>\n",
       "      <td>4342</td>\n",
       "    </tr>\n",
       "    <tr>\n",
       "      <th>1</th>\n",
       "      <td>3271</td>\n",
       "      <td>3229</td>\n",
       "      <td>2196</td>\n",
       "      <td>3271</td>\n",
       "    </tr>\n",
       "  </tbody>\n",
       "</table>\n",
       "</div>"
      ],
      "text/plain": [
       "          id  keyword  location  text\n",
       "target                               \n",
       "0       4342     4323      2884  4342\n",
       "1       3271     3229      2196  3271"
      ]
     },
     "execution_count": 78,
     "metadata": {},
     "output_type": "execute_result"
    }
   ],
   "source": [
    "df.groupby(\"target\").count() # reasonably balanced dataset"
   ]
  },
  {
   "cell_type": "code",
   "execution_count": 64,
   "id": "dirty-respondent",
   "metadata": {},
   "outputs": [],
   "source": [
    "# 1. load the dataset as a pandas DataFrame\n",
    "def load_dataset(filename, text=\"text\", target=\"target\"):\n",
    "    data = pd.read_csv(filename) # header=None, if needed\n",
    "    X = data[text]\n",
    "    y = data[target]\n",
    "    return X, y"
   ]
  },
  {
   "cell_type": "code",
   "execution_count": 65,
   "id": "funny-christmas",
   "metadata": {},
   "outputs": [],
   "source": [
    "X, y = load_dataset('data/twitter_disaster/train.csv')"
   ]
  },
  {
   "cell_type": "code",
   "execution_count": 48,
   "id": "rational-suspect",
   "metadata": {},
   "outputs": [],
   "source": [
    "from sklearn.model_selection import train_test_split"
   ]
  },
  {
   "cell_type": "code",
   "execution_count": 79,
   "id": "native-negative",
   "metadata": {},
   "outputs": [],
   "source": [
    "# 2. test/train split\n",
    "X_train, X_test, y_train, y_test = train_test_split(X, y, test_size=0.33, random_state=1)"
   ]
  },
  {
   "cell_type": "markdown",
   "id": "scientific-artist",
   "metadata": {},
   "source": [
    "The next two cells may take about a minute to run"
   ]
  },
  {
   "cell_type": "code",
   "execution_count": null,
   "id": "brilliant-darkness",
   "metadata": {},
   "outputs": [],
   "source": [
    "tf_idf_vectorizer = TfidfVectorizer()\n",
    "X_train_enc = tf_idf_vectorizer.fit_transform(X_train)\n",
    "X_test_enc = tf_idf_vectorizer.transform(X_test)\n",
    "\n",
    "## FYI only - not needed for next steps\n",
    "feature_names = tf_idf_vectorizer.get_feature_names()\n",
    "dense = X_train_enc.todense()\n",
    "denselist = dense.tolist()\n",
    "dense.shape, type(dense)"
   ]
  },
  {
   "cell_type": "markdown",
   "id": "seven-excitement",
   "metadata": {},
   "source": [
    "#### Ridge Regression Model"
   ]
  },
  {
   "cell_type": "code",
   "execution_count": 51,
   "id": "guided-drinking",
   "metadata": {},
   "outputs": [],
   "source": [
    "from sklearn import feature_extraction, linear_model, model_selection, preprocessing"
   ]
  },
  {
   "cell_type": "code",
   "execution_count": 52,
   "id": "mineral-conflict",
   "metadata": {},
   "outputs": [],
   "source": [
    "classifier_model = linear_model.RidgeClassifier()"
   ]
  },
  {
   "cell_type": "code",
   "execution_count": 59,
   "id": "fourth-appendix",
   "metadata": {},
   "outputs": [
    {
     "data": {
      "text/plain": [
       "array([0.73412112, 0.73906706, 0.74435543])"
      ]
     },
     "execution_count": 59,
     "metadata": {},
     "output_type": "execute_result"
    }
   ],
   "source": [
    "scores = model_selection.cross_val_score(classifier_model, X_train_enc, y_train, cv=3, scoring=\"f1\")\n",
    "scores"
   ]
  },
  {
   "cell_type": "code",
   "execution_count": 54,
   "id": "killing-artist",
   "metadata": {},
   "outputs": [
    {
     "data": {
      "text/plain": [
       "RidgeClassifier()"
      ]
     },
     "execution_count": 54,
     "metadata": {},
     "output_type": "execute_result"
    }
   ],
   "source": [
    "# if the model looks good, then let's fit it to the training dataset\n",
    "classifier_model.fit(X_train_enc, y_train)"
   ]
  },
  {
   "cell_type": "code",
   "execution_count": 55,
   "id": "amazing-statement",
   "metadata": {},
   "outputs": [],
   "source": [
    "from sklearn.metrics import accuracy_score, f1_score"
   ]
  },
  {
   "cell_type": "code",
   "execution_count": 56,
   "id": "similar-worcester",
   "metadata": {},
   "outputs": [],
   "source": [
    "prediction = classifier_model.predict(X_test_enc)"
   ]
  },
  {
   "cell_type": "code",
   "execution_count": 57,
   "id": "disturbed-austria",
   "metadata": {},
   "outputs": [
    {
     "data": {
      "text/plain": [
       "0.8046159968165539"
      ]
     },
     "execution_count": 57,
     "metadata": {},
     "output_type": "execute_result"
    }
   ],
   "source": [
    "accuracy_score(prediction, y_test)"
   ]
  },
  {
   "cell_type": "code",
   "execution_count": null,
   "id": "northern-carnival",
   "metadata": {},
   "outputs": [],
   "source": []
  }
 ],
 "metadata": {
  "kernelspec": {
   "display_name": "Python 3",
   "language": "python",
   "name": "python3"
  },
  "language_info": {
   "codemirror_mode": {
    "name": "ipython",
    "version": 3
   },
   "file_extension": ".py",
   "mimetype": "text/x-python",
   "name": "python",
   "nbconvert_exporter": "python",
   "pygments_lexer": "ipython3",
   "version": "3.8.2"
  }
 },
 "nbformat": 4,
 "nbformat_minor": 5
}
