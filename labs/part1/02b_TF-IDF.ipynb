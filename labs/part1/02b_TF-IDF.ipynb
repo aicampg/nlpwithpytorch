{
 "cells": [
  {
   "cell_type": "markdown",
   "id": "stuffed-anger",
   "metadata": {},
   "source": [
    "# Implementing TF-IDF\n",
    "\n",
    "Using sklearn, nltk (stopwords)"
   ]
  },
  {
   "cell_type": "code",
   "execution_count": 5,
   "id": "checked-jacob",
   "metadata": {},
   "outputs": [],
   "source": [
    "import pandas as pd\n",
    "from sklearn.feature_extraction.text import TfidfVectorizer"
   ]
  },
  {
   "cell_type": "code",
   "execution_count": 102,
   "id": "medieval-cross",
   "metadata": {},
   "outputs": [],
   "source": [
    "doc1 = 'they went to the park for bird watching'\n",
    "doc2 = 'she went to the beach to swim'"
   ]
  },
  {
   "cell_type": "markdown",
   "id": "little-detail",
   "metadata": {},
   "source": [
    "We need to convert the text to a vector. First, let's recap the BoW approach:"
   ]
  },
  {
   "cell_type": "code",
   "execution_count": 7,
   "id": "finnish-amendment",
   "metadata": {},
   "outputs": [],
   "source": [
    "bow1 = doc1.split(' ')\n",
    "bow2 = doc2.split(' ')"
   ]
  },
  {
   "cell_type": "code",
   "execution_count": 10,
   "id": "adequate-greensboro",
   "metadata": {},
   "outputs": [],
   "source": [
    "# use Python's Union function to get unique words:\n",
    "corpus_unique = set(bow1).union(set(bow2))"
   ]
  },
  {
   "cell_type": "markdown",
   "id": "vital-rapid",
   "metadata": {},
   "source": [
    "Create a dict of words & frequency for each doc in the corpus\n"
   ]
  },
  {
   "cell_type": "code",
   "execution_count": 12,
   "id": "studied-airline",
   "metadata": {},
   "outputs": [],
   "source": [
    "num_words_doc1 = dict.fromkeys(corpus_unique, 0)"
   ]
  },
  {
   "cell_type": "code",
   "execution_count": 14,
   "id": "neural-press",
   "metadata": {},
   "outputs": [],
   "source": [
    "for word in bow1:\n",
    "    num_words_doc1[word] += 1"
   ]
  },
  {
   "cell_type": "code",
   "execution_count": 16,
   "id": "human-external",
   "metadata": {},
   "outputs": [],
   "source": [
    "# do the same for `doc2`\n",
    "num_words_doc2 = dict.fromkeys(corpus_unique, 0)\n",
    "\n",
    "for word in bow2:\n",
    "    num_words_doc2[word] += 1"
   ]
  },
  {
   "cell_type": "code",
   "execution_count": 19,
   "id": "amazing-spine",
   "metadata": {},
   "outputs": [],
   "source": [
    "import pandas as pd"
   ]
  },
  {
   "cell_type": "code",
   "execution_count": 51,
   "id": "abandoned-organ",
   "metadata": {},
   "outputs": [],
   "source": [
    "corpus_words = {}\n",
    "for word in corpus_unique:\n",
    "    corpus_words[word] = [num_words_doc1[word], num_words_doc2[word]]"
   ]
  },
  {
   "cell_type": "code",
   "execution_count": 70,
   "id": "eight-psychology",
   "metadata": {},
   "outputs": [
    {
     "data": {
      "text/html": [
       "<div>\n",
       "<style scoped>\n",
       "    .dataframe tbody tr th:only-of-type {\n",
       "        vertical-align: middle;\n",
       "    }\n",
       "\n",
       "    .dataframe tbody tr th {\n",
       "        vertical-align: top;\n",
       "    }\n",
       "\n",
       "    .dataframe thead th {\n",
       "        text-align: right;\n",
       "    }\n",
       "</style>\n",
       "<table border=\"1\" class=\"dataframe\">\n",
       "  <thead>\n",
       "    <tr style=\"text-align: right;\">\n",
       "      <th></th>\n",
       "      <th>she</th>\n",
       "      <th>park</th>\n",
       "      <th>swim</th>\n",
       "      <th>bird</th>\n",
       "      <th>beach</th>\n",
       "      <th>the</th>\n",
       "      <th>went</th>\n",
       "      <th>to</th>\n",
       "      <th>for</th>\n",
       "      <th>they</th>\n",
       "      <th>watching</th>\n",
       "    </tr>\n",
       "  </thead>\n",
       "  <tbody>\n",
       "    <tr>\n",
       "      <th>0</th>\n",
       "      <td>0</td>\n",
       "      <td>1</td>\n",
       "      <td>0</td>\n",
       "      <td>1</td>\n",
       "      <td>0</td>\n",
       "      <td>1</td>\n",
       "      <td>1</td>\n",
       "      <td>1</td>\n",
       "      <td>1</td>\n",
       "      <td>1</td>\n",
       "      <td>1</td>\n",
       "    </tr>\n",
       "    <tr>\n",
       "      <th>1</th>\n",
       "      <td>1</td>\n",
       "      <td>0</td>\n",
       "      <td>1</td>\n",
       "      <td>0</td>\n",
       "      <td>1</td>\n",
       "      <td>1</td>\n",
       "      <td>1</td>\n",
       "      <td>2</td>\n",
       "      <td>0</td>\n",
       "      <td>0</td>\n",
       "      <td>0</td>\n",
       "    </tr>\n",
       "  </tbody>\n",
       "</table>\n",
       "</div>"
      ],
      "text/plain": [
       "   she  park  swim  bird  beach  the  went  to  for  they  watching\n",
       "0    0     1     0     1      0    1     1   1    1     1         1\n",
       "1    1     0     1     0      1    1     1   2    0     0         0"
      ]
     },
     "execution_count": 70,
     "metadata": {},
     "output_type": "execute_result"
    }
   ],
   "source": [
    "pd.DataFrame.from_dict(corpus_words)"
   ]
  },
  {
   "cell_type": "markdown",
   "id": "complimentary-arbor",
   "metadata": {},
   "source": [
    "We need to account for 'stop' word noise"
   ]
  },
  {
   "cell_type": "code",
   "execution_count": 71,
   "id": "endangered-escape",
   "metadata": {
    "collapsed": true,
    "jupyter": {
     "outputs_hidden": true
    },
    "tags": []
   },
   "outputs": [
    {
     "data": {
      "text/plain": [
       "['i',\n",
       " 'me',\n",
       " 'my',\n",
       " 'myself',\n",
       " 'we',\n",
       " 'our',\n",
       " 'ours',\n",
       " 'ourselves',\n",
       " 'you',\n",
       " \"you're\",\n",
       " \"you've\",\n",
       " \"you'll\",\n",
       " \"you'd\",\n",
       " 'your',\n",
       " 'yours',\n",
       " 'yourself',\n",
       " 'yourselves',\n",
       " 'he',\n",
       " 'him',\n",
       " 'his',\n",
       " 'himself',\n",
       " 'she',\n",
       " \"she's\",\n",
       " 'her',\n",
       " 'hers',\n",
       " 'herself',\n",
       " 'it',\n",
       " \"it's\",\n",
       " 'its',\n",
       " 'itself',\n",
       " 'they',\n",
       " 'them',\n",
       " 'their',\n",
       " 'theirs',\n",
       " 'themselves',\n",
       " 'what',\n",
       " 'which',\n",
       " 'who',\n",
       " 'whom',\n",
       " 'this',\n",
       " 'that',\n",
       " \"that'll\",\n",
       " 'these',\n",
       " 'those',\n",
       " 'am',\n",
       " 'is',\n",
       " 'are',\n",
       " 'was',\n",
       " 'were',\n",
       " 'be',\n",
       " 'been',\n",
       " 'being',\n",
       " 'have',\n",
       " 'has',\n",
       " 'had',\n",
       " 'having',\n",
       " 'do',\n",
       " 'does',\n",
       " 'did',\n",
       " 'doing',\n",
       " 'a',\n",
       " 'an',\n",
       " 'the',\n",
       " 'and',\n",
       " 'but',\n",
       " 'if',\n",
       " 'or',\n",
       " 'because',\n",
       " 'as',\n",
       " 'until',\n",
       " 'while',\n",
       " 'of',\n",
       " 'at',\n",
       " 'by',\n",
       " 'for',\n",
       " 'with',\n",
       " 'about',\n",
       " 'against',\n",
       " 'between',\n",
       " 'into',\n",
       " 'through',\n",
       " 'during',\n",
       " 'before',\n",
       " 'after',\n",
       " 'above',\n",
       " 'below',\n",
       " 'to',\n",
       " 'from',\n",
       " 'up',\n",
       " 'down',\n",
       " 'in',\n",
       " 'out',\n",
       " 'on',\n",
       " 'off',\n",
       " 'over',\n",
       " 'under',\n",
       " 'again',\n",
       " 'further',\n",
       " 'then',\n",
       " 'once',\n",
       " 'here',\n",
       " 'there',\n",
       " 'when',\n",
       " 'where',\n",
       " 'why',\n",
       " 'how',\n",
       " 'all',\n",
       " 'any',\n",
       " 'both',\n",
       " 'each',\n",
       " 'few',\n",
       " 'more',\n",
       " 'most',\n",
       " 'other',\n",
       " 'some',\n",
       " 'such',\n",
       " 'no',\n",
       " 'nor',\n",
       " 'not',\n",
       " 'only',\n",
       " 'own',\n",
       " 'same',\n",
       " 'so',\n",
       " 'than',\n",
       " 'too',\n",
       " 'very',\n",
       " 's',\n",
       " 't',\n",
       " 'can',\n",
       " 'will',\n",
       " 'just',\n",
       " 'don',\n",
       " \"don't\",\n",
       " 'should',\n",
       " \"should've\",\n",
       " 'now',\n",
       " 'd',\n",
       " 'll',\n",
       " 'm',\n",
       " 'o',\n",
       " 're',\n",
       " 've',\n",
       " 'y',\n",
       " 'ain',\n",
       " 'aren',\n",
       " \"aren't\",\n",
       " 'couldn',\n",
       " \"couldn't\",\n",
       " 'didn',\n",
       " \"didn't\",\n",
       " 'doesn',\n",
       " \"doesn't\",\n",
       " 'hadn',\n",
       " \"hadn't\",\n",
       " 'hasn',\n",
       " \"hasn't\",\n",
       " 'haven',\n",
       " \"haven't\",\n",
       " 'isn',\n",
       " \"isn't\",\n",
       " 'ma',\n",
       " 'mightn',\n",
       " \"mightn't\",\n",
       " 'mustn',\n",
       " \"mustn't\",\n",
       " 'needn',\n",
       " \"needn't\",\n",
       " 'shan',\n",
       " \"shan't\",\n",
       " 'shouldn',\n",
       " \"shouldn't\",\n",
       " 'wasn',\n",
       " \"wasn't\",\n",
       " 'weren',\n",
       " \"weren't\",\n",
       " 'won',\n",
       " \"won't\",\n",
       " 'wouldn',\n",
       " \"wouldn't\"]"
      ]
     },
     "execution_count": 71,
     "metadata": {},
     "output_type": "execute_result"
    }
   ],
   "source": [
    "from nltk.corpus import stopwords\n",
    "stopwords.words('english')"
   ]
  },
  {
   "cell_type": "markdown",
   "id": "optimum-rapid",
   "metadata": {},
   "source": [
    "### TF"
   ]
  },
  {
   "cell_type": "code",
   "execution_count": 72,
   "id": "tired-above",
   "metadata": {},
   "outputs": [],
   "source": [
    "def compute_term_freq(wordDict, bagOfWords):\n",
    "    tfDict = {}\n",
    "    bagOfWordsCount = len(bagOfWords)\n",
    "    for word, count in wordDict.items():\n",
    "        tfDict[word] = count / float(bagOfWordsCount)\n",
    "    return tfDict"
   ]
  },
  {
   "cell_type": "code",
   "execution_count": 81,
   "id": "valid-theorem",
   "metadata": {},
   "outputs": [],
   "source": [
    "tf1 = compute_term_freq(num_words_doc1, bow1)\n",
    "tf2 = compute_term_freq(num_words_doc2, bow2)"
   ]
  },
  {
   "cell_type": "markdown",
   "id": "experimental-simpson",
   "metadata": {},
   "source": [
    "### IDF"
   ]
  },
  {
   "cell_type": "code",
   "execution_count": 74,
   "id": "heard-romania",
   "metadata": {},
   "outputs": [],
   "source": [
    "import math\n",
    "\n",
    "def compute_IDF(documents):\n",
    "    N = len(documents)    \n",
    "    idfDict = dict.fromkeys(documents[0].keys(), 0)\n",
    "    for document in documents:\n",
    "        for word, val in document.items():\n",
    "            if val > 0:\n",
    "                idfDict[word] += 1\n",
    "    \n",
    "    for word, val in idfDict.items():\n",
    "        idfDict[word] = math.log(N / float(val))\n",
    "    return idfDict\n"
   ]
  },
  {
   "cell_type": "code",
   "execution_count": 75,
   "id": "brilliant-evening",
   "metadata": {},
   "outputs": [],
   "source": [
    "idfs = compute_IDF([num_words_doc1, num_words_doc2])"
   ]
  },
  {
   "cell_type": "code",
   "execution_count": 84,
   "id": "ecological-cleveland",
   "metadata": {},
   "outputs": [
    {
     "data": {
      "text/plain": [
       "{'she': 0.6931471805599453,\n",
       " 'park': 0.6931471805599453,\n",
       " 'swim': 0.6931471805599453,\n",
       " 'bird': 0.6931471805599453,\n",
       " 'beach': 0.6931471805599453,\n",
       " 'the': 0.0,\n",
       " 'went': 0.0,\n",
       " 'to': 0.0,\n",
       " 'for': 0.6931471805599453,\n",
       " 'they': 0.6931471805599453,\n",
       " 'watching': 0.6931471805599453}"
      ]
     },
     "execution_count": 84,
     "metadata": {},
     "output_type": "execute_result"
    }
   ],
   "source": [
    "idfs"
   ]
  },
  {
   "cell_type": "markdown",
   "id": "partial-collapse",
   "metadata": {},
   "source": [
    "### TF-IDF"
   ]
  },
  {
   "cell_type": "code",
   "execution_count": 85,
   "id": "considerable-applicant",
   "metadata": {},
   "outputs": [],
   "source": [
    "def compute_TFIDF(tfBagOfWords, idfs):\n",
    "    tfidf = {}\n",
    "    for word, val in tfBagOfWords.items():\n",
    "        tfidf[word] = val * idfs[word]\n",
    "    return tfidf"
   ]
  },
  {
   "cell_type": "code",
   "execution_count": 86,
   "id": "skilled-bread",
   "metadata": {},
   "outputs": [],
   "source": [
    "tfidf1 = compute_TFIDF(tf1, idfs)\n",
    "tfidf2 = compute_TFIDF(tf2, idfs)\n",
    "df = pd.DataFrame([tfidf1, tfidf2])"
   ]
  },
  {
   "cell_type": "code",
   "execution_count": 87,
   "id": "premium-astrology",
   "metadata": {},
   "outputs": [
    {
     "data": {
      "text/html": [
       "<div>\n",
       "<style scoped>\n",
       "    .dataframe tbody tr th:only-of-type {\n",
       "        vertical-align: middle;\n",
       "    }\n",
       "\n",
       "    .dataframe tbody tr th {\n",
       "        vertical-align: top;\n",
       "    }\n",
       "\n",
       "    .dataframe thead th {\n",
       "        text-align: right;\n",
       "    }\n",
       "</style>\n",
       "<table border=\"1\" class=\"dataframe\">\n",
       "  <thead>\n",
       "    <tr style=\"text-align: right;\">\n",
       "      <th></th>\n",
       "      <th>she</th>\n",
       "      <th>park</th>\n",
       "      <th>swim</th>\n",
       "      <th>bird</th>\n",
       "      <th>beach</th>\n",
       "      <th>the</th>\n",
       "      <th>went</th>\n",
       "      <th>to</th>\n",
       "      <th>for</th>\n",
       "      <th>they</th>\n",
       "      <th>watching</th>\n",
       "    </tr>\n",
       "  </thead>\n",
       "  <tbody>\n",
       "    <tr>\n",
       "      <th>0</th>\n",
       "      <td>0.000000</td>\n",
       "      <td>0.086643</td>\n",
       "      <td>0.000000</td>\n",
       "      <td>0.086643</td>\n",
       "      <td>0.000000</td>\n",
       "      <td>0.0</td>\n",
       "      <td>0.0</td>\n",
       "      <td>0.0</td>\n",
       "      <td>0.086643</td>\n",
       "      <td>0.086643</td>\n",
       "      <td>0.086643</td>\n",
       "    </tr>\n",
       "    <tr>\n",
       "      <th>1</th>\n",
       "      <td>0.099021</td>\n",
       "      <td>0.000000</td>\n",
       "      <td>0.099021</td>\n",
       "      <td>0.000000</td>\n",
       "      <td>0.099021</td>\n",
       "      <td>0.0</td>\n",
       "      <td>0.0</td>\n",
       "      <td>0.0</td>\n",
       "      <td>0.000000</td>\n",
       "      <td>0.000000</td>\n",
       "      <td>0.000000</td>\n",
       "    </tr>\n",
       "  </tbody>\n",
       "</table>\n",
       "</div>"
      ],
      "text/plain": [
       "        she      park      swim      bird     beach  the  went   to       for  \\\n",
       "0  0.000000  0.086643  0.000000  0.086643  0.000000  0.0   0.0  0.0  0.086643   \n",
       "1  0.099021  0.000000  0.099021  0.000000  0.099021  0.0   0.0  0.0  0.000000   \n",
       "\n",
       "       they  watching  \n",
       "0  0.086643  0.086643  \n",
       "1  0.000000  0.000000  "
      ]
     },
     "execution_count": 87,
     "metadata": {},
     "output_type": "execute_result"
    }
   ],
   "source": [
    "df"
   ]
  },
  {
   "cell_type": "markdown",
   "id": "consecutive-provision",
   "metadata": {},
   "source": [
    "### Direct implementation with sklearn"
   ]
  },
  {
   "cell_type": "code",
   "execution_count": 79,
   "id": "structural-spare",
   "metadata": {},
   "outputs": [],
   "source": [
    "vectorizer = TfidfVectorizer()\n",
    "vectors = vectorizer.fit_transform([doc1, doc2])\n",
    "feature_names = vectorizer.get_feature_names()\n",
    "dense = vectors.todense()\n",
    "denselist = dense.tolist()\n",
    "df = pd.DataFrame(denselist, columns=feature_names)"
   ]
  },
  {
   "cell_type": "code",
   "execution_count": 80,
   "id": "rental-tiffany",
   "metadata": {},
   "outputs": [
    {
     "data": {
      "text/html": [
       "<div>\n",
       "<style scoped>\n",
       "    .dataframe tbody tr th:only-of-type {\n",
       "        vertical-align: middle;\n",
       "    }\n",
       "\n",
       "    .dataframe tbody tr th {\n",
       "        vertical-align: top;\n",
       "    }\n",
       "\n",
       "    .dataframe thead th {\n",
       "        text-align: right;\n",
       "    }\n",
       "</style>\n",
       "<table border=\"1\" class=\"dataframe\">\n",
       "  <thead>\n",
       "    <tr style=\"text-align: right;\">\n",
       "      <th></th>\n",
       "      <th>beach</th>\n",
       "      <th>bird</th>\n",
       "      <th>for</th>\n",
       "      <th>park</th>\n",
       "      <th>she</th>\n",
       "      <th>swim</th>\n",
       "      <th>the</th>\n",
       "      <th>they</th>\n",
       "      <th>to</th>\n",
       "      <th>watching</th>\n",
       "      <th>went</th>\n",
       "    </tr>\n",
       "  </thead>\n",
       "  <tbody>\n",
       "    <tr>\n",
       "      <th>0</th>\n",
       "      <td>0.00000</td>\n",
       "      <td>0.391668</td>\n",
       "      <td>0.391668</td>\n",
       "      <td>0.391668</td>\n",
       "      <td>0.00000</td>\n",
       "      <td>0.00000</td>\n",
       "      <td>0.278675</td>\n",
       "      <td>0.391668</td>\n",
       "      <td>0.278675</td>\n",
       "      <td>0.391668</td>\n",
       "      <td>0.278675</td>\n",
       "    </tr>\n",
       "    <tr>\n",
       "      <th>1</th>\n",
       "      <td>0.40698</td>\n",
       "      <td>0.000000</td>\n",
       "      <td>0.000000</td>\n",
       "      <td>0.000000</td>\n",
       "      <td>0.40698</td>\n",
       "      <td>0.40698</td>\n",
       "      <td>0.289569</td>\n",
       "      <td>0.000000</td>\n",
       "      <td>0.579139</td>\n",
       "      <td>0.000000</td>\n",
       "      <td>0.289569</td>\n",
       "    </tr>\n",
       "  </tbody>\n",
       "</table>\n",
       "</div>"
      ],
      "text/plain": [
       "     beach      bird       for      park      she     swim       the  \\\n",
       "0  0.00000  0.391668  0.391668  0.391668  0.00000  0.00000  0.278675   \n",
       "1  0.40698  0.000000  0.000000  0.000000  0.40698  0.40698  0.289569   \n",
       "\n",
       "       they        to  watching      went  \n",
       "0  0.391668  0.278675  0.391668  0.278675  \n",
       "1  0.000000  0.579139  0.000000  0.289569  "
      ]
     },
     "execution_count": 80,
     "metadata": {},
     "output_type": "execute_result"
    }
   ],
   "source": [
    "df"
   ]
  },
  {
   "cell_type": "markdown",
   "id": "answering-template",
   "metadata": {},
   "source": [
    "The small difference in values is due to the use of a smoothed version of idf + other optimizations. With a larger doc, the score for `the` would be greatly reduced. [Ref](https://towardsdatascience.com/natural-language-processing-feature-engineering-using-tf-idf-e8b9d00e7e76)\n"
   ]
  },
  {
   "cell_type": "code",
   "execution_count": null,
   "id": "selective-income",
   "metadata": {},
   "outputs": [],
   "source": []
  }
 ],
 "metadata": {
  "kernelspec": {
   "display_name": "Python 3",
   "language": "python",
   "name": "python3"
  },
  "language_info": {
   "codemirror_mode": {
    "name": "ipython",
    "version": 3
   },
   "file_extension": ".py",
   "mimetype": "text/x-python",
   "name": "python",
   "nbconvert_exporter": "python",
   "pygments_lexer": "ipython3",
   "version": "3.8.2"
  }
 },
 "nbformat": 4,
 "nbformat_minor": 5
}
