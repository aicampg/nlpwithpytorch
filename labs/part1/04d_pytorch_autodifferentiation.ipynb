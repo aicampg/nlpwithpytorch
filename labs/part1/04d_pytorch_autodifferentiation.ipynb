{
 "cells": [
  {
   "cell_type": "markdown",
   "id": "coral-spank",
   "metadata": {},
   "source": [
    "## PyTorch Autograd functions"
   ]
  },
  {
   "cell_type": "code",
   "execution_count": 1,
   "id": "mechanical-eagle",
   "metadata": {},
   "outputs": [],
   "source": [
    "import torch"
   ]
  },
  {
   "cell_type": "code",
   "execution_count": 2,
   "id": "devoted-utilization",
   "metadata": {},
   "outputs": [
    {
     "data": {
      "text/plain": [
       "torch.float32"
      ]
     },
     "execution_count": 2,
     "metadata": {},
     "output_type": "execute_result"
    }
   ],
   "source": [
    "torch.set_default_dtype(torch.float32)\n",
    "torch.get_default_dtype()"
   ]
  },
  {
   "cell_type": "code",
   "execution_count": 3,
   "id": "marine-cuisine",
   "metadata": {},
   "outputs": [
    {
     "data": {
      "text/plain": [
       "tensor([[1., 2., 3.],\n",
       "        [4., 5., 6.]])"
      ]
     },
     "execution_count": 3,
     "metadata": {},
     "output_type": "execute_result"
    }
   ],
   "source": [
    "tensor1 = torch.tensor([[1, 2, 3],\n",
    "                         [4, 5, 6]], dtype=torch.float32)\n",
    "tensor1"
   ]
  },
  {
   "cell_type": "code",
   "execution_count": 4,
   "id": "constant-detail",
   "metadata": {},
   "outputs": [
    {
     "data": {
      "text/plain": [
       "tensor([[10., 20., 30.],\n",
       "        [40., 50., 60.]])"
      ]
     },
     "execution_count": 4,
     "metadata": {},
     "output_type": "execute_result"
    }
   ],
   "source": [
    "tensor2 = torch.tensor([[10, 20, 30],\n",
    "                        [40, 50, 60]], dtype=torch.float32)\n",
    "tensor2"
   ]
  },
  {
   "cell_type": "code",
   "execution_count": 5,
   "id": "natural-kruger",
   "metadata": {},
   "outputs": [
    {
     "data": {
      "text/plain": [
       "False"
      ]
     },
     "execution_count": 5,
     "metadata": {},
     "output_type": "execute_result"
    }
   ],
   "source": [
    "tensor1.requires_grad"
   ]
  },
  {
   "cell_type": "code",
   "execution_count": 6,
   "id": "deadly-topic",
   "metadata": {},
   "outputs": [
    {
     "data": {
      "text/plain": [
       "False"
      ]
     },
     "execution_count": 6,
     "metadata": {},
     "output_type": "execute_result"
    }
   ],
   "source": [
    "tensor2.requires_grad"
   ]
  },
  {
   "cell_type": "markdown",
   "id": "spare-pencil",
   "metadata": {},
   "source": [
    "By default, every PyTorch Tensor has a requires_grad property. When True, Pytorch tracks tensor computations in the forward pass and calculates gradients in the backward pass.  \n",
    "\n",
    "If not set to True, to enable tracking history that allows calculation of gradients with respect to the Tensor, _call_ the `requires_grad_()` function which sets the value to True. "
   ]
  },
  {
   "cell_type": "code",
   "execution_count": 7,
   "id": "personalized-charter",
   "metadata": {},
   "outputs": [
    {
     "data": {
      "text/plain": [
       "tensor([[1., 2., 3.],\n",
       "        [4., 5., 6.]], requires_grad=True)"
      ]
     },
     "execution_count": 7,
     "metadata": {},
     "output_type": "execute_result"
    }
   ],
   "source": [
    "tensor1.requires_grad_() # Updates the requires grad property IN-Place"
   ]
  },
  {
   "cell_type": "code",
   "execution_count": 8,
   "id": "impressive-milan",
   "metadata": {},
   "outputs": [
    {
     "data": {
      "text/plain": [
       "True"
      ]
     },
     "execution_count": 8,
     "metadata": {},
     "output_type": "execute_result"
    }
   ],
   "source": [
    "tensor1.requires_grad # check"
   ]
  },
  {
   "cell_type": "code",
   "execution_count": 9,
   "id": "superb-navigation",
   "metadata": {},
   "outputs": [
    {
     "data": {
      "text/plain": [
       "False"
      ]
     },
     "execution_count": 9,
     "metadata": {},
     "output_type": "execute_result"
    }
   ],
   "source": [
    "tensor2.requires_grad # still False"
   ]
  },
  {
   "cell_type": "markdown",
   "id": "alternative-worship",
   "metadata": {},
   "source": [
    "Tensors and functions make up our **DAG**, *directed acyclic computation graph*"
   ]
  },
  {
   "cell_type": "code",
   "execution_count": 10,
   "id": "duplicate-purple",
   "metadata": {},
   "outputs": [
    {
     "name": "stdout",
     "output_type": "stream",
     "text": [
      "None\n"
     ]
    }
   ],
   "source": [
    "print(tensor1.grad) # no gradients have been calculated"
   ]
  },
  {
   "cell_type": "code",
   "execution_count": 11,
   "id": "legendary-value",
   "metadata": {},
   "outputs": [
    {
     "name": "stdout",
     "output_type": "stream",
     "text": [
      "None\n"
     ]
    }
   ],
   "source": [
    "print(tensor1.grad_fn) # the computational tree is empty"
   ]
  },
  {
   "cell_type": "markdown",
   "id": "violent-treaty",
   "metadata": {},
   "source": [
    "Tensors are the nodes in this graph and the functions are the transformations along the edges. Together tensors & functions make up the Directed Acyclic Computation Graph\n"
   ]
  },
  {
   "cell_type": "markdown",
   "id": "descending-interim",
   "metadata": {},
   "source": [
    "Every tensor has a grad function to create that function."
   ]
  },
  {
   "cell_type": "markdown",
   "id": "municipal-brush",
   "metadata": {},
   "source": [
    "Let's set up our first Simple computation graph."
   ]
  },
  {
   "cell_type": "code",
   "execution_count": 12,
   "id": "offshore-eagle",
   "metadata": {},
   "outputs": [
    {
     "data": {
      "text/plain": [
       "tensor([[ 10.,  40.,  90.],\n",
       "        [160., 250., 360.]], grad_fn=<MulBackward0>)"
      ]
     },
     "execution_count": 12,
     "metadata": {},
     "output_type": "execute_result"
    }
   ],
   "source": [
    "output_tensor = tensor1 * tensor2\n",
    "output_tensor"
   ]
  },
  {
   "cell_type": "markdown",
   "id": "enormous-profit",
   "metadata": {},
   "source": [
    "The `requires_grad` property is based on the input tensors used to create it. `tensor1` requires_grad property was set to `True`"
   ]
  },
  {
   "cell_type": "code",
   "execution_count": 13,
   "id": "experimental-depth",
   "metadata": {},
   "outputs": [
    {
     "data": {
      "text/plain": [
       "True"
      ]
     },
     "execution_count": 13,
     "metadata": {},
     "output_type": "execute_result"
    }
   ],
   "source": [
    "output_tensor.requires_grad "
   ]
  },
  {
   "cell_type": "markdown",
   "id": "elder-tournament",
   "metadata": {},
   "source": [
    "The `grad` property of the `output_tensor` is `None` because there are no gradients created from a backward pass. "
   ]
  },
  {
   "cell_type": "code",
   "execution_count": 14,
   "id": "frank-tutorial",
   "metadata": {},
   "outputs": [
    {
     "name": "stdout",
     "output_type": "stream",
     "text": [
      "None\n"
     ]
    },
    {
     "name": "stderr",
     "output_type": "stream",
     "text": [
      "<ipython-input-14-2e7da3899fae>:1: UserWarning: The .grad attribute of a Tensor that is not a leaf Tensor is being accessed. Its .grad attribute won't be populated during autograd.backward(). If you indeed want the gradient for a non-leaf Tensor, use .retain_grad() on the non-leaf Tensor. If you access the non-leaf Tensor by mistake, make sure you access the leaf Tensor instead. See github.com/pytorch/pytorch/pull/30531 for more informations.\n",
      "  print(output_tensor.grad)\n"
     ]
    }
   ],
   "source": [
    "print(output_tensor.grad) "
   ]
  },
  {
   "cell_type": "code",
   "execution_count": 15,
   "id": "marine-examination",
   "metadata": {},
   "outputs": [
    {
     "name": "stdout",
     "output_type": "stream",
     "text": [
      "<MulBackward0 object at 0x7f0e7f216190>\n"
     ]
    }
   ],
   "source": [
    "print(output_tensor.grad_fn) # multiplication based tensor"
   ]
  },
  {
   "cell_type": "code",
   "execution_count": 16,
   "id": "actual-hybrid",
   "metadata": {},
   "outputs": [
    {
     "name": "stdout",
     "output_type": "stream",
     "text": [
      "None\n",
      "None\n"
     ]
    }
   ],
   "source": [
    "print(tensor1.grad_fn)\n",
    "print(tensor2.grad_fn)"
   ]
  },
  {
   "cell_type": "markdown",
   "id": "immune-transcription",
   "metadata": {},
   "source": [
    "Different operation: "
   ]
  },
  {
   "cell_type": "code",
   "execution_count": 17,
   "id": "rational-airfare",
   "metadata": {},
   "outputs": [
    {
     "name": "stdout",
     "output_type": "stream",
     "text": [
      "<MeanBackward0 object at 0x7f0ef45545e0>\n"
     ]
    }
   ],
   "source": [
    "output_tensor = (tensor1 * tensor2).mean()\n",
    "print(output_tensor.grad_fn) # grad_fn references the last function"
   ]
  },
  {
   "cell_type": "code",
   "execution_count": 18,
   "id": "legal-conversion",
   "metadata": {},
   "outputs": [
    {
     "name": "stdout",
     "output_type": "stream",
     "text": [
      "None\n"
     ]
    }
   ],
   "source": [
    "print(tensor1.grad) # only when backward function is called on an output"
   ]
  },
  {
   "cell_type": "code",
   "execution_count": 19,
   "id": "latter-tumor",
   "metadata": {},
   "outputs": [],
   "source": [
    "output_tensor.backward() # partial derivatives now calculated"
   ]
  },
  {
   "cell_type": "code",
   "execution_count": 20,
   "id": "artificial-lincoln",
   "metadata": {},
   "outputs": [
    {
     "name": "stdout",
     "output_type": "stream",
     "text": [
      "tensor([[ 1.6667,  3.3333,  5.0000],\n",
      "        [ 6.6667,  8.3333, 10.0000]])\n"
     ]
    }
   ],
   "source": [
    "print(tensor1.grad)"
   ]
  },
  {
   "cell_type": "markdown",
   "id": "positive-butler",
   "metadata": {},
   "source": [
    "Gradients are partial derivatives wrt every value of tensor1, the shapes are the same"
   ]
  },
  {
   "cell_type": "code",
   "execution_count": 21,
   "id": "written-insertion",
   "metadata": {},
   "outputs": [
    {
     "data": {
      "text/plain": [
       "(torch.Size([2, 3]), torch.Size([2, 3]))"
      ]
     },
     "execution_count": 21,
     "metadata": {},
     "output_type": "execute_result"
    }
   ],
   "source": [
    "tensor1.grad.shape, tensor1.shape"
   ]
  },
  {
   "cell_type": "code",
   "execution_count": 22,
   "id": "institutional-product",
   "metadata": {},
   "outputs": [
    {
     "name": "stdout",
     "output_type": "stream",
     "text": [
      "None\n"
     ]
    }
   ],
   "source": [
    "print(tensor2.grad) # none calculated, required_grad was False"
   ]
  },
  {
   "cell_type": "code",
   "execution_count": 23,
   "id": "under-moderator",
   "metadata": {},
   "outputs": [
    {
     "name": "stdout",
     "output_type": "stream",
     "text": [
      "None\n"
     ]
    },
    {
     "name": "stderr",
     "output_type": "stream",
     "text": [
      "<ipython-input-23-95e125c76021>:1: UserWarning: The .grad attribute of a Tensor that is not a leaf Tensor is being accessed. Its .grad attribute won't be populated during autograd.backward(). If you indeed want the gradient for a non-leaf Tensor, use .retain_grad() on the non-leaf Tensor. If you access the non-leaf Tensor by mistake, make sure you access the leaf Tensor instead. See github.com/pytorch/pytorch/pull/30531 for more informations.\n",
      "  print(output_tensor.grad) # this is the value wrt the partial derivatives are calculated so it doesn't have gradients\n"
     ]
    }
   ],
   "source": [
    "print(output_tensor.grad) # this is the value wrt the partial derivatives are calculated so it doesn't have gradients"
   ]
  },
  {
   "cell_type": "markdown",
   "id": "modern-minneapolis",
   "metadata": {},
   "source": [
    "requires_grad property is propagated from inp tensors to res tens"
   ]
  },
  {
   "cell_type": "code",
   "execution_count": 24,
   "id": "plain-carrier",
   "metadata": {},
   "outputs": [
    {
     "name": "stdout",
     "output_type": "stream",
     "text": [
      "True\n"
     ]
    }
   ],
   "source": [
    "new_tensor = tensor1 * 3\n",
    "print(new_tensor.requires_grad)"
   ]
  },
  {
   "cell_type": "markdown",
   "id": "seasonal-pathology",
   "metadata": {},
   "source": [
    "Grad func is mulbackward, mult op that created this tensor\n",
    "if tracking history is enabled:"
   ]
  },
  {
   "cell_type": "code",
   "execution_count": 25,
   "id": "surface-algorithm",
   "metadata": {},
   "outputs": [
    {
     "name": "stdout",
     "output_type": "stream",
     "text": [
      "new tensor =  tensor([[ 3.,  6.,  9.],\n",
      "        [12., 15., 18.]])\n",
      "requires_grad for tensor =  True\n",
      "requires_grad for tensor1 =  False\n",
      "requires_grad for new_tensor =  False\n"
     ]
    }
   ],
   "source": [
    "with torch.no_grad(): # to stop autograd to stop computations with tracking hist off\n",
    "    new_tensor = tensor1 * 3\n",
    "    print('new tensor = ', new_tensor)\n",
    "    print('requires_grad for tensor = ', tensor1.requires_grad)\n",
    "    print('requires_grad for tensor1 = ', tensor2.requires_grad)\n",
    "    print('requires_grad for new_tensor = ', new_tensor.requires_grad)\n",
    "    "
   ]
  },
  {
   "cell_type": "markdown",
   "id": "sharp-summary",
   "metadata": {},
   "source": [
    "The original tensor1 has requires_grad = True and the new_tensor has it set to False, no propagation becase requires_grad was set to False."
   ]
  },
  {
   "cell_type": "code",
   "execution_count": 26,
   "id": "approximate-jungle",
   "metadata": {},
   "outputs": [],
   "source": [
    "def calculate(t):\n",
    "    return t * 2"
   ]
  },
  {
   "cell_type": "code",
   "execution_count": 27,
   "id": "wicked-adapter",
   "metadata": {},
   "outputs": [],
   "source": [
    "@torch.no_grad()\n",
    "def calculate_with_no_grad(t):\n",
    "    return t * 2"
   ]
  },
  {
   "cell_type": "code",
   "execution_count": 28,
   "id": "modular-evening",
   "metadata": {},
   "outputs": [
    {
     "data": {
      "text/plain": [
       "tensor([[ 2.,  4.,  6.],\n",
       "        [ 8., 10., 12.]], grad_fn=<MulBackward0>)"
      ]
     },
     "execution_count": 28,
     "metadata": {},
     "output_type": "execute_result"
    }
   ],
   "source": [
    "result_tensor = calculate(tensor1)\n",
    "result_tensor # grad function is MulBackward0 because it was created using a multiplication operation"
   ]
  },
  {
   "cell_type": "code",
   "execution_count": 29,
   "id": "naughty-analyst",
   "metadata": {},
   "outputs": [
    {
     "data": {
      "text/plain": [
       "True"
      ]
     },
     "execution_count": 29,
     "metadata": {},
     "output_type": "execute_result"
    }
   ],
   "source": [
    "result_tensor.requires_grad"
   ]
  },
  {
   "cell_type": "code",
   "execution_count": 30,
   "id": "improving-robert",
   "metadata": {},
   "outputs": [
    {
     "data": {
      "text/plain": [
       "tensor([[ 2.,  4.,  6.],\n",
       "        [ 8., 10., 12.]])"
      ]
     },
     "execution_count": 30,
     "metadata": {},
     "output_type": "execute_result"
    }
   ],
   "source": [
    "# Calc teh result tensor but with no_grad decorator\n",
    "# @torch.no_grad()\n",
    "result_tensor_no_grad = calculate_with_no_grad(tensor1)\n",
    "result_tensor_no_grad # does not keep track"
   ]
  },
  {
   "cell_type": "code",
   "execution_count": 31,
   "id": "legal-plain",
   "metadata": {},
   "outputs": [
    {
     "data": {
      "text/plain": [
       "False"
      ]
     },
     "execution_count": 31,
     "metadata": {},
     "output_type": "execute_result"
    }
   ],
   "source": [
    "result_tensor_no_grad.requires_grad"
   ]
  },
  {
   "cell_type": "markdown",
   "id": "amber-letters",
   "metadata": {},
   "source": [
    "**Nesting Inner blocks where you want history tracking and gradients to be calculated within an outer no_grad block**: We can enable history tracking of gradients within a no_grad block: In general we want to turn it off but we can turn it off for select computations within a `no_grad` block"
   ]
  },
  {
   "cell_type": "code",
   "execution_count": 32,
   "id": "altered-antibody",
   "metadata": {},
   "outputs": [
    {
     "name": "stdout",
     "output_type": "stream",
     "text": [
      "new_tensor_no_grad =  tensor([[ 3.,  6.,  9.],\n",
      "        [12., 15., 18.]])\n",
      "new_tensor_grad =  tensor([[ 3.,  6.,  9.],\n",
      "        [12., 15., 18.]], grad_fn=<MulBackward0>)\n"
     ]
    }
   ],
   "source": [
    "with torch.no_grad():\n",
    "    new_tensor_no_grad = tensor1 * 3\n",
    "    print('new_tensor_no_grad = ', new_tensor_no_grad)\n",
    "    \n",
    "    with torch.enable_grad():\n",
    "        new_tensor_grad = tensor1 * 3\n",
    "        print('new_tensor_grad = ', new_tensor_grad)"
   ]
  },
  {
   "cell_type": "markdown",
   "id": "blank-calendar",
   "metadata": {},
   "source": [
    "If ANY of the input tensors have their `requires_grad` property set to True, then the computed tensors will as well. "
   ]
  },
  {
   "cell_type": "code",
   "execution_count": 33,
   "id": "heard-connecticut",
   "metadata": {},
   "outputs": [
    {
     "data": {
      "text/plain": [
       "tensor([[1., 2.],\n",
       "        [3., 4.]], requires_grad=True)"
      ]
     },
     "execution_count": 33,
     "metadata": {},
     "output_type": "execute_result"
    }
   ],
   "source": [
    "tensor_one = torch.tensor([[1.0, 2.0],\n",
    "                           [3.0, 4.0]], requires_grad=True)\n",
    "tensor_one"
   ]
  },
  {
   "cell_type": "markdown",
   "id": "smoking-writer",
   "metadata": {},
   "source": [
    "Create another tensor, by default requires_grad will be set to False\n"
   ]
  },
  {
   "cell_type": "code",
   "execution_count": 34,
   "id": "adequate-soundtrack",
   "metadata": {},
   "outputs": [
    {
     "data": {
      "text/plain": [
       "tensor([[5., 6.],\n",
       "        [7., 8.]])"
      ]
     },
     "execution_count": 34,
     "metadata": {},
     "output_type": "execute_result"
    }
   ],
   "source": [
    "tensor_two = torch.Tensor([[5, 6],\n",
    "                           [7, 8]])\n",
    "tensor_two"
   ]
  },
  {
   "cell_type": "code",
   "execution_count": 35,
   "id": "gentle-banner",
   "metadata": {},
   "outputs": [
    {
     "data": {
      "text/plain": [
       "(True, False)"
      ]
     },
     "execution_count": 35,
     "metadata": {},
     "output_type": "execute_result"
    }
   ],
   "source": [
    "tensor_one.requires_grad, tensor_two.requires_grad"
   ]
  },
  {
   "cell_type": "code",
   "execution_count": 36,
   "id": "alien-murray",
   "metadata": {},
   "outputs": [
    {
     "data": {
      "text/plain": [
       "tensor([[5., 6.],\n",
       "        [7., 8.]], requires_grad=True)"
      ]
     },
     "execution_count": 36,
     "metadata": {},
     "output_type": "execute_result"
    }
   ],
   "source": [
    "tensor_two.requires_grad_()"
   ]
  },
  {
   "cell_type": "code",
   "execution_count": 37,
   "id": "separated-recovery",
   "metadata": {},
   "outputs": [
    {
     "data": {
      "text/plain": [
       "(True, True)"
      ]
     },
     "execution_count": 37,
     "metadata": {},
     "output_type": "execute_result"
    }
   ],
   "source": [
    "tensor_one.requires_grad, tensor_two.requires_grad"
   ]
  },
  {
   "cell_type": "code",
   "execution_count": 38,
   "id": "sharp-village",
   "metadata": {},
   "outputs": [
    {
     "data": {
      "text/plain": [
       "tensor(9., grad_fn=<MeanBackward0>)"
      ]
     },
     "execution_count": 38,
     "metadata": {},
     "output_type": "execute_result"
    }
   ],
   "source": [
    "final_tensor = (tensor_one + tensor_two).mean()\n",
    "final_tensor"
   ]
  },
  {
   "cell_type": "markdown",
   "id": "sapphire-sport",
   "metadata": {},
   "source": [
    "So far, we have only completed forward pass; there are no gradients associated with `tensor_one`, nor with `tensor_two`"
   ]
  },
  {
   "cell_type": "code",
   "execution_count": 39,
   "id": "discrete-dividend",
   "metadata": {},
   "outputs": [],
   "source": [
    "final_tensor.backward()"
   ]
  },
  {
   "cell_type": "code",
   "execution_count": 40,
   "id": "atlantic-western",
   "metadata": {},
   "outputs": [
    {
     "name": "stdout",
     "output_type": "stream",
     "text": [
      "tensor([[0.2500, 0.2500],\n",
      "        [0.2500, 0.2500]])\n"
     ]
    }
   ],
   "source": [
    "print(tensor_one.grad)"
   ]
  },
  {
   "cell_type": "code",
   "execution_count": 41,
   "id": "alternate-teaching",
   "metadata": {},
   "outputs": [
    {
     "name": "stdout",
     "output_type": "stream",
     "text": [
      "tensor([[0.2500, 0.2500],\n",
      "        [0.2500, 0.2500]])\n"
     ]
    }
   ],
   "source": [
    "print(tensor_two.grad)"
   ]
  },
  {
   "cell_type": "markdown",
   "id": "cordless-regression",
   "metadata": {},
   "source": [
    "Tensors involved in a computation are part of a larger computation graph. If you want to detach a tensor from the graph, you can call the detach function on tensor. **The detached tensor will always have its `requires_grad` property set to `False`**"
   ]
  },
  {
   "cell_type": "code",
   "execution_count": 42,
   "id": "rolled-dating",
   "metadata": {},
   "outputs": [
    {
     "data": {
      "text/plain": [
       "tensor([[1., 2.],\n",
       "        [3., 4.]])"
      ]
     },
     "execution_count": 42,
     "metadata": {},
     "output_type": "execute_result"
    }
   ],
   "source": [
    "detached_tensor = tensor_one.detach()\n",
    "detached_tensor"
   ]
  },
  {
   "cell_type": "code",
   "execution_count": 43,
   "id": "manual-toilet",
   "metadata": {},
   "outputs": [],
   "source": [
    "# Let's use these in a computation\n",
    "mean_tensor = (tensor_one + detached_tensor).mean()\n",
    "mean_tensor.backward()"
   ]
  },
  {
   "cell_type": "code",
   "execution_count": 44,
   "id": "random-starter",
   "metadata": {},
   "outputs": [
    {
     "data": {
      "text/plain": [
       "tensor([[0.5000, 0.5000],\n",
       "        [0.5000, 0.5000]])"
      ]
     },
     "execution_count": 44,
     "metadata": {},
     "output_type": "execute_result"
    }
   ],
   "source": [
    "tensor_one.grad"
   ]
  },
  {
   "cell_type": "code",
   "execution_count": 45,
   "id": "active-flesh",
   "metadata": {},
   "outputs": [],
   "source": [
    "mean_tensor.backward()"
   ]
  },
  {
   "cell_type": "code",
   "execution_count": 46,
   "id": "continent-passing",
   "metadata": {},
   "outputs": [
    {
     "data": {
      "text/plain": [
       "tensor([[0.7500, 0.7500],\n",
       "        [0.7500, 0.7500]])"
      ]
     },
     "execution_count": 46,
     "metadata": {},
     "output_type": "execute_result"
    }
   ],
   "source": [
    "tensor_one.grad"
   ]
  },
  {
   "cell_type": "code",
   "execution_count": 47,
   "id": "statewide-church",
   "metadata": {},
   "outputs": [],
   "source": [
    "detached_tensor.grad # none calculated"
   ]
  },
  {
   "cell_type": "markdown",
   "id": "historical-affair",
   "metadata": {},
   "source": [
    "### Variable API\n",
    "\n",
    "** The Variable API in PyTorch has been deprecated**: Variables are no longer needed to work with autograd and to store gradients. \n",
    "\n",
    "Variables were tailored to hold values during training. The gradient vector, grad fnction etc are now part of the Tensor function itself. \n",
    "\n",
    "You can still use it:"
   ]
  },
  {
   "cell_type": "code",
   "execution_count": 48,
   "id": "dominant-eugene",
   "metadata": {},
   "outputs": [],
   "source": [
    "import torch\n",
    "from torch.autograd import Variable"
   ]
  },
  {
   "cell_type": "code",
   "execution_count": 49,
   "id": "radical-application",
   "metadata": {},
   "outputs": [
    {
     "data": {
      "text/plain": [
       "(tensor([9.]), False)"
      ]
     },
     "execution_count": 49,
     "metadata": {},
     "output_type": "execute_result"
    }
   ],
   "source": [
    "var = Variable(torch.FloatTensor([9]))\n",
    "var, var.requires_grad"
   ]
  },
  {
   "cell_type": "code",
   "execution_count": 50,
   "id": "colonial-reaction",
   "metadata": {},
   "outputs": [
    {
     "data": {
      "text/plain": [
       "tensor([9.], requires_grad=True)"
      ]
     },
     "execution_count": 50,
     "metadata": {},
     "output_type": "execute_result"
    }
   ],
   "source": [
    "var.requires_grad_()"
   ]
  },
  {
   "cell_type": "code",
   "execution_count": 51,
   "id": "original-denver",
   "metadata": {},
   "outputs": [
    {
     "name": "stdout",
     "output_type": "stream",
     "text": [
      "tensor([3.], requires_grad=True)\n",
      "tensor([10.], requires_grad=True)\n"
     ]
    }
   ],
   "source": [
    "w1 = Variable(torch.FloatTensor([3]), requires_grad=True)\n",
    "w2 = Variable(torch.FloatTensor([10]), requires_grad=True)\n",
    "print(w1)\n",
    "print(w2)"
   ]
  },
  {
   "cell_type": "code",
   "execution_count": 52,
   "id": "canadian-freeware",
   "metadata": {},
   "outputs": [
    {
     "data": {
      "text/plain": [
       "tensor([27.], grad_fn=<MulBackward0>)"
      ]
     },
     "execution_count": 52,
     "metadata": {},
     "output_type": "execute_result"
    }
   ],
   "source": [
    "result_var = var * w1\n",
    "result_var # this is also a `tensor`"
   ]
  },
  {
   "cell_type": "code",
   "execution_count": 53,
   "id": "liable-species",
   "metadata": {},
   "outputs": [
    {
     "data": {
      "text/plain": [
       "True"
      ]
     },
     "execution_count": 53,
     "metadata": {},
     "output_type": "execute_result"
    }
   ],
   "source": [
    "result_var.requires_grad"
   ]
  },
  {
   "cell_type": "markdown",
   "id": "numeric-debate",
   "metadata": {},
   "source": [
    "The `backward()` function call will work exactly the same way: it calculates the gradients for all of the input tensors where `requires_grad` property was set to `True`"
   ]
  },
  {
   "cell_type": "code",
   "execution_count": 54,
   "id": "positive-travel",
   "metadata": {},
   "outputs": [],
   "source": [
    "result_var.backward()"
   ]
  },
  {
   "cell_type": "markdown",
   "id": "recent-liverpool",
   "metadata": {},
   "source": [
    "* `w1.grad` contains the gradients for `w1` with respect to `result_var`\n",
    "* `w2` was not involved in the operation so it will not contain any gradients\n",
    "* and `var` will contain gradients as well"
   ]
  },
  {
   "cell_type": "code",
   "execution_count": 55,
   "id": "electric-break",
   "metadata": {},
   "outputs": [
    {
     "data": {
      "text/plain": [
       "(tensor([9.]), None, tensor([3.]))"
      ]
     },
     "execution_count": 55,
     "metadata": {},
     "output_type": "execute_result"
    }
   ],
   "source": [
    "(w1.grad, w2.grad, var.grad)"
   ]
  },
  {
   "cell_type": "code",
   "execution_count": 56,
   "id": "secret-nancy",
   "metadata": {},
   "outputs": [],
   "source": [
    "w2.grad"
   ]
  },
  {
   "cell_type": "markdown",
   "id": "specified-regression",
   "metadata": {},
   "source": [
    "# Building a linear model with Autograd\n",
    "\n",
    "**See**\n",
    "[04e_demo7-LinearModelUsingAutograd_ys_notes](04e_demo7-LinearModelUsingAutograd_ys_notes.ipynb)"
   ]
  },
  {
   "cell_type": "markdown",
   "id": "conservative-scoop",
   "metadata": {},
   "source": [
    "# Dynamic Computation\n",
    "\n",
    "**See**\n",
    "[04f_dynamic_computation](04f_dynamic_computation.ipynb)"
   ]
  },
  {
   "cell_type": "markdown",
   "id": "flying-attention",
   "metadata": {},
   "source": [
    "## Backpropagation \n",
    "\n",
    "Building graphs dyanamically using PyTorch"
   ]
  },
  {
   "cell_type": "code",
   "execution_count": 57,
   "id": "concerned-sound",
   "metadata": {},
   "outputs": [],
   "source": [
    "from graphviz import Digraph\n",
    "from graphviz import Source\n",
    "from IPython.display import Image"
   ]
  },
  {
   "cell_type": "code",
   "execution_count": 58,
   "id": "forty-segment",
   "metadata": {},
   "outputs": [
    {
     "data": {
      "image/png": "[encoded data removed]",
      "text/plain": [
       "<IPython.core.display.Image object>"
      ]
     },
     "execution_count": 58,
     "metadata": {},
     "output_type": "execute_result"
    }
   ],
   "source": [
    "temp = \"\"\"\n",
    "digraph G{\n",
    "edge [dir=forward]\n",
    "node [shape=square]\n",
    "x [label=\"x\"]\n",
    "w_x [label=\"w_x\"]\n",
    "x -> x_prod\n",
    "x_prod [label=\"*\\nx_prod\"]\n",
    "w_x -> x_prod\n",
    "\n",
    "h [label=\"h\"]\n",
    "w_h [label=\"w_h\"]\n",
    "h -> h_prod\n",
    "w_h -> h_prod\n",
    "h_prod [label=\"*\\nh_prod\"]\n",
    "x_prod -> z\n",
    "h_prod -> z\n",
    "z [label=\"+\\nz\"]\n",
    "}\n",
    "\"\"\"\n",
    "s = Source(temp, filename=\"nn3.gv\", format=\"png\")\n",
    "Image('nn3.gv.png')"
   ]
  },
  {
   "cell_type": "code",
   "execution_count": 59,
   "id": "dominant-number",
   "metadata": {},
   "outputs": [],
   "source": [
    "x = torch.rand(1, 10, requires_grad=True)\n",
    "prev_h = torch.rand(1, 20)\n",
    "W_h = torch.rand(20, 20)\n",
    "W_x = torch.rand(20, 10)\n",
    "\n",
    "i2h = torch.mm(W_x, x.t())\n",
    "h2h = torch.mm(W_h, prev_h.t())\n",
    "next_h = i2h + h2h\n",
    "next_h = next_h.tanh()"
   ]
  },
  {
   "cell_type": "code",
   "execution_count": 60,
   "id": "specific-night",
   "metadata": {},
   "outputs": [
    {
     "data": {
      "text/plain": [
       "True"
      ]
     },
     "execution_count": 60,
     "metadata": {},
     "output_type": "execute_result"
    }
   ],
   "source": [
    "x.requires_grad"
   ]
  },
  {
   "cell_type": "code",
   "execution_count": 61,
   "id": "infectious-antarctica",
   "metadata": {},
   "outputs": [
    {
     "data": {
      "text/plain": [
       "True"
      ]
     },
     "execution_count": 61,
     "metadata": {},
     "output_type": "execute_result"
    }
   ],
   "source": [
    "next_h.requires_grad"
   ]
  }
 ],
 "metadata": {
  "kernelspec": {
   "display_name": "Python 3",
   "language": "python",
   "name": "python3"
  },
  "language_info": {
   "codemirror_mode": {
    "name": "ipython",
    "version": 3
   },
   "file_extension": ".py",
   "mimetype": "text/x-python",
   "name": "python",
   "nbconvert_exporter": "python",
   "pygments_lexer": "ipython3",
   "version": "3.8.2"
  }
 },
 "nbformat": 4,
 "nbformat_minor": 5
}
