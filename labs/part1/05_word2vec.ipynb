{
 "cells": [
  {
   "cell_type": "code",
   "execution_count": null,
   "metadata": {},
   "outputs": [],
   "source": [
    "import numpy as np\n",
    "from sklearn.manifold import TSNE\n",
    "import matplotlib.pyplot as plt"
   ]
  },
  {
   "cell_type": "markdown",
   "metadata": {},
   "source": [
    "Gensim downloader background: https://radimrehurek.com/gensim/downloader.html"
   ]
  },
  {
   "cell_type": "code",
   "execution_count": 2,
   "metadata": {},
   "outputs": [],
   "source": [
    "import gensim.downloader as api\n",
    "word2vec_model = api.load(\"glove-twitter-25\")  # load glove vectors`"
   ]
  },
  {
   "cell_type": "code",
   "execution_count": 17,
   "metadata": {},
   "outputs": [
    {
     "data": {
      "text/plain": [
       "[('dog', 0.9590820670127869),\n",
       " ('monkey', 0.920357882976532),\n",
       " ('bear', 0.9143137335777283),\n",
       " ('pet', 0.9108031392097473),\n",
       " ('girl', 0.8880630135536194),\n",
       " ('horse', 0.8872727155685425),\n",
       " ('kitty', 0.8870541453361511),\n",
       " ('puppy', 0.8867696523666382),\n",
       " ('hot', 0.886525571346283),\n",
       " ('lady', 0.8845518827438354)]"
      ]
     },
     "execution_count": 17,
     "metadata": {},
     "output_type": "execute_result"
    }
   ],
   "source": [
    "word2vec_model.most_similar(\"cat\")  # show words that similar to word 'cat'"
   ]
  },
  {
   "cell_type": "code",
   "execution_count": 24,
   "metadata": {},
   "outputs": [
    {
     "data": {
      "text/plain": [
       "array([-1.1589   ,  0.40706  ,  1.2051   , -0.19056  ,  0.11131  ,\n",
       "       -0.051701 ,  0.91339  , -0.35861  ,  0.59744  ,  0.18681  ,\n",
       "       -0.18825  , -0.42439  , -4.6994   , -0.0090055,  0.40719  ,\n",
       "       -0.27002  ,  0.32667  , -0.36875  , -0.48711  , -0.20568  ,\n",
       "        0.3559   , -0.3417   ,  0.27324  , -0.3588   ,  0.58548  ],\n",
       "      dtype=float32)"
      ]
     },
     "execution_count": 24,
     "metadata": {},
     "output_type": "execute_result"
    }
   ],
   "source": [
    "word2vec_model[\"house\"]"
   ]
  },
  {
   "cell_type": "code",
   "execution_count": 25,
   "metadata": {},
   "outputs": [
    {
     "data": {
      "text/plain": [
       "[('king', 0.9506246447563171)]"
      ]
     },
     "execution_count": 25,
     "metadata": {},
     "output_type": "execute_result"
    }
   ],
   "source": [
    "word2vec_model.most_similar(positive=['boy', 'queen'], negative=['girl'], topn=1)"
   ]
  },
  {
   "cell_type": "code",
   "execution_count": 26,
   "metadata": {},
   "outputs": [
    {
     "data": {
      "text/plain": [
       "array([ 0.26367188, -0.12597656,  0.15429688,  0.3203125 , -0.00376892,\n",
       "        0.25390625,  0.14453125, -0.30664062,  0.34960938, -0.22167969,\n",
       "       -0.00769043, -0.23046875, -0.06201172, -0.26367188, -0.05737305,\n",
       "        0.18945312,  0.08007812,  0.08740234,  0.11816406, -0.12304688,\n",
       "       -0.14550781,  0.04907227,  0.25390625, -0.00125122,  0.30664062,\n",
       "        0.03759766,  0.02160645, -0.03588867, -0.34765625,  0.02490234,\n",
       "       -0.22753906,  0.09912109, -0.03955078,  0.3046875 ,  0.31054688,\n",
       "        0.15625   ,  0.09277344, -0.00176239,  0.19042969,  0.203125  ,\n",
       "        0.30664062, -0.11523438,  0.10253906,  0.14355469,  0.21777344,\n",
       "       -0.07519531, -0.17089844,  0.06689453,  0.03759766,  0.0234375 ,\n",
       "       -0.68359375,  0.38867188, -0.12207031, -0.0625    ,  0.07861328,\n",
       "        0.07861328,  0.1484375 , -0.42578125, -0.06787109,  0.11132812,\n",
       "        0.18066406,  0.23632812,  0.03540039, -0.47851562,  0.11962891,\n",
       "       -0.26171875, -0.14746094,  0.05078125, -0.13476562,  0.07177734,\n",
       "        0.16699219, -0.20898438,  0.04052734,  0.04248047, -0.17480469,\n",
       "        0.03417969,  0.02209473,  0.15136719, -0.13085938,  0.09082031,\n",
       "       -0.03393555,  0.24804688,  0.04345703,  0.02355957,  0.22167969,\n",
       "       -0.0213623 ,  0.14648438,  0.2578125 ,  0.04980469, -0.21679688,\n",
       "       -0.24121094,  0.17871094, -0.20703125, -0.06787109,  0.06152344,\n",
       "        0.03149414, -0.11962891,  0.12890625, -0.01000977, -0.1953125 ,\n",
       "        0.04077148,  0.16699219, -0.0255127 , -0.11132812, -0.03857422,\n",
       "       -0.16601562,  0.03051758,  0.06689453,  0.04248047, -0.15332031,\n",
       "        0.03393555,  0.35742188, -0.10546875, -0.00390625,  0.41796875,\n",
       "       -0.1640625 , -0.34375   , -0.40820312,  0.18457031, -0.12695312,\n",
       "       -0.08203125,  0.13769531,  0.04150391, -0.09130859, -0.13378906,\n",
       "       -0.05493164, -0.1171875 ,  0.2265625 , -0.05664062,  0.12109375,\n",
       "       -0.09667969, -0.03112793, -0.09033203, -0.08691406,  0.265625  ,\n",
       "       -0.01300049, -0.03393555,  0.33398438,  0.0546875 ,  0.14453125,\n",
       "        0.13867188, -0.24414062,  0.05126953,  0.24023438,  0.06835938,\n",
       "        0.09667969, -0.09326172, -0.06835938, -0.17871094,  0.09667969,\n",
       "        0.09570312,  0.24804688,  0.01708984,  0.51953125, -0.23632812,\n",
       "       -0.21386719, -0.08642578,  0.05810547,  0.04858398, -0.27734375,\n",
       "        0.14257812,  0.11279297,  0.03491211, -0.04516602, -0.06884766,\n",
       "       -0.36132812,  0.44335938, -0.21191406, -0.06835938,  0.34570312,\n",
       "        0.26171875,  0.17871094, -0.08544922,  0.04394531,  0.02307129,\n",
       "        0.06445312,  0.22851562, -0.1875    ,  0.01660156, -0.08398438,\n",
       "       -0.01660156, -0.22753906, -0.03955078, -0.11914062,  0.03125   ,\n",
       "        0.28515625, -0.07128906, -0.03491211,  0.19824219,  0.11962891,\n",
       "        0.15332031,  0.30664062,  0.23046875, -0.04760742, -0.16503906,\n",
       "        0.04956055, -0.29492188, -0.24316406, -0.09375   , -0.05712891,\n",
       "       -0.14160156,  0.18164062,  0.01928711, -0.01165771,  0.26367188,\n",
       "       -0.22167969, -0.04345703,  0.02258301, -0.19628906, -0.01708984,\n",
       "       -0.03759766, -0.05004883,  0.00576782,  0.0255127 , -0.16796875,\n",
       "       -0.15039062,  0.08544922,  0.16894531, -0.2734375 ,  0.2578125 ,\n",
       "       -0.22851562,  0.10009766,  0.19921875, -0.01623535, -0.08251953,\n",
       "        0.34570312,  0.21972656, -0.00970459, -0.21972656,  0.08691406,\n",
       "       -0.12304688,  0.05957031, -0.27148438, -0.00830078,  0.09326172,\n",
       "       -0.09960938,  0.09228516,  0.13378906,  0.18945312, -0.30859375,\n",
       "        0.08154297, -0.09228516, -0.15722656,  0.140625  ,  0.17871094,\n",
       "        0.17578125,  0.03833008, -0.14257812,  0.20898438, -0.18554688,\n",
       "       -0.04174805,  0.06030273, -0.09228516,  0.36132812,  0.1953125 ,\n",
       "       -0.02441406, -0.09472656,  0.08251953, -0.14355469, -0.08496094,\n",
       "        0.08154297, -0.04980469, -0.22363281,  0.03564453, -0.05810547,\n",
       "        0.10644531,  0.04541016, -0.08056641, -0.08056641, -0.17382812,\n",
       "       -0.03833008, -0.203125  ,  0.06030273, -0.07617188, -0.03515625,\n",
       "        0.24316406, -0.09472656,  0.19433594, -0.14257812,  0.29492188,\n",
       "        0.05957031,  0.1328125 ,  0.22363281,  0.07373047,  0.02404785,\n",
       "       -0.05419922, -0.09570312,  0.06982422,  0.14355469, -0.04077148,\n",
       "        0.04858398,  0.05322266, -0.15332031, -0.38476562, -0.15722656,\n",
       "       -0.29492188,  0.14355469, -0.01300049, -0.10449219,  0.0703125 ],\n",
       "      dtype=float32)"
      ]
     },
     "execution_count": 26,
     "metadata": {},
     "output_type": "execute_result"
    }
   ],
   "source": [
    "word2vec_model2 = api.load('word2vec-google-news-300') # larger dimensions\n",
    "word2vec_model2[\"genius\"]"
   ]
  },
  {
   "cell_type": "code",
   "execution_count": 11,
   "metadata": {},
   "outputs": [
    {
     "data": {
      "text/plain": [
       "array([ 0.26367188, -0.12597656,  0.15429688,  0.3203125 , -0.00376892,\n",
       "        0.25390625,  0.14453125, -0.30664062,  0.34960938, -0.22167969,\n",
       "       -0.00769043, -0.23046875, -0.06201172, -0.26367188, -0.05737305,\n",
       "        0.18945312,  0.08007812,  0.08740234,  0.11816406, -0.12304688,\n",
       "       -0.14550781,  0.04907227,  0.25390625, -0.00125122,  0.30664062,\n",
       "        0.03759766,  0.02160645, -0.03588867, -0.34765625,  0.02490234,\n",
       "       -0.22753906,  0.09912109, -0.03955078,  0.3046875 ,  0.31054688,\n",
       "        0.15625   ,  0.09277344, -0.00176239,  0.19042969,  0.203125  ,\n",
       "        0.30664062, -0.11523438,  0.10253906,  0.14355469,  0.21777344,\n",
       "       -0.07519531, -0.17089844,  0.06689453,  0.03759766,  0.0234375 ,\n",
       "       -0.68359375,  0.38867188, -0.12207031, -0.0625    ,  0.07861328,\n",
       "        0.07861328,  0.1484375 , -0.42578125, -0.06787109,  0.11132812,\n",
       "        0.18066406,  0.23632812,  0.03540039, -0.47851562,  0.11962891,\n",
       "       -0.26171875, -0.14746094,  0.05078125, -0.13476562,  0.07177734,\n",
       "        0.16699219, -0.20898438,  0.04052734,  0.04248047, -0.17480469,\n",
       "        0.03417969,  0.02209473,  0.15136719, -0.13085938,  0.09082031,\n",
       "       -0.03393555,  0.24804688,  0.04345703,  0.02355957,  0.22167969,\n",
       "       -0.0213623 ,  0.14648438,  0.2578125 ,  0.04980469, -0.21679688,\n",
       "       -0.24121094,  0.17871094, -0.20703125, -0.06787109,  0.06152344,\n",
       "        0.03149414, -0.11962891,  0.12890625, -0.01000977, -0.1953125 ,\n",
       "        0.04077148,  0.16699219, -0.0255127 , -0.11132812, -0.03857422,\n",
       "       -0.16601562,  0.03051758,  0.06689453,  0.04248047, -0.15332031,\n",
       "        0.03393555,  0.35742188, -0.10546875, -0.00390625,  0.41796875,\n",
       "       -0.1640625 , -0.34375   , -0.40820312,  0.18457031, -0.12695312,\n",
       "       -0.08203125,  0.13769531,  0.04150391, -0.09130859, -0.13378906,\n",
       "       -0.05493164, -0.1171875 ,  0.2265625 , -0.05664062,  0.12109375,\n",
       "       -0.09667969, -0.03112793, -0.09033203, -0.08691406,  0.265625  ,\n",
       "       -0.01300049, -0.03393555,  0.33398438,  0.0546875 ,  0.14453125,\n",
       "        0.13867188, -0.24414062,  0.05126953,  0.24023438,  0.06835938,\n",
       "        0.09667969, -0.09326172, -0.06835938, -0.17871094,  0.09667969,\n",
       "        0.09570312,  0.24804688,  0.01708984,  0.51953125, -0.23632812,\n",
       "       -0.21386719, -0.08642578,  0.05810547,  0.04858398, -0.27734375,\n",
       "        0.14257812,  0.11279297,  0.03491211, -0.04516602, -0.06884766,\n",
       "       -0.36132812,  0.44335938, -0.21191406, -0.06835938,  0.34570312,\n",
       "        0.26171875,  0.17871094, -0.08544922,  0.04394531,  0.02307129,\n",
       "        0.06445312,  0.22851562, -0.1875    ,  0.01660156, -0.08398438,\n",
       "       -0.01660156, -0.22753906, -0.03955078, -0.11914062,  0.03125   ,\n",
       "        0.28515625, -0.07128906, -0.03491211,  0.19824219,  0.11962891,\n",
       "        0.15332031,  0.30664062,  0.23046875, -0.04760742, -0.16503906,\n",
       "        0.04956055, -0.29492188, -0.24316406, -0.09375   , -0.05712891,\n",
       "       -0.14160156,  0.18164062,  0.01928711, -0.01165771,  0.26367188,\n",
       "       -0.22167969, -0.04345703,  0.02258301, -0.19628906, -0.01708984,\n",
       "       -0.03759766, -0.05004883,  0.00576782,  0.0255127 , -0.16796875,\n",
       "       -0.15039062,  0.08544922,  0.16894531, -0.2734375 ,  0.2578125 ,\n",
       "       -0.22851562,  0.10009766,  0.19921875, -0.01623535, -0.08251953,\n",
       "        0.34570312,  0.21972656, -0.00970459, -0.21972656,  0.08691406,\n",
       "       -0.12304688,  0.05957031, -0.27148438, -0.00830078,  0.09326172,\n",
       "       -0.09960938,  0.09228516,  0.13378906,  0.18945312, -0.30859375,\n",
       "        0.08154297, -0.09228516, -0.15722656,  0.140625  ,  0.17871094,\n",
       "        0.17578125,  0.03833008, -0.14257812,  0.20898438, -0.18554688,\n",
       "       -0.04174805,  0.06030273, -0.09228516,  0.36132812,  0.1953125 ,\n",
       "       -0.02441406, -0.09472656,  0.08251953, -0.14355469, -0.08496094,\n",
       "        0.08154297, -0.04980469, -0.22363281,  0.03564453, -0.05810547,\n",
       "        0.10644531,  0.04541016, -0.08056641, -0.08056641, -0.17382812,\n",
       "       -0.03833008, -0.203125  ,  0.06030273, -0.07617188, -0.03515625,\n",
       "        0.24316406, -0.09472656,  0.19433594, -0.14257812,  0.29492188,\n",
       "        0.05957031,  0.1328125 ,  0.22363281,  0.07373047,  0.02404785,\n",
       "       -0.05419922, -0.09570312,  0.06982422,  0.14355469, -0.04077148,\n",
       "        0.04858398,  0.05322266, -0.15332031, -0.38476562, -0.15722656,\n",
       "       -0.29492188,  0.14355469, -0.01300049, -0.10449219,  0.0703125 ],\n",
       "      dtype=float32)"
      ]
     },
     "execution_count": 11,
     "metadata": {},
     "output_type": "execute_result"
    }
   ],
   "source": [
    "word2vec_model2[\"genius\"]"
   ]
  },
  {
   "cell_type": "code",
   "execution_count": 31,
   "metadata": {},
   "outputs": [],
   "source": [
    "vocab = [\"strong\", \"handsome\", \"beautiful\", \"shy\", \"outgoing\", \"terrific\", \"boy\", \"girl\", \"man\", \"woman\", \"great\", \"sincere\", \"passion\", \"king\", \"queen\", \"banana\", \"apple\", \"mango\", \"fruit\", \"coconut\", \"orange\"]"
   ]
  },
  {
   "cell_type": "code",
   "execution_count": 32,
   "metadata": {},
   "outputs": [
    {
     "data": {
      "image/png": "[encoded data removed]",
      "text/plain": [
       "<Figure size 576x576 with 1 Axes>"
      ]
     },
     "metadata": {
      "needs_background": "light"
     },
     "output_type": "display_data"
    }
   ],
   "source": [
    "# code credit: https://www.kaggle.com/jeffd23/visualizing-word-vectors-with-t-sne\n",
    "def tsne_plot(model):\n",
    "    labels = []\n",
    "    wordvecs = []\n",
    "\n",
    "    for word in vocab:\n",
    "        wordvecs.append(model[word])\n",
    "        labels.append(word)\n",
    "    \n",
    "    tsne_model = TSNE(perplexity=3, n_components=2, init='pca', random_state=42)\n",
    "    coordinates = tsne_model.fit_transform(wordvecs)\n",
    "\n",
    "    x = []\n",
    "    y = []\n",
    "    for value in coordinates:\n",
    "        x.append(value[0])\n",
    "        y.append(value[1])\n",
    "        \n",
    "    plt.figure(figsize=(8,8)) \n",
    "    for i in range(len(x)):\n",
    "        plt.scatter(x[i],y[i])\n",
    "        plt.annotate(labels[i],\n",
    "                     xy=(x[i], y[i]),\n",
    "                     xytext=(2, 2),\n",
    "                     textcoords='offset points',\n",
    "                     ha='right',\n",
    "                     va='bottom')\n",
    "    plt.show()\n",
    "\n",
    "tsne_plot(word2vec_model)\n"
   ]
  },
  {
   "cell_type": "code",
   "execution_count": null,
   "metadata": {},
   "outputs": [],
   "source": []
  }
 ],
 "metadata": {
  "kernelspec": {
   "display_name": "Python 3",
   "language": "python",
   "name": "python3"
  },
  "language_info": {
   "codemirror_mode": {
    "name": "ipython",
    "version": 3
   },
   "file_extension": ".py",
   "mimetype": "text/x-python",
   "name": "python",
   "nbconvert_exporter": "python",
   "pygments_lexer": "ipython3",
   "version": "3.8.2"
  }
 },
 "nbformat": 4,
 "nbformat_minor": 4
}
