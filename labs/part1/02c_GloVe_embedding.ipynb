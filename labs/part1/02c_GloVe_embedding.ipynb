{
 "cells": [
  {
   "cell_type": "markdown",
   "metadata": {
    "cell_id": "00000-20f2aba1-979b-482b-9214-c20a899bc662",
    "tags": []
   },
   "source": [
    "# GloVe Embeddings\n",
    "_Global Vectors for Word Representation_\n",
    "\n",
    "* Project URL: https://nlp.stanford.edu/projects/glove/ (Stanford)\n",
    "* Authors: Jeffrey Pennington,   Richard Socher,   Christopher D. Manning\n",
    "\n",
    "GloVe is already pre-trained with a number of different corpus datasets. We will use the 2014 Wikipedia corpus based embeddings. \n",
    "\n",
    "> Wikipedia 2014 + Gigaword 5 (6B tokens, 400K vocab, uncased, 50d, 100d, 200d, & 300d vectors, 822 MB download): glove.6B.zip\n",
    "\n",
    "\n",
    "\n"
   ]
  },
  {
   "cell_type": "code",
   "execution_count": 1,
   "metadata": {
    "cell_id": "00000-01eed7e7-d911-4903-bd63-b9b5adeac2d5",
    "execution_millis": 574,
    "execution_start": 1603560223678,
    "output_cleared": false,
    "source_hash": "6c6dab06",
    "tags": []
   },
   "outputs": [],
   "source": [
    "import torch\n",
    "import torchtext"
   ]
  },
  {
   "cell_type": "code",
   "execution_count": null,
   "metadata": {
    "cell_id": "00001-271c8f51-772a-4061-b7ed-a1dd902992d8",
    "execution_millis": 939,
    "execution_start": 1603565154649,
    "output_cleared": false,
    "source_hash": "fdb29684",
    "tags": []
   },
   "outputs": [
    {
     "name": "stderr",
     "output_type": "stream",
     "text": [
      ".vector_cache/glove.6B.zip:  66%|██████▌   | 571M/862M [01:48<00:38, 7.51MB/s]    "
     ]
    }
   ],
   "source": [
    "glove = torchtext.vocab.GloVe(name='6B', dim=100)\n",
    "print(f'There are {len(glove.itos)} words in the vocabulary')"
   ]
  },
  {
   "cell_type": "code",
   "execution_count": null,
   "metadata": {
    "cell_id": "00002-58c9036b-0156-4cb9-8086-21c6bc8eff50",
    "execution_millis": 10,
    "execution_start": 1603565156330,
    "output_cleared": false,
    "source_hash": "868b3a6d",
    "tags": []
   },
   "outputs": [],
   "source": [
    "glove.vectors.shape\n",
    "# Every word has a dimensionality of 100\n"
   ]
  },
  {
   "cell_type": "code",
   "execution_count": null,
   "metadata": {
    "cell_id": "00004-eb8897fd-19b9-46a7-ab34-bcf45c18fbcc",
    "execution_millis": 1,
    "execution_start": 1603565285397,
    "output_cleared": false,
    "source_hash": "ab107039",
    "tags": []
   },
   "outputs": [],
   "source": [
    "x = glove['king']\n",
    "y = glove['man']\n",
    "z = glove['woman']\n",
    "x2 = glove['queen']"
   ]
  },
  {
   "cell_type": "code",
   "execution_count": null,
   "metadata": {
    "cell_id": "00005-51d13a98-222e-4b75-ae53-3dc24c37c645",
    "execution_millis": 20,
    "execution_start": 1603565287874,
    "output_cleared": false,
    "source_hash": "dee92806",
    "tags": []
   },
   "outputs": [],
   "source": [
    "print(torch.norm(y - x))"
   ]
  },
  {
   "cell_type": "code",
   "execution_count": null,
   "metadata": {
    "cell_id": "00006-515bf7fb-23ce-4aca-b612-a16ebd790da7",
    "execution_millis": 19,
    "execution_start": 1603565323051,
    "output_cleared": false,
    "source_hash": "ad1f6817",
    "tags": []
   },
   "outputs": [],
   "source": [
    "print(torch.norm(x - y + z))\n"
   ]
  },
  {
   "cell_type": "code",
   "execution_count": null,
   "metadata": {
    "cell_id": "00006-2ab05c2d-9768-4ac9-ae04-cf10444292ec",
    "execution_millis": 20,
    "execution_start": 1603565331187,
    "output_cleared": false,
    "source_hash": "7027d63d",
    "tags": []
   },
   "outputs": [
    {
     "name": "stdout",
     "output_type": "stream",
     "text": [
      "tensor(6.0067)\n"
     ]
    }
   ],
   "source": [
    "print(torch.norm(x2))"
   ]
  },
  {
   "cell_type": "code",
   "execution_count": null,
   "metadata": {
    "cell_id": "00007-b617cec6-ba08-4ca5-ba84-b85d01a1693a",
    "execution_millis": 5,
    "execution_start": 1603565352387,
    "output_cleared": false,
    "source_hash": "4984f3a",
    "tags": []
   },
   "outputs": [
    {
     "name": "stdout",
     "output_type": "stream",
     "text": [
      "tensor(4.0811)\n"
     ]
    }
   ],
   "source": []
  },
  {
   "cell_type": "code",
   "execution_count": null,
   "metadata": {
    "cell_id": "00008-102fc6ea-d300-42d6-a99e-d39f73fe6a8a",
    "tags": []
   },
   "outputs": [],
   "source": []
  }
 ],
 "metadata": {
  "deepnote_execution_queue": [],
  "deepnote_notebook_id": "b332ea0c-79ad-424c-bd58-24b11a9f745a",
  "kernelspec": {
   "display_name": "Python 3",
   "language": "python",
   "name": "python3"
  },
  "language_info": {
   "codemirror_mode": {
    "name": "ipython",
    "version": 3
   },
   "file_extension": ".py",
   "mimetype": "text/x-python",
   "name": "python",
   "nbconvert_exporter": "python",
   "pygments_lexer": "ipython3",
   "version": "3.8.2"
  }
 },
 "nbformat": 4,
 "nbformat_minor": 4
}
