{
 "cells": [
  {
   "cell_type": "markdown",
   "id": "sensitive-bristol",
   "metadata": {},
   "source": [
    "# Exercise - 02\n",
    "\n",
    "Working with __SpaCy__ \n",
    "\n",
    "Credit: Adapted from SpaCy.io\n",
    "\n",
    "This work refers to v2.x with 3.0 release on the anvil, however, the key changes for 3.0 are not impacting the core API, rather, making Transformer pipelines feasible. \n",
    "\n",
    "We will cover Transformer as a separate module with Huggingface in a later session."
   ]
  },
  {
   "cell_type": "code",
   "execution_count": null,
   "id": "varied-instrumentation",
   "metadata": {
    "tags": []
   },
   "outputs": [],
   "source": [
    "!pip install spacy\n",
    "!python -m spacy download en_core_web_sm\n",
    "!python -m spacy download en_core_web_md"
   ]
  },
  {
   "cell_type": "markdown",
   "id": "macro-marathon",
   "metadata": {},
   "source": [
    "* Import the English language class\n",
    "* Create the `nlp` object that contains:\n",
    "    * the processing pipeline and\n",
    "    * includes language-specific rules for tokenization"
   ]
  },
  {
   "cell_type": "code",
   "execution_count": null,
   "id": "simple-score",
   "metadata": {},
   "outputs": [],
   "source": [
    "import spacy"
   ]
  },
  {
   "cell_type": "code",
   "execution_count": null,
   "id": "periodic-contrary",
   "metadata": {},
   "outputs": [],
   "source": [
    "# Import the English language class\n",
    "from spacy.lang.en import English\n",
    "\n",
    "# Create the nlp object that will contain the processing pipeline and includes the language specific rules for tokenization, etc.\n",
    "nlp = English()"
   ]
  },
  {
   "cell_type": "markdown",
   "id": "confirmed-grocery",
   "metadata": {},
   "source": [
    "When you process a text with the nlp object, spaCy creates a Doc object – short for \"document\". The Doc lets you access information about the text in a structured way, and no information is lost.\n",
    "\n",
    "The Doc behaves like a normal Python sequence by the way and lets you iterate over its tokens, or get a token by its index. But more on that later!"
   ]
  },
  {
   "cell_type": "code",
   "execution_count": null,
   "id": "strange-medicine",
   "metadata": {},
   "outputs": [],
   "source": [
    "# Created by processing a string of text with the nlp object\n",
    "doc = nlp(\"Hello world!\")\n",
    "\n",
    "# Iterate over tokens in a Doc\n",
    "for token in doc:\n",
    "    print(token.text)"
   ]
  },
  {
   "cell_type": "markdown",
   "id": "offshore-teens",
   "metadata": {},
   "source": [
    "## Token objects, Lexemes, & Hashes\n",
    "\n",
    "![SpaCy Arch](images/vocab_stringstore.png)\n",
    "\n",
    "* Represent the tokens in a document – for example, a word or a punctuation character.\n",
    "* To get a token at a specific position, you can index into the doc.\n",
    "* also provide various attributes that let you access more information about the tokens. For example, the .text attribute returns the verbatim token text."
   ]
  },
  {
   "cell_type": "code",
   "execution_count": null,
   "id": "balanced-tiffany",
   "metadata": {},
   "outputs": [],
   "source": [
    "doc = nlp(\"Hello world!\")\n",
    "\n",
    "# print the text\n",
    "print(doc.text)\n",
    "\n",
    "# Index into the Doc to get a single Token\n",
    "token = doc[1]\n",
    "\n",
    "# Get the token text via the .text attribute\n",
    "print(token.text)\n"
   ]
  },
  {
   "cell_type": "code",
   "execution_count": null,
   "id": "suitable-transmission",
   "metadata": {},
   "outputs": [],
   "source": [
    "# SpaCy shares words as hash objects\n",
    "print(nlp.vocab.strings[\"world\"])\n",
    "print(nlp.vocab.strings[1703489418272052182])\n",
    "\n",
    "# A Lexeme object is an entry in the vocabulary\n",
    "lexeme = nlp.vocab[\"world\"]\n",
    "print(lexeme.text, lexeme.orth, lexeme.is_alpha)\n"
   ]
  },
  {
   "cell_type": "markdown",
   "id": "presidential-corps",
   "metadata": {},
   "source": [
    "## Exercise 1"
   ]
  },
  {
   "cell_type": "code",
   "execution_count": null,
   "id": "trained-creativity",
   "metadata": {},
   "outputs": [],
   "source": [
    "from spacy.lang.__ import _____\n",
    "nlp_de = ____\n",
    "doc = nlp_de(\"Viel Spaß beim Codieren\")\n",
    "print(___)\n",
    "\n",
    "# print the second token\n",
    "token2 = ___\n",
    "print(___)"
   ]
  },
  {
   "cell_type": "markdown",
   "id": "charitable-adventure",
   "metadata": {},
   "source": [
    "## Exercise 2\n",
    "\n",
    "You can use `token.like_num` to find numbers in the text. Find $ values in this exercise"
   ]
  },
  {
   "cell_type": "code",
   "execution_count": null,
   "id": "coordinate-policy",
   "metadata": {},
   "outputs": [],
   "source": [
    "# Process the text\n",
    "doc = nlp(\n",
    "    \"According to the BigMac price index, the cost of a Big Mac is cheapest in Turkey at $1.74, while the cost in Switzerland is highest at $7.01. In the US, it is about $5.75\"\n",
    ")\n",
    "\n",
    "# Iterate over the tokens in the doc\n",
    "for ___ in doc:\n",
    "    # Check if the token resembles a number\n",
    "    if token.___:\n",
    "        # is it a USD currency\n",
    "        prev_token = doc[token.i - 1]\n",
    "        if ____.___ == \"$\":\n",
    "            print(\"Price found: $\", _____, sep=\"\")"
   ]
  },
  {
   "cell_type": "markdown",
   "id": "empty-conversion",
   "metadata": {},
   "source": [
    "## Exercise 3\n",
    "\n",
    "Let's move into using pre-trained model packages\n",
    "\n",
    "\n",
    "**POS** and **NER** tagging \n",
    "Models, though trained on large corpus of labeled texts, can be updated with specific examples to fine-tune their predictions. \n",
    "\n",
    "1. Download the pre-trained model package, `en_core_web_sm` (trained on web corpus)\n",
    "2. Load using `spacy.load`"
   ]
  },
  {
   "cell_type": "code",
   "execution_count": null,
   "id": "spread-welcome",
   "metadata": {},
   "outputs": [],
   "source": [
    "nlp = spacy.load(\"en_core_web_sm\") # contains pipeline, vocabulary, and weights"
   ]
  },
  {
   "cell_type": "code",
   "execution_count": null,
   "id": "auburn-saturn",
   "metadata": {},
   "outputs": [],
   "source": [
    "# POS using the pre-trained model\n",
    "\n",
    "# Process the text - create tokens\n",
    "doc = nlp(\"They went to the Eiffel Tower for sight-seeing and ate a pizza that cost $5.54 per slice.\")\n",
    "# Iterate over tokens\n",
    "for token in doc:\n",
    "    print(f\"{token.___:<12}{token.___:15}\")"
   ]
  },
  {
   "cell_type": "markdown",
   "id": "mysterious-fusion",
   "metadata": {},
   "source": [
    "## Pro-tip\n",
    "\n",
    "Get explanations of the most common tags & labels using `spacy.explain(tag)`"
   ]
  },
  {
   "cell_type": "code",
   "execution_count": null,
   "id": "critical-orlando",
   "metadata": {},
   "outputs": [],
   "source": [
    "print(\"POS:\", spacy.explain('POS'))\n",
    "print(\"GPE:\", spacy.explain('GPE')) # Geopolitical entity"
   ]
  },
  {
   "cell_type": "markdown",
   "id": "sacred-municipality",
   "metadata": {},
   "source": [
    "### Exercise 3: Syntactic Dependencies\n",
    "* The `dep` attribute returns the predicted dependency label. \n",
    "* the `head` attribute returns the parent token \n",
    "* Predict the entity and their labels\n",
    "NOTE: Any attribute that returns a text is followed by an underscore _, for instance, `ent.label_`"
   ]
  },
  {
   "cell_type": "code",
   "execution_count": null,
   "id": "quick-piece",
   "metadata": {},
   "outputs": [],
   "source": [
    "# print the token text, position, dependencies and parent (head)\n",
    "for token in doc[:5]:\n",
    "    print(token.text, token.___, token.___, token.___.text)"
   ]
  },
  {
   "cell_type": "code",
   "execution_count": null,
   "id": "threaded-september",
   "metadata": {},
   "outputs": [],
   "source": [
    "for ent in doc.ents:\n",
    "    print(ent.___, ent.___)"
   ]
  },
  {
   "cell_type": "markdown",
   "id": "starting-westminster",
   "metadata": {},
   "source": [
    "## Rule based matching\n",
    "\n",
    "### Using `Matcher`\n",
    "\n",
    "`Matcher` helps us find patterns in our text. \n",
    "* First initialize `Matcher` with the object's vocabulary, `vocab`\n",
    "* The `add` attribute lets you add a pattern and uses 3 inputs: a unique ID, a callback function - `None` in our case, and a pattern."
   ]
  },
  {
   "cell_type": "code",
   "execution_count": null,
   "id": "mature-joining",
   "metadata": {},
   "outputs": [],
   "source": [
    "from spacy.matcher import Matcher\n",
    "\n",
    "# initialize the matcher with the shared vocabulary\n",
    "matcher = Matcher(nlp.vocab)\n",
    "\n",
    "# add the pattern to the matcher\n",
    "pattern = [{\"TEXT\": \"12\"}, {\"TEXT\": \"Angry\"},{\"TEXT\":\"Men\"}]\n",
    "matcher.add(\"MOVIE_PATTERN\", [pattern])\n",
    "\n",
    "doc = nlp(\"We watched 12 Angry Men together\")\n",
    "matches = matcher(doc)"
   ]
  },
  {
   "cell_type": "code",
   "execution_count": null,
   "id": "beginning-retention",
   "metadata": {},
   "outputs": [],
   "source": [
    "for match_id, start, end in matches:\n",
    "    matched_span = doc[start:end]\n",
    "    print(matched_span.text)"
   ]
  },
  {
   "cell_type": "markdown",
   "id": "balanced-convergence",
   "metadata": {},
   "source": [
    "## Exercise 4: Complex Pattern Matching"
   ]
  },
  {
   "cell_type": "code",
   "execution_count": null,
   "id": "expanded-elevation",
   "metadata": {},
   "outputs": [],
   "source": [
    "import spacy\n",
    "from spacy.matcher import Matcher\n",
    "\n",
    "nlp = spacy.load(\"en_core_web_sm\")\n",
    "matcher = Matcher(nlp.vocab)\n",
    "\n",
    "doc = nlp(\n",
    "    \"After making the iOS update you won't notice a radical system-wide \"\n",
    "    \"redesign: nothing like the aesthetic upheaval we got with iOS 7. Most of \"\n",
    "    \"iOS 11's furniture remains the same as in iOS 10. But you will discover \"\n",
    "    \"some tweaks once you delve a little deeper.\"\n",
    ")\n",
    "\n",
    "# Write a pattern for full iOS versions (\"iOS 7\", \"iOS 11\", \"iOS 10\")\n",
    "pattern = [[{\"TEXT\": \"iOS\"}, {\"IS_DIGIT\": True}]]\n",
    "\n",
    "# Add the pattern to the matcher and apply the matcher to the doc\n",
    "matcher.add(\"IOS_VERSION_PATTERN\", pattern)\n",
    "matches = matcher(doc)\n",
    "print(\"Total matches found:\", len(matches))\n",
    "\n",
    "# Iterate over the matches and print the span text\n",
    "for match_id, start, end in matches:\n",
    "    print(\"Match found:\", doc[start:end].text)"
   ]
  },
  {
   "cell_type": "code",
   "execution_count": null,
   "id": "ecological-column",
   "metadata": {},
   "outputs": [],
   "source": [
    "import spacy\n",
    "from spacy.matcher import Matcher\n",
    "\n",
    "nlp = spacy.load(\"en_core_web_sm\")\n",
    "matcher = Matcher(nlp.vocab)\n",
    "\n",
    "doc = nlp(\n",
    "    \"A new study on the aerosol and surface stability of SARS-CoV 2 compared to SARS-CoV 1 that was published\"\n",
    "    \"by the New England Journal of Medicine reveals that SARS-CoV 2 can stay suspended in the air for three hours, \"\n",
    "    \"with a similar reduction in its infectious rate as that of SARS-CoV 1\"\n",
    ")\n",
    "\n",
    "# Write a pattern to match all instances of SARS-CoV 1 and SARS-CoV 2\n",
    "pattern = [[{\"TEXT\": \"CoV\"}, {\"IS_DIGIT\": True}]]\n",
    "pattern2 = [{\"LOWER\": \"sars\"}, {\"TEXT\": \"-\"}, {\"LOWER\": \"cov\"}, {\"TEXT\": \"-\"}, {\"IS_DIGIT\": True}]\n",
    "\n",
    "# Add the pattern to the matcher and apply the matcher to the doc\n",
    "matcher.add(\"VIRUS_TYPE_PATTERN\", pattern)\n",
    "matches = matcher(doc)\n",
    "print(\"Total matches found:\", len(matches))\n",
    "\n",
    "# Iterate over the matches and print the span text\n",
    "for match_id, start, end in matches:\n",
    "    print(\"Match found:\", doc[start:end].text)"
   ]
  },
  {
   "cell_type": "code",
   "execution_count": null,
   "id": "enormous-exploration",
   "metadata": {},
   "outputs": [],
   "source": [
    "for token in doc:\n",
    "    print(f\"{token.text:<10}{token.pos_:<10}\")"
   ]
  },
  {
   "cell_type": "code",
   "execution_count": null,
   "id": "joined-observer",
   "metadata": {},
   "outputs": [],
   "source": [
    "# Initialize with the shared vocab\n",
    "from spacy.matcher import Matcher\n",
    "matcher = Matcher(nlp.vocab)\n",
    "\n",
    "# Patterns are lists of dictionaries describing the tokens\n",
    "pattern = [{\"LEMMA\": \"love\", \"POS\": \"VERB\", \"LOWER\": \"cats\"}]\n",
    "matcher.add(\"LOVE_CATS\", [pattern])\n",
    "\n",
    "# Operators can specify how often a token should be matched\n",
    "pattern = [{\"TEXT\": \"very\", \"OP\": \"+\"}, {\"TEXT\": \"happy\"}]\n",
    "matcher.add(\"VERY_HAPPY\", [pattern])\n",
    "\n",
    "# Calling matcher on doc returns list of (match_id, start, end) tuples\n",
    "doc = nlp(\"I love cats and I'm very very happy\")\n",
    "matches = matcher(doc)\n",
    "print(len(matches))\n",
    "\n",
    "for match_id, start, end in matches:\n",
    "    print(doc[start:end])"
   ]
  },
  {
   "cell_type": "markdown",
   "id": "continental-spring",
   "metadata": {},
   "source": [
    "## Phrase Matching"
   ]
  },
  {
   "cell_type": "code",
   "execution_count": null,
   "id": "juvenile-investigation",
   "metadata": {},
   "outputs": [],
   "source": [
    "import spacy\n",
    "from spacy.matcher import PhraseMatcher\n",
    "\n",
    "nlp = spacy.load(\"en_core_web_sm\")\n",
    "matcher = PhraseMatcher(nlp.vocab)\n",
    "terms = [\"Barack Obama\", \"Angela Merkel\", \"Washington, D.C.\"]\n",
    "# Only run nlp.make_doc to speed things up\n",
    "patterns = [nlp.make_doc(text) for text in terms]\n",
    "matcher.add(\"TerminologyList\", patterns)\n",
    "\n",
    "doc = nlp(\"German Chancellor Angela Merkel and US President Barack Obama \"\n",
    "          \"converse in the Oval Office inside the White House in Washington, D.C.\")\n",
    "matches = matcher(doc)\n",
    "for match_id, start, end in matches:\n",
    "    span = doc[start:end]\n",
    "    print(span.text)"
   ]
  },
  {
   "cell_type": "code",
   "execution_count": null,
   "id": "stopped-science",
   "metadata": {},
   "outputs": [],
   "source": [
    "for match_id, start, end in matches:\n",
    "    matched_span = doc[start:end]\n",
    "    print(matched_span.text)"
   ]
  },
  {
   "cell_type": "markdown",
   "id": "plain-layer",
   "metadata": {},
   "source": [
    "## Lemma + Proper Noun"
   ]
  },
  {
   "cell_type": "code",
   "execution_count": null,
   "id": "clinical-buying",
   "metadata": {},
   "outputs": [],
   "source": [
    "matcher = Matcher(nlp.vocab)\n",
    "doc = nlp(\n",
    "    \"i downloaded Fortnite on my laptop and can't open the game at all. Help? \"\n",
    "    \"so when I was downloading Minecraft, I got the Windows version where it \"\n",
    "    \"is the '.zip' folder and I used the default program to unpack it... do \"\n",
    "    \"I also need to download Winzip?\"\n",
    ")\n",
    "patterns = [{\"LEMMA\": \"download\"}, {\"POS\": \"PROPN\"}]\n",
    "matcher.add(\"DrivePattern\",[pattern])\n",
    "matches = matcher(doc)\n",
    "\n",
    "print(\"Total matches found:\", len(matches))\n",
    "\n",
    "for match_id, start, end in matches:\n",
    "    span = doc[start:end]\n",
    "    print(span.text)"
   ]
  },
  {
   "cell_type": "code",
   "execution_count": null,
   "id": "traditional-habitat",
   "metadata": {},
   "outputs": [],
   "source": [
    "# Let's validate if this makes sense:\n",
    "# Remember, you can use spacy.explain(\"TAG\")\n",
    "\n",
    "for token in doc:\n",
    "    if token.lemma_ == \"download\":\n",
    "        next_token = doc[token.i + 1]\n",
    "        print(token.lemma_, \"POS:\", next_token.pos_) "
   ]
  },
  {
   "cell_type": "markdown",
   "id": "recovered-merchant",
   "metadata": {},
   "source": [
    "# Document Similarity\n",
    "\n",
    "* spaCy can compare two documents, spans, or tokens\n",
    "* each have a `.similarity` method that takes another object as input\n",
    "* retuns similarity score between 0 & 1\n",
    "\n",
    "NOTE: Cannot use with `en_core_web_sm` -- you need a model with word vectors included\n"
   ]
  },
  {
   "cell_type": "code",
   "execution_count": null,
   "id": "prostate-trade",
   "metadata": {},
   "outputs": [],
   "source": [
    "# Load a larger model with vectors\n",
    "nlp = spacy.load(\"en_core_web_md\")\n",
    "\n",
    "# Compare two documents\n",
    "doc1 = nlp(\"I like fast food\")\n",
    "doc2 = nlp(\"I like pizza\")\n",
    "doc3 = nlp(\"The car was old\")\n",
    "span = nlp(\"They baked cookies and muffins\")[2:5]\n",
    "print(doc1.similarity(doc2))\n",
    "print(doc2.similarity(doc3))\n",
    "print(doc2.similarity(span))"
   ]
  },
  {
   "cell_type": "code",
   "execution_count": null,
   "id": "demonstrated-starter",
   "metadata": {
    "tags": []
   },
   "outputs": [],
   "source": [
    "# Print the word vector of a document\n",
    "doc = nlp(\"The king was furious\") # would this change if you modified the sentence?\n",
    "print(doc[1].vector)"
   ]
  },
  {
   "cell_type": "markdown",
   "id": "advance-horizon",
   "metadata": {},
   "source": [
    "# Bigrams with SpaCy"
   ]
  },
  {
   "cell_type": "markdown",
   "id": "canadian-today",
   "metadata": {},
   "source": [
    "Unigrams, Bi-Grams, Tri-grams, and N-Grams"
   ]
  },
  {
   "cell_type": "code",
   "execution_count": null,
   "id": "french-advantage",
   "metadata": {},
   "outputs": [],
   "source": [
    "def get_alpha_tokens(doc):\n",
    "    sentence = list()\n",
    "    for token in doc:\n",
    "        if token.is_alpha:\n",
    "            sentence.append(token)            \n",
    "    return sentence\n",
    "\n",
    "def get_bigram(doc):\n",
    "    bigrams = list()\n",
    "    sentence = get_alpha_tokens(doc)\n",
    "    \n",
    "    for index in range(len(sentence)-1):\n",
    "        word1 = sentence[index]\n",
    "        word2 = sentence[index+1]\n",
    "        bigram = (word1, word2)\n",
    "        bigrams.append(bigram)\n",
    "    \n",
    "    return bigrams"
   ]
  },
  {
   "cell_type": "code",
   "execution_count": null,
   "id": "exotic-colony",
   "metadata": {},
   "outputs": [],
   "source": [
    "nlp = spacy.load('en_core_web_sm')\n",
    "doc = nlp(\"It was a dark and cloudy day yesterday\")\n",
    "\n",
    "bigrams = get_bigram(doc)\n",
    "for token1, token2 in bigrams:\n",
    "    print(token1.text, token2.text)"
   ]
  },
  {
   "cell_type": "markdown",
   "id": "honey-quarter",
   "metadata": {},
   "source": [
    "## Exercise 5\n",
    "\n",
    "Using `SpaCy` write a function that returns n-grams of a document. You may use the bigram as reference. Helper functions are also available."
   ]
  },
  {
   "cell_type": "code",
   "execution_count": null,
   "id": "compact-vanilla",
   "metadata": {},
   "outputs": [],
   "source": [
    "def get_ngram(doc, n=2):\n",
    "\n",
    "    <<YOUR CODE HERE>> # Fill this\n",
    "    \n",
    "    return ngrams\n",
    "\n",
    "def print_ngrams(ngrams):\n",
    "    n = len(ngrams[0])\n",
    "    for ngram in ngrams:\n",
    "        print(ngram)"
   ]
  },
  {
   "cell_type": "code",
   "execution_count": null,
   "id": "signal-category",
   "metadata": {},
   "outputs": [],
   "source": [
    "nlp = spacy.load('en_core_web_sm')\n",
    "doc = nlp(\"It was a dark and cloudy day yesterday\")\n",
    "\n",
    "ngrams = get_ngram(doc, n=2)\n",
    "if len(ngrams) > 0:\n",
    "    print_ngrams(ngrams)"
   ]
  },
  {
   "cell_type": "markdown",
   "id": "former-garage",
   "metadata": {},
   "source": [
    "## Exercise 6\n",
    "\n",
    "Process the text to only print verbs"
   ]
  },
  {
   "cell_type": "code",
   "execution_count": null,
   "id": "adjustable-testament",
   "metadata": {},
   "outputs": [],
   "source": [
    "import spacy\n",
    "nlp = spacy.load('en_core_web_sm')"
   ]
  },
  {
   "cell_type": "code",
   "execution_count": null,
   "id": "incorporate-skating",
   "metadata": {},
   "outputs": [],
   "source": [
    "# Process the texts and print the adjectives\n",
    "\n",
    "TEXTS = ['We went kayaking last week', 'It was hard to drive on the road due to rain', 'Can you come here please?', \"What's taking you so long?\"]\n",
    "for text in TEXTS:\n",
    "    doc = nlp(text)\n",
    "    print([token.text for token in doc if <<YOUR CODE HERE>>]) # Fill this"
   ]
  },
  {
   "cell_type": "markdown",
   "id": "indonesian-estimate",
   "metadata": {},
   "source": [
    "## Exercise 7\n",
    "\n",
    "Print the entities"
   ]
  },
  {
   "cell_type": "code",
   "execution_count": null,
   "id": "tired-enhancement",
   "metadata": {},
   "outputs": [],
   "source": [
    "import json\n",
    "import spacy\n",
    "\n",
    "json_text = '''\n",
    "[\n",
    "    \"McDonalds is my favorite restaurant.\",\n",
    "    \"Here I thought @McDonalds only had precooked burgers but it seems they only have not cooked ones?? I have no time to get sick..\",\n",
    "    \"People really still eat McDonalds :(\",\n",
    "    \"The McDonalds in Spain has chicken wings. My heart is so happy \",\n",
    "    \"@McDonalds Please bring back the most delicious fast food sandwich of all times!!....The Arch Deluxe :P\",\n",
    "    \"please hurry and open. I WANT A #McRib SANDWICH SO BAD! :D\",\n",
    "    \"This morning i made a terrible decision by gettin mcdonalds and now my stomach is payin for it\"\n",
    "]'''\n",
    "TEXTS = json.loads(json_text)\n",
    "\n",
    "# Process the texts and print the entities\n",
    "docs = [nlp(text) for text in TEXTS]\n",
    "entities = [<<YOUR CODE HERE>>] # Fill this\n",
    "print(*entities)"
   ]
  },
  {
   "cell_type": "markdown",
   "id": "ongoing-fitting",
   "metadata": {},
   "source": [
    "## Solution 1"
   ]
  },
  {
   "cell_type": "code",
   "execution_count": null,
   "id": "oriented-motor",
   "metadata": {},
   "outputs": [],
   "source": [
    "from spacy.lang.de import German\n",
    "nlp_de = German()\n",
    "doc = nlp_de(\"Viel Spaß beim Codieren\")\n",
    "print(doc.text)\n",
    "\n",
    "# print the second token\n",
    "token2 = doc[1]\n",
    "print(token2.text)"
   ]
  },
  {
   "cell_type": "markdown",
   "id": "immune-attack",
   "metadata": {},
   "source": [
    "## Solution 2"
   ]
  },
  {
   "cell_type": "code",
   "execution_count": null,
   "id": "composite-cooperation",
   "metadata": {},
   "outputs": [],
   "source": [
    "# Process the text\n",
    "doc = nlp(\n",
    "    \"According to the BigMac price index, the cost of a Big Mac is cheapest in Turkey at $1.74, while the cost in Switzerland is highest at $7.01. In the US, it is about $5.75\"\n",
    ")\n",
    "\n",
    "# Iterate over the tokens in the doc\n",
    "for token in doc:\n",
    "    # Check if the token resembles a number\n",
    "    if token.like_num:\n",
    "        # Get the next token in the document\n",
    "        prev_token = doc[token.i - 1]\n",
    "        # Check if the previous token's text equals \"$\"\n",
    "        if prev_token.text == \"$\":\n",
    "            print(\"Price found: $\", token.text, sep=\"\")"
   ]
  },
  {
   "cell_type": "markdown",
   "id": "sporting-crack",
   "metadata": {},
   "source": [
    "## Solution 3"
   ]
  },
  {
   "cell_type": "code",
   "execution_count": null,
   "id": "worthy-planning",
   "metadata": {},
   "outputs": [],
   "source": [
    "for token in doc[:5]:\n",
    "    print(token.text, token.pos_, token.dep_, token.head.text)"
   ]
  },
  {
   "cell_type": "code",
   "execution_count": null,
   "id": "technical-tobacco",
   "metadata": {},
   "outputs": [],
   "source": [
    "for ent in doc.ents:\n",
    "    print(f\"{ent.text:<35}{ent.label_:<10}\")"
   ]
  },
  {
   "cell_type": "markdown",
   "id": "fitted-dependence",
   "metadata": {},
   "source": [
    "## Solution 5"
   ]
  },
  {
   "cell_type": "code",
   "execution_count": null,
   "id": "still-location",
   "metadata": {},
   "outputs": [],
   "source": [
    "def get_ngram(doc, n=2):\n",
    "    ngrams = list()\n",
    "    sentence = get_alpha_tokens(doc)\n",
    "    \n",
    "    for index in range(len(sentence) - n):\n",
    "        ngram = tuple(sentence[index:index+n])\n",
    "        ngrams.append(ngram)\n",
    "    \n",
    "    return ngrams\n",
    "\n",
    "def print_ngrams(ngrams):\n",
    "    n = len(ngrams[0])\n",
    "    for ngram in ngrams:\n",
    "        print(ngram)"
   ]
  },
  {
   "cell_type": "code",
   "execution_count": null,
   "id": "flexible-kidney",
   "metadata": {},
   "outputs": [],
   "source": [
    "nlp = spacy.load('en_core_web_sm')\n",
    "doc = nlp(\"It was a dark and cloudy day yesterday\")\n",
    "\n",
    "ngrams = get_ngram(doc, n=7)\n",
    "if len(ngrams) > 0:\n",
    "    print_ngrams(ngrams)"
   ]
  },
  {
   "cell_type": "markdown",
   "id": "improved-klein",
   "metadata": {},
   "source": [
    "## Solution 6"
   ]
  },
  {
   "cell_type": "code",
   "execution_count": null,
   "id": "private-evaluation",
   "metadata": {},
   "outputs": [],
   "source": [
    "# Process the texts and print the adjectives\n",
    "\n",
    "nlp = spacy.load('en_core_web_sm')\n",
    "TEXTS = ['We went kayaking last week', 'It was hard to drive on the road due to rain', 'Can you come here please?', \"What's taking you so long?\"]\n",
    "for text in TEXTS:\n",
    "    doc = nlp(text)\n",
    "    print([token.text for token in doc if token.pos_ == \"VERB\"])"
   ]
  },
  {
   "cell_type": "markdown",
   "id": "proved-missile",
   "metadata": {},
   "source": [
    "## Solution 7"
   ]
  },
  {
   "cell_type": "code",
   "execution_count": null,
   "id": "comfortable-driver",
   "metadata": {},
   "outputs": [],
   "source": [
    "import json\n",
    "import spacy\n",
    "\n",
    "json_text = '''\n",
    "[\n",
    "    \"McDonalds is my favorite restaurant.\",\n",
    "    \"Here I thought @McDonalds only had precooked burgers but it seems they only have not cooked ones?? I have no time to get sick..\",\n",
    "    \"People really still eat McDonalds :(\",\n",
    "    \"The McDonalds in Spain has chicken wings. My heart is so happy \",\n",
    "    \"@McDonalds Please bring back the most delicious fast food sandwich of all times!!....The Arch Deluxe :P\",\n",
    "    \"please hurry and open. I WANT A #McRib SANDWICH SO BAD! :D\",\n",
    "    \"This morning i made a terrible decision by gettin mcdonalds and now my stomach is payin for it\"\n",
    "]'''\n",
    "TEXTS = json.loads(json_text)\n",
    "\n",
    "# Process the texts and print the entities\n",
    "docs = [nlp(text) for text in TEXTS]\n",
    "entities = [doc.ents for doc in docs]\n",
    "print(*entities)"
   ]
  }
 ],
 "metadata": {
  "kernelspec": {
   "display_name": "Python 3",
   "language": "python",
   "name": "python3"
  },
  "language_info": {
   "codemirror_mode": {
    "name": "ipython",
    "version": 3
   },
   "file_extension": ".py",
   "mimetype": "text/x-python",
   "name": "python",
   "nbconvert_exporter": "python",
   "pygments_lexer": "ipython3",
   "version": "3.8.2"
  }
 },
 "nbformat": 4,
 "nbformat_minor": 5
}
