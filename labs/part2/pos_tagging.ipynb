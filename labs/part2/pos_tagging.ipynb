{
 "cells": [
  {
   "cell_type": "markdown",
   "metadata": {
    "id": "diffkfce9gKy"
   },
   "source": [
    "#Train POS Tags\n",
    "\n",
    "### Dataset: \n",
    "https://code.google.com/archive/p/miralium/wikis/PosTaggerTutorial.wiki\n",
    "\n",
    "### POS Tags\n",
    "https://www.ling.upenn.edu/courses/Fall_2003/ling001/penn_treebank_pos.html"
   ]
  },
  {
   "cell_type": "markdown",
   "metadata": {
    "id": "0R8918_YuUQz"
   },
   "source": [
    "## Exercise\n",
    "\n",
    "### Develop a NLP pipeline to predict POS Tags\n",
    "\n",
    "#### Test the following sentences\n",
    "\n",
    "1.   I access the storage\n",
    "2.   Access to storage is hard\n",
    "\n",
    "The word \"access\" should get different POS tags based on its role in the sentence\n"
   ]
  },
  {
   "cell_type": "markdown",
   "metadata": {
    "id": "88c9DfoG-GMx"
   },
   "source": [
    "## Get Data"
   ]
  },
  {
   "cell_type": "code",
   "execution_count": 1,
   "metadata": {
    "id": "AGSTJr6I9W2E"
   },
   "outputs": [],
   "source": [
    "import pandas as pd"
   ]
  },
  {
   "cell_type": "code",
   "execution_count": 2,
   "metadata": {
    "colab": {
     "base_uri": "https://localhost:8080/"
    },
    "id": "yaKFaIZrnV_7",
    "outputId": "0976644d-31e9-46d7-d0c9-e9210daad057"
   },
   "outputs": [],
   "source": [
    "!mkdir pos_tagger"
   ]
  },
  {
   "cell_type": "code",
   "execution_count": 3,
   "metadata": {
    "colab": {
     "base_uri": "https://localhost:8080/"
    },
    "id": "AdhJqFi7nalG",
    "outputId": "12a2d411-a3f3-4e3e-aa7f-730bc48a1c1c"
   },
   "outputs": [
    {
     "name": "stdout",
     "output_type": "stream",
     "text": [
      "/home/yashroff/git_repos/nlpwithpytorch/labs/part1/pos_tagger\n"
     ]
    }
   ],
   "source": [
    "cd pos_tagger"
   ]
  },
  {
   "cell_type": "code",
   "execution_count": 4,
   "metadata": {
    "colab": {
     "base_uri": "https://localhost:8080/"
    },
    "id": "-8ZYydVK-Pbe",
    "outputId": "26f62842-aafb-46a4-f9f9-04c109f8186c"
   },
   "outputs": [
    {
     "name": "stdout",
     "output_type": "stream",
     "text": [
      "total 0\n"
     ]
    }
   ],
   "source": [
    "ls -l"
   ]
  },
  {
   "cell_type": "code",
   "execution_count": 5,
   "metadata": {
    "colab": {
     "base_uri": "https://localhost:8080/"
    },
    "id": "wuRNKGcYnkij",
    "outputId": "7c8fd027-4487-47b8-b4bd-386db06fbb16"
   },
   "outputs": [
    {
     "name": "stdout",
     "output_type": "stream",
     "text": [
      "--2021-05-24 02:21:38--  http://www.cnts.ua.ac.be/conll2000/chunking/train.txt.gz\n",
      "Resolving www.cnts.ua.ac.be (www.cnts.ua.ac.be)... 146.175.13.81\n",
      "Connecting to www.cnts.ua.ac.be (www.cnts.ua.ac.be)|146.175.13.81|:80... connected.\n",
      "HTTP request sent, awaiting response... 301 Moved Permanently\n",
      "Location: https://www.clips.uantwerpen.be/conll2000/chunking/train.txt.gz [following]\n",
      "--2021-05-24 02:21:38--  https://www.clips.uantwerpen.be/conll2000/chunking/train.txt.gz\n",
      "Resolving www.clips.uantwerpen.be (www.clips.uantwerpen.be)... 146.175.13.81\n",
      "Connecting to www.clips.uantwerpen.be (www.clips.uantwerpen.be)|146.175.13.81|:443... connected.\n",
      "HTTP request sent, awaiting response... 200 OK\n",
      "Length: 611540 (597K) [application/x-gzip]\n",
      "Saving to: 'STDOUT'\n",
      "\n",
      "-                   100%[===================>] 597.21K   492KB/s    in 1.2s    \n",
      "\n",
      "2021-05-24 02:21:40 (492 KB/s) - written to stdout [611540/611540]\n",
      "\n"
     ]
    }
   ],
   "source": [
    "!wget http://www.cnts.ua.ac.be/conll2000/chunking/train.txt.gz -O - | gunzip | cut -f1,2 -d\" \" > pos.train.txt"
   ]
  },
  {
   "cell_type": "code",
   "execution_count": 6,
   "metadata": {
    "colab": {
     "base_uri": "https://localhost:8080/"
    },
    "id": "w_JKPgwcnm2a",
    "outputId": "f83a989f-db25-42df-f41c-ce819af102fa"
   },
   "outputs": [
    {
     "name": "stdout",
     "output_type": "stream",
     "text": [
      "--2021-05-24 02:21:42--  http://www.cnts.ua.ac.be/conll2000/chunking/test.txt.gz\n",
      "Resolving www.cnts.ua.ac.be (www.cnts.ua.ac.be)... 146.175.13.81\n",
      "Connecting to www.cnts.ua.ac.be (www.cnts.ua.ac.be)|146.175.13.81|:80... connected.\n",
      "HTTP request sent, awaiting response... 301 Moved Permanently\n",
      "Location: https://www.clips.uantwerpen.be/conll2000/chunking/test.txt.gz [following]\n",
      "--2021-05-24 02:21:43--  https://www.clips.uantwerpen.be/conll2000/chunking/test.txt.gz\n",
      "Resolving www.clips.uantwerpen.be (www.clips.uantwerpen.be)... 146.175.13.81\n",
      "Connecting to www.clips.uantwerpen.be (www.clips.uantwerpen.be)|146.175.13.81|:443... connected.\n",
      "HTTP request sent, awaiting response... 200 OK\n",
      "Length: 139551 (136K) [application/x-gzip]\n",
      "Saving to: 'STDOUT'\n",
      "\n",
      "-                   100%[===================>] 136.28K   262KB/s    in 0.5s    \n",
      "\n",
      "2021-05-24 02:21:44 (262 KB/s) - written to stdout [139551/139551]\n",
      "\n"
     ]
    }
   ],
   "source": [
    "!wget http://www.cnts.ua.ac.be/conll2000/chunking/test.txt.gz -O - | gunzip | cut -f1,2 -d \" \" > pos.test.txt"
   ]
  },
  {
   "cell_type": "code",
   "execution_count": 7,
   "metadata": {
    "colab": {
     "base_uri": "https://localhost:8080/"
    },
    "id": "BmBKz9QrpP-C",
    "outputId": "904ead00-5434-48f9-824d-00468e0cf797"
   },
   "outputs": [
    {
     "name": "stdout",
     "output_type": "stream",
     "text": [
      "Confidence NN\n",
      "in IN\n",
      "the DT\n",
      "pound NN\n",
      "is VBZ\n",
      "widely RB\n",
      "expected VBN\n",
      "to TO\n",
      "take VB\n",
      "another DT\n",
      "sharp JJ\n",
      "dive NN\n",
      "if IN\n",
      "trade NN\n",
      "figures NNS\n",
      "for IN\n",
      "September NNP\n",
      ", ,\n",
      "due JJ\n",
      "for IN\n",
      "release NN\n",
      "tomorrow NN\n",
      ", ,\n",
      "fail VB\n",
      "to TO\n",
      "show VB\n",
      "a DT\n",
      "substantial JJ\n",
      "improvement NN\n",
      "from IN\n",
      "July NNP\n",
      "and CC\n",
      "August NNP\n",
      "'s POS\n",
      "near-record JJ\n",
      "deficits NNS\n",
      ". .\n",
      "\n",
      "Chancellor NNP\n",
      "of IN\n"
     ]
    }
   ],
   "source": [
    "!head -40 pos.train.txt"
   ]
  },
  {
   "cell_type": "code",
   "execution_count": 8,
   "metadata": {
    "id": "qe7gv-7prbm-"
   },
   "outputs": [],
   "source": [
    "def get_sentence_pairs(f):\n",
    "  df = pd.read_csv(f, sep=\" \")\n",
    "  sentences = []\n",
    "  pos_tags = []\n",
    "  s = []\n",
    "  p = []\n",
    "  for _, row in df.iterrows():\n",
    "    if row[0] == '.':\n",
    "      sentences.append(s)\n",
    "      pos_tags.append(p)\n",
    "      s = []; p = []\n",
    "      continue\n",
    "    elif row[0] != '':\n",
    "      s.append(row[0])\n",
    "      p.append(row[1])\n",
    "  return sentences, pos_tags"
   ]
  },
  {
   "cell_type": "code",
   "execution_count": 9,
   "metadata": {
    "id": "ad69QfcRrqzZ"
   },
   "outputs": [],
   "source": [
    "sentences, pos_tags = get_sentence_pairs(\"pos.train.txt\")\n"
   ]
  },
  {
   "cell_type": "code",
   "execution_count": 10,
   "metadata": {
    "colab": {
     "base_uri": "https://localhost:8080/"
    },
    "id": "f1fFWX0at9wX",
    "outputId": "f3e39acb-b362-4996-eab2-0b823f7d4419"
   },
   "outputs": [
    {
     "data": {
      "text/plain": [
       "(8725, 8725)"
      ]
     },
     "execution_count": 10,
     "metadata": {},
     "output_type": "execute_result"
    }
   ],
   "source": [
    "len(sentences), len(pos_tags)"
   ]
  },
  {
   "cell_type": "code",
   "execution_count": 11,
   "metadata": {
    "id": "zudEDlBWtGxz"
   },
   "outputs": [],
   "source": [
    "for i in range(len(sentences)):\n",
    "    assert len(sentences[i]) == len(pos_tags[i])"
   ]
  },
  {
   "cell_type": "code",
   "execution_count": null,
   "metadata": {
    "id": "GU3S0Tyz_lU8"
   },
   "outputs": [],
   "source": []
  },
  {
   "cell_type": "markdown",
   "metadata": {
    "id": "VpqVhIP2_mGh"
   },
   "source": [
    "## Your code starts here\n",
    "\n",
    "#### sequence to sequence models\n",
    "1.   encoder and decoder transformers  https://pytorch.org/tutorials/beginner/transformer_tutorial.html\n",
    "\n"
   ]
  },
  {
   "cell_type": "code",
   "execution_count": 42,
   "metadata": {
    "id": "SDACn6jXtG56"
   },
   "outputs": [],
   "source": []
  },
  {
   "cell_type": "code",
   "execution_count": 41,
   "metadata": {
    "id": "q34FkoANnwf5"
   },
   "outputs": [],
   "source": []
  },
  {
   "cell_type": "code",
   "execution_count": null,
   "metadata": {
    "id": "jtkiaVOGoHIG"
   },
   "outputs": [],
   "source": []
  }
 ],
 "metadata": {
  "colab": {
   "collapsed_sections": [],
   "name": "pos_tagging.ipynb",
   "provenance": []
  },
  "kernelspec": {
   "display_name": "Python 3",
   "language": "python",
   "name": "python3"
  },
  "language_info": {
   "codemirror_mode": {
    "name": "ipython",
    "version": 3
   },
   "file_extension": ".py",
   "mimetype": "text/x-python",
   "name": "python",
   "nbconvert_exporter": "python",
   "pygments_lexer": "ipython3",
   "version": "3.8.2"
  }
 },
 "nbformat": 4,
 "nbformat_minor": 4
}
